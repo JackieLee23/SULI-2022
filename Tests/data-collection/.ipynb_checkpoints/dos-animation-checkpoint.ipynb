{
 "cells": [
  {
   "cell_type": "code",
   "execution_count": 1,
   "id": "ba4f3cbe",
   "metadata": {},
   "outputs": [
    {
     "name": "stdout",
     "output_type": "stream",
     "text": [
      "/project/wyin/jlee/ml-project/Tests/data-collection\n"
     ]
    }
   ],
   "source": [
    "from __future__ import print_function\n",
    "from ipywidgets import interact, interactive, fixed, interact_manual\n",
    "import ipywidgets as widgets\n",
    "import numpy as np\n",
    "import matplotlib.pyplot as plt\n",
    "import os\n",
    "from os import path\n",
    "print(os.getcwd())"
   ]
  },
  {
   "cell_type": "code",
   "execution_count": 2,
   "id": "9d84dcc5",
   "metadata": {},
   "outputs": [],
   "source": [
    "root = '/project/wyin/jlee/ml-project'\n",
    "data_loc = path.join(root, 'data-collection/full-dataset/data/')"
   ]
  },
  {
   "cell_type": "code",
   "execution_count": 12,
   "id": "e542d590",
   "metadata": {},
   "outputs": [
    {
     "name": "stdout",
     "output_type": "stream",
     "text": [
      "t1: -0.5\n",
      "t1: -0.48\n",
      "t1: -0.46\n",
      "t1: -0.44\n",
      "t1: -0.42\n",
      "t1: -0.4\n",
      "t1: -0.38\n",
      "t1: -0.36\n",
      "t1: -0.33999999999999997\n",
      "t1: -0.32\n",
      "t1: -0.3\n",
      "t1: -0.28\n",
      "t1: -0.26\n",
      "t1: -0.24\n",
      "t1: -0.21999999999999997\n",
      "t1: -0.2\n",
      "t1: -0.18\n",
      "t1: -0.15999999999999998\n",
      "t1: -0.14\n",
      "t1: -0.12\n",
      "t1: -0.09999999999999998\n",
      "t1: -0.08000000000000002\n",
      "t1: -0.06\n",
      "t1: -0.03999999999999998\n",
      "t1: -0.020000000000000018\n",
      "t1: 0.0\n",
      "t1: 0.020000000000000018\n",
      "t1: 0.040000000000000036\n",
      "t1: 0.06000000000000005\n",
      "t1: 0.07999999999999996\n",
      "t1: 0.09999999999999998\n",
      "t1: 0.12\n",
      "t1: 0.14\n",
      "t1: 0.16000000000000003\n",
      "t1: 0.18000000000000005\n",
      "t1: 0.20000000000000007\n",
      "t1: 0.21999999999999997\n",
      "t1: 0.24\n",
      "t1: 0.26\n",
      "t1: 0.28\n",
      "t1: 0.30000000000000004\n",
      "t1: 0.32000000000000006\n",
      "t1: 0.33999999999999997\n",
      "t1: 0.36\n",
      "t1: 0.38\n",
      "t1: 0.4\n",
      "t1: 0.42000000000000004\n",
      "t1: 0.44000000000000006\n",
      "t1: 0.45999999999999996\n",
      "t1: 0.48\n",
      "t1: 0.5\n"
     ]
    }
   ],
   "source": [
    "dos_dict = {}\n",
    "for t1 in np.linspace(-0.50, 0.50, 51):\n",
    "    print(f't1: {t1}')\n",
    "    for t2 in np.linspace(-0.50, 0.50, 51):\n",
    "        for j in np.linspace(0.2, 1.0, 51):\n",
    "            dos_dict[(t1, t2, j)] = np.loadtxt(os.path.join(data_loc, f'param_{t1:.2f}_{t2:.2f}_{j:.3f}', 'dos.dat'))"
   ]
  },
  {
   "cell_type": "code",
   "execution_count": 17,
   "id": "b729056f",
   "metadata": {},
   "outputs": [
    {
     "name": "stdout",
     "output_type": "stream",
     "text": [
      "[[-6.00e+00  1.25e-03]\n",
      " [-5.99e+00  1.25e-03]\n",
      " [-5.98e+00  1.26e-03]\n",
      " ...\n",
      " [ 5.98e+00  5.40e-03]\n",
      " [ 5.99e+00  5.30e-03]\n",
      " [ 6.00e+00  5.20e-03]]\n"
     ]
    }
   ],
   "source": [
    "print(dos_dict[(-0.5, 0.5, 1.0)])"
   ]
  },
  {
   "cell_type": "code",
   "execution_count": 4,
   "id": "265814d0",
   "metadata": {},
   "outputs": [],
   "source": [
    "def plot_arpes(ax, file_path, k_path, x1, y1, x2, y2):\n",
    "    arpes = np.loadtxt(path.join(file_path, f'arpes{k_path}.dat'))\n",
    "    k_num = arpes.shape[1] - 1\n",
    "    w = arpes[:,0]\n",
    "    k = np.arange(0, k_num)\n",
    "\n",
    "    K, W = np.meshgrid(k,w)\n",
    "    intensity = arpes[:,1:]\n",
    "    c = ax.pcolormesh(K, W, intensity, cmap=plt.cm.get_cmap('Greys_r'))\n",
    "    plt.colorbar(c, ax=ax)\n",
    "    \n",
    "    ax.set_title(k_path)\n",
    "    ax.set_xlabel('K')\n",
    "    ax.set_ylabel('W')\n",
    "    \n",
    "    #Create xticks\n",
    "    tick_pos = np.linspace(0, k_num - 1, 4)\n",
    "\n",
    "    kx = x1 + (x2 - x1) * tick_pos / (k_num - 1)\n",
    "    ky = y1 + (y2 - y1) * tick_pos / (k_num - 1)\n",
    "    \n",
    "    tick_labels = [f'({x:.2f}, {y:.2f})' for (x, y) in zip(kx, ky)]\n",
    "    \n",
    "    ax.set_xticks(tick_pos)\n",
    "    ax.set_xticklabels(tick_labels)\n",
    "    \n",
    "def plot_dos(ax, file_path):\n",
    "    dos = np.loadtxt(os.path.join(file_path, 'dos.dat'))\n",
    "    ax.set_ylim([0, 1.5])\n",
    "    ax.plot(dos[:,0], dos[:,1])"
   ]
  },
  {
   "cell_type": "code",
   "execution_count": 9,
   "id": "79e65d38",
   "metadata": {},
   "outputs": [
    {
     "data": {
      "application/vnd.jupyter.widget-view+json": {
       "model_id": "cf57c3d7dbec46c9b579b1c1628a3fba",
       "version_major": 2,
       "version_minor": 0
      },
      "text/plain": [
       "interactive(children=(FloatSlider(value=0.0, description='t1', max=0.5, min=-0.5, step=0.02), FloatSlider(valu…"
      ]
     },
     "metadata": {},
     "output_type": "display_data"
    },
    {
     "data": {
      "text/plain": [
       "<function __main__.plot_all(t1, t2, j)>"
      ]
     },
     "execution_count": 9,
     "metadata": {},
     "output_type": "execute_result"
    }
   ],
   "source": [
    "def plot_all(t1, t2, j):\n",
    "    fig, ax = plt.subplots(2, 2, figsize=(15, 10))\n",
    "    file_path = os.path.join(data_loc, f'param_{t1:.2f}_{t2:.2f}_{j:.3f}')\n",
    "    \n",
    "    plot_dos(ax[0][0], file_path)\n",
    "    plot_arpes(ax[0][1], file_path, '00-10', 0, 0, np.pi, 0)\n",
    "    plot_arpes(ax[1][0], file_path, '00-11', 0, 0, np.pi, np.pi)\n",
    "    plot_arpes(ax[1][1], file_path, '11-10', np.pi, np.pi, np.pi, 0)\n",
    "\n",
    "interact(plot_all, t1 = (-0.50, 0.50, 0.02), t2 = (-0.50, 0.50, 0.02), j = (0.2, 1.0, 0.016))"
   ]
  }
 ],
 "metadata": {
  "kernelspec": {
   "display_name": "Python 3 (ipykernel)",
   "language": "python",
   "name": "python3"
  },
  "language_info": {
   "codemirror_mode": {
    "name": "ipython",
    "version": 3
   },
   "file_extension": ".py",
   "mimetype": "text/x-python",
   "name": "python",
   "nbconvert_exporter": "python",
   "pygments_lexer": "ipython3",
   "version": "3.10.4"
  }
 },
 "nbformat": 4,
 "nbformat_minor": 5
}
