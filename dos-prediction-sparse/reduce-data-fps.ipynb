{
 "cells": [
  {
   "cell_type": "code",
   "execution_count": 24,
   "id": "f3e30f5e",
   "metadata": {},
   "outputs": [],
   "source": [
    "import numpy as np\n",
    "import matplotlib.pyplot as plt\n",
    "import os\n",
    "import sys\n",
    "root = \"/project/wyin/jlee/ml-project/\"\n",
    "util_loc = os.path.join(root, \"utils\")\n",
    "data_loc = os.path.join(root, \"dos-prediction-full/data\")\n",
    "sys.path.append(util_loc)\n",
    "from utilities import UnscaledData, ScaledData\n",
    "import pickle\n",
    "import time"
   ]
  },
  {
   "cell_type": "code",
   "execution_count": 17,
   "id": "a78865cb",
   "metadata": {},
   "outputs": [
    {
     "name": "stdout",
     "output_type": "stream",
     "text": [
      "106120\n"
     ]
    }
   ],
   "source": [
    "scaled_data = ScaledData(data_loc, X_name = \"params\", y_name = \"dos\")\n",
    "unscaled_data = UnscaledData(data_loc, X_name = \"params\", y_name = \"dos\")\n",
    "train_X_scaled = scaled_data.train_X\n",
    "train_y_scaled = scaled_data.train_y\n",
    "\n",
    "train_X_unscaled = unscaled_data.train_X\n",
    "train_y_unscaled = unscaled_data.train_y\n",
    "\n",
    "n_train = len(train_X_scaled)\n",
    "print(n_train)"
   ]
  },
  {
   "cell_type": "code",
   "execution_count": 30,
   "id": "1ebf275d",
   "metadata": {},
   "outputs": [
    {
     "name": "stdout",
     "output_type": "stream",
     "text": [
      "15.803268047676664\n",
      "6.843284606933594\n"
     ]
    }
   ],
   "source": [
    "#Furthest points sampling with scaled distance\n",
    "start = time.time()\n",
    "used = np.full(n_train, False)\n",
    "train_X_fps = [train_X_unscaled[0]]\n",
    "train_y_fps = [train_y_unscaled[0]]\n",
    "\n",
    "point = train_X_scaled[0]\n",
    "index = 0\n",
    "used[0] = True\n",
    "\n",
    "for i in range(10):\n",
    "    mx = 0\n",
    "    mx_ind = -1\n",
    "    for j, new_point in enumerate(train_X_scaled):\n",
    "        if used[j]: continue\n",
    "        \n",
    "        dist = np.sum((new_point - point)**2)\n",
    "        if dist > mx:\n",
    "            mx_ind = j\n",
    "            mx = dist\n",
    "            \n",
    "    point = train_X_scaled[mx_ind]\n",
    "    used[mx_ind] = True\n",
    "    \n",
    "    train_X_fps.append(train_X_unscaled[mx_ind])\n",
    "    train_y_fps.append(train_y_unscaled[mx_ind])\n",
    "    \n",
    "    if i % 100 == 0:\n",
    "        print(mx)\n",
    "    \n",
    "train_X_fps = np.array(train_X_fps)\n",
    "train_y_fps = np.array(train_y_fps)\n",
    "\n",
    "print(time.time() - start)"
   ]
  },
  {
   "cell_type": "code",
   "execution_count": 31,
   "id": "868a52b9",
   "metadata": {},
   "outputs": [
    {
     "name": "stdout",
     "output_type": "stream",
     "text": [
      "[[ 0.06  -0.12   0.856]\n",
      " [-0.5    0.5    0.2  ]\n",
      " [ 0.5   -0.5    1.   ]\n",
      " [-0.5    0.5    0.216]\n",
      " [ 0.5   -0.5    0.984]\n",
      " [-0.5    0.48   0.2  ]\n",
      " [ 0.48  -0.5    1.   ]\n",
      " [-0.48   0.5    0.2  ]\n",
      " [ 0.48  -0.5    0.984]\n",
      " [-0.5    0.5    0.232]\n",
      " [ 0.5   -0.48   0.984]]\n"
     ]
    }
   ],
   "source": [
    "print(train_X_fps)"
   ]
  }
 ],
 "metadata": {
  "kernelspec": {
   "display_name": "Python 3 (ipykernel)",
   "language": "python",
   "name": "python3"
  },
  "language_info": {
   "codemirror_mode": {
    "name": "ipython",
    "version": 3
   },
   "file_extension": ".py",
   "mimetype": "text/x-python",
   "name": "python",
   "nbconvert_exporter": "python",
   "pygments_lexer": "ipython3",
   "version": "3.10.4"
  }
 },
 "nbformat": 4,
 "nbformat_minor": 5
}
