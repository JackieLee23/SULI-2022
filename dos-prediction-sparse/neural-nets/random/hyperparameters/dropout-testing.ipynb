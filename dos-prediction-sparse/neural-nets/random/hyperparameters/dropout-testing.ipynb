{
 "cells": [
  {
   "cell_type": "code",
   "execution_count": 5,
   "id": "e7c2a172",
   "metadata": {},
   "outputs": [],
   "source": [
    "import numpy as np\n",
    "import matplotlib.pyplot as plt\n",
    "import torch\n",
    "import torch.nn as nn\n",
    "import pytorch_lightning as pl\n",
    "from pytorch_lightning import Trainer\n",
    "from pytorch_lightning.loggers import TensorBoardLogger\n",
    "import sys\n",
    "import os\n",
    "import torch.nn.functional as F\n",
    "root = \"/project/wyin/jlee/ml-project/dos-prediction-sparse\"\n",
    "util_loc = os.path.join(root, \"utils\")\n",
    "data_loc = os.path.join(root, \"data/random\")\n",
    "sys.path.append(util_loc)\n",
    "from utilities import DosDataModule\n",
    "import pickle"
   ]
  },
  {
   "cell_type": "code",
   "execution_count": 6,
   "id": "b1abeb2a",
   "metadata": {},
   "outputs": [],
   "source": [
    "class LitNeuralNet(pl.LightningModule):\n",
    "    def __init__(self, layer_sizes, lr = 0.01, factor = 0.0, dropout = 0.0):\n",
    "        super(LitNeuralNet, self).__init__()\n",
    "        \n",
    "        modules = []\n",
    "        for i in range(len(layer_sizes) - 1):\n",
    "            modules.append(nn.Linear(layer_sizes[i], layer_sizes[i + 1]))\n",
    "            \n",
    "            if i != len(layer_sizes) - 2:\n",
    "                modules.append(nn.ReLU())\n",
    "                modules.append(nn.Dropout(dropout))\n",
    "        \n",
    "        self.forward_prop = nn.Sequential(*modules)\n",
    "        self.learning_rate = lr\n",
    "        self.factor = factor\n",
    "        self.save_hyperparameters()\n",
    "    \n",
    "    def training_step(self, batch, batch_idx):\n",
    "        params, dos = batch\n",
    "        \n",
    "        # Forward pass\n",
    "        predicted = self.forward_prop(params)\n",
    "        loss = F.mse_loss(predicted, dos)\n",
    "        \n",
    "        #log to tensorboard\n",
    "        self.log(\"train_loss\", loss)\n",
    "        return loss\n",
    "    \n",
    "    def validation_step(self, batch, batch_idx):\n",
    "        params, dos = batch\n",
    "        \n",
    "        # Forward pass\n",
    "        predicted = self.forward_prop(params)\n",
    "        loss = F.mse_loss(predicted, dos)\n",
    "        \n",
    "        #log to tensorboard\n",
    "        self.log(\"val_loss\", loss)\n",
    "        return loss\n",
    "        \n",
    "    def configure_optimizers(self):\n",
    "        optimizer = torch.optim.Adam(self.parameters(), lr=self.learning_rate)\n",
    "        if self.factor == 0.0:\n",
    "            return optimizer\n",
    "        \n",
    "        else:\n",
    "            optimizer = torch.optim.Adam(self.parameters(), lr=self.learning_rate)\n",
    "            sch = torch.optim.lr_scheduler.ReduceLROnPlateau(optimizer, mode='min', factor=self.factor, min_lr = 1e-7)\n",
    "            return {\n",
    "                \"optimizer\":optimizer,\n",
    "                \"lr_scheduler\" : {\n",
    "                    \"scheduler\" : sch,\n",
    "                    \"monitor\" : \"train_loss\",\n",
    "\n",
    "                }\n",
    "            }"
   ]
  },
  {
   "cell_type": "code",
   "execution_count": 8,
   "id": "81fbdba4",
   "metadata": {},
   "outputs": [
    {
     "name": "stderr",
     "output_type": "stream",
     "text": [
      "GPU available: False, used: False\n",
      "TPU available: False, using: 0 TPU cores\n",
      "IPU available: False, using: 0 IPUs\n",
      "HPU available: False, using: 0 HPUs\n",
      "Missing logger folder: logs/drop-test-1/[3, 512, 512, 512, 512, 512, 512, 512, 301],0.001,256,0.5,0.05\n",
      "\n",
      "  | Name         | Type       | Params\n",
      "--------------------------------------------\n",
      "0 | forward_prop | Sequential | 1.7 M \n",
      "--------------------------------------------\n",
      "1.7 M     Trainable params\n",
      "0         Non-trainable params\n",
      "1.7 M     Total params\n",
      "6.930     Total estimated model params size (MB)\n",
      "/home/wyin/.conda/envs/ML-env/lib/python3.10/site-packages/pytorch_lightning/trainer/connectors/data_connector.py:240: PossibleUserWarning: The dataloader, train_dataloader, does not have many workers which may be a bottleneck. Consider increasing the value of the `num_workers` argument` (try 40 which is the number of cpus on this machine) in the `DataLoader` init to improve performance.\n",
      "  rank_zero_warn(\n",
      "/home/wyin/.conda/envs/ML-env/lib/python3.10/site-packages/pytorch_lightning/trainer/trainer.py:1933: PossibleUserWarning: The number of training batches (5) is smaller than the logging interval Trainer(log_every_n_steps=50). Set a lower value for log_every_n_steps if you want to see logs for the training epoch.\n",
      "  rank_zero_warn(\n",
      "Time limit reached. Elapsed time is 0:05:00. Signaling Trainer to stop.\n"
     ]
    }
   ],
   "source": [
    "#######Set changed hyperparemter(s) here###############\n",
    "layer_sizes = [3, 512, 512, 512, 512, 512, 512, 512, 301]\n",
    "learning_rate = 0.001\n",
    "batch_size = 256\n",
    "schedule_factor = 0.5\n",
    "dropout = 0.05\n",
    "max_time = \"00:00:05:00\"\n",
    "log_name = \"drop-test-1\"\n",
    "\n",
    "dos_data = DosDataModule(data_loc, batch_size)\n",
    "logger = TensorBoardLogger(f'logs/{log_name}', name = f'{layer_sizes},{learning_rate},{batch_size},{schedule_factor},{dropout}')\n",
    "trainer = pl.Trainer(enable_checkpointing=False, max_time=max_time, logger = logger, enable_progress_bar = False)\n",
    "model = LitNeuralNet(layer_sizes, lr = learning_rate, factor = schedule_factor, dropout = dropout)\n",
    "trainer.fit(model, datamodule=dos_data)"
   ]
  },
  {
   "cell_type": "code",
   "execution_count": 10,
   "id": "4edc2866",
   "metadata": {},
   "outputs": [
    {
     "name": "stderr",
     "output_type": "stream",
     "text": [
      "GPU available: False, used: False\n",
      "TPU available: False, using: 0 TPU cores\n",
      "IPU available: False, using: 0 IPUs\n",
      "HPU available: False, using: 0 HPUs\n",
      "Missing logger folder: logs/drop-test-1/[3, 512, 512, 512, 512, 512, 512, 512, 301],0.001,256,0.5,0.01\n",
      "\n",
      "  | Name         | Type       | Params\n",
      "--------------------------------------------\n",
      "0 | forward_prop | Sequential | 1.7 M \n",
      "--------------------------------------------\n",
      "1.7 M     Trainable params\n",
      "0         Non-trainable params\n",
      "1.7 M     Total params\n",
      "6.930     Total estimated model params size (MB)\n",
      "Time limit reached. Elapsed time is 0:05:00. Signaling Trainer to stop.\n"
     ]
    }
   ],
   "source": [
    "#######Set changed hyperparemter(s) here###############\n",
    "layer_sizes = [3, 512, 512, 512, 512, 512, 512, 512, 301]\n",
    "learning_rate = 0.001\n",
    "batch_size = 256\n",
    "schedule_factor = 0.5\n",
    "dropout = 0.01\n",
    "max_time = \"00:00:05:00\"\n",
    "log_name = \"drop-test-1\"\n",
    "\n",
    "dos_data = DosDataModule(data_loc, batch_size)\n",
    "logger = TensorBoardLogger(f'logs/{log_name}', name = f'{layer_sizes},{learning_rate},{batch_size},{schedule_factor},{dropout}')\n",
    "trainer = pl.Trainer(enable_checkpointing=False, max_time=max_time, logger = logger, enable_progress_bar = False)\n",
    "model = LitNeuralNet(layer_sizes, lr = learning_rate, factor = schedule_factor, dropout = dropout)\n",
    "trainer.fit(model, datamodule=dos_data)"
   ]
  }
 ],
 "metadata": {
  "kernelspec": {
   "display_name": "Python 3 (ipykernel)",
   "language": "python",
   "name": "python3"
  },
  "language_info": {
   "codemirror_mode": {
    "name": "ipython",
    "version": 3
   },
   "file_extension": ".py",
   "mimetype": "text/x-python",
   "name": "python",
   "nbconvert_exporter": "python",
   "pygments_lexer": "ipython3",
   "version": "3.10.4"
  }
 },
 "nbformat": 4,
 "nbformat_minor": 5
}
