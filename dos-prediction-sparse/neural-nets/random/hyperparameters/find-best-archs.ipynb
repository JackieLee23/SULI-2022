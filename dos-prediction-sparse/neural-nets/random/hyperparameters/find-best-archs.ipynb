{
 "cells": [
  {
   "cell_type": "code",
   "execution_count": 1,
   "id": "23f77808",
   "metadata": {},
   "outputs": [
    {
     "name": "stdout",
     "output_type": "stream",
     "text": [
      "/project/wyin/jlee/ml-project/dos-prediction-sparse/neural-nets/random/hyperparameters\n"
     ]
    }
   ],
   "source": [
    "from packaging import version\n",
    "import numpy as np\n",
    "import pandas as pd\n",
    "import os\n",
    "import tensorboard as tb\n",
    "import pickle\n",
    "print(os.getcwd())\n",
    "val_end_path = \"/project/wyin/jlee/ml-project/dos-prediction-sparse/neural-nets/random/hyperparameters/val-ends/long-arch-search-2\""
   ]
  },
  {
   "cell_type": "code",
   "execution_count": 2,
   "id": "5330a5e8",
   "metadata": {},
   "outputs": [],
   "source": [
    "errors = []\n",
    "for file in os.listdir(val_end_path):\n",
    "    if file != \".ipynb_checkpoints\":\n",
    "        file_loc = os.path.join(val_end_path, file)\n",
    "        x = pickle.load(open(file_loc, \"rb\"))\n",
    "        errors.append((x[0]['val_loss'], file))"
   ]
  },
  {
   "cell_type": "code",
   "execution_count": 3,
   "id": "15be6290",
   "metadata": {},
   "outputs": [
    {
     "name": "stdout",
     "output_type": "stream",
     "text": [
      "12\n"
     ]
    }
   ],
   "source": [
    "errors = sorted(errors, key = lambda x : x[0])\n",
    "print(len(errors))"
   ]
  },
  {
   "cell_type": "code",
   "execution_count": 4,
   "id": "a08b8e57",
   "metadata": {},
   "outputs": [
    {
     "name": "stdout",
     "output_type": "stream",
     "text": [
      "[3, 204, 408, 612, 816, 1020, 301],\n",
      "[3, 128, 256, 384, 512, 640, 768, 896, 1024, 301],\n",
      "[3, 256, 512, 768, 1024, 301],\n",
      "[3, 64, 128, 256, 512, 1024, 301],\n",
      "[3, 512, 512, 512, 512, 512, 512, 512, 301],\n",
      "[3, 1024, 1024, 1024, 1024, 301],\n",
      "[3, 146, 292, 438, 584, 730, 876, 1022, 301],\n",
      "[3, 512, 512, 512, 512, 512, 512, 301],\n",
      "[3, 32, 64, 128, 256, 512, 1024, 301],\n",
      "[3, 512, 512, 512, 512, 512, 301],\n",
      "[3, 128, 256, 512, 1024, 301],\n",
      "[3, 512, 512, 512, 512, 301],\n"
     ]
    }
   ],
   "source": [
    "for pair in errors[:12]:\n",
    "    \n",
    "    print(pair[1].rpartition(']')[0] + '],')\n",
    "    \n",
    "    #pair[1].rpartition(']')[0] + '],'"
   ]
  }
 ],
 "metadata": {
  "kernelspec": {
   "display_name": "Python 3 (ipykernel)",
   "language": "python",
   "name": "python3"
  },
  "language_info": {
   "codemirror_mode": {
    "name": "ipython",
    "version": 3
   },
   "file_extension": ".py",
   "mimetype": "text/x-python",
   "name": "python",
   "nbconvert_exporter": "python",
   "pygments_lexer": "ipython3",
   "version": "3.10.4"
  }
 },
 "nbformat": 4,
 "nbformat_minor": 5
}
