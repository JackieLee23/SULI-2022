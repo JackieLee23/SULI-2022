{
 "cells": [
  {
   "cell_type": "code",
   "execution_count": 1,
   "id": "2dd9fc4b",
   "metadata": {},
   "outputs": [],
   "source": [
    "import numpy as np\n",
    "import os\n",
    "data_loc = '/project/wyin/jlee/ml-project/dos-prediction-full/data'"
   ]
  },
  {
   "cell_type": "code",
   "execution_count": 2,
   "id": "0989eedb",
   "metadata": {},
   "outputs": [],
   "source": [
    "train_set = np.load(os.path.join(data_loc, 'train-set.npz'))\n",
    "train_params = train_set['params']\n",
    "train_dos = train_set['dos']\n",
    "\n",
    "num_train = len(train_params)"
   ]
  },
  {
   "cell_type": "code",
   "execution_count": 3,
   "id": "fa8b942f",
   "metadata": {},
   "outputs": [
    {
     "name": "stdout",
     "output_type": "stream",
     "text": [
      "[ 99876  31977  66063  94698 101716  44600  31768  74581  57031  79313\n",
      "  14524   5306  87539  54768  69045]\n",
      "(10612, 3)\n",
      "(10612, 301)\n"
     ]
    }
   ],
   "source": [
    "train_permute = np.random.permutation(num_train)\n",
    "train_params_random = []\n",
    "train_dos_random = []\n",
    "for index in train_permute[:(num_train // 10)]:\n",
    "    train_params_random.append(train_params[index])\n",
    "    train_dos_random.append(train_dos[index])\n",
    "    \n",
    "train_params_random = np.array(train_params_random)\n",
    "train_dos_random = np.array(train_dos_random)\n",
    "\n",
    "print(train_permute[:15])\n",
    "print(train_params_random.shape)\n",
    "print(train_dos_random.shape)"
   ]
  },
  {
   "cell_type": "code",
   "execution_count": 4,
   "id": "94332b92",
   "metadata": {},
   "outputs": [
    {
     "name": "stdout",
     "output_type": "stream",
     "text": [
      "[ True  True  True  True  True  True  True  True  True  True  True  True\n",
      "  True  True  True  True  True  True  True  True  True  True  True  True\n",
      "  True  True  True  True  True  True  True  True  True  True  True  True\n",
      "  True  True  True  True  True  True  True  True  True  True  True  True\n",
      "  True  True  True  True  True  True  True  True  True  True  True  True\n",
      "  True  True  True  True  True  True  True  True  True  True  True  True\n",
      "  True  True  True  True  True  True  True  True  True  True  True  True\n",
      "  True  True  True  True  True  True  True  True  True  True  True  True\n",
      "  True  True  True  True  True  True  True  True  True  True  True  True\n",
      "  True  True  True  True  True  True  True  True  True  True  True  True\n",
      "  True  True  True  True  True  True  True  True  True  True  True  True\n",
      "  True  True  True  True  True  True  True  True  True  True  True  True\n",
      "  True  True  True  True  True  True  True  True  True  True  True  True\n",
      "  True  True  True  True  True  True  True  True  True  True  True  True\n",
      "  True  True  True  True  True  True  True  True  True  True  True  True\n",
      "  True  True  True  True  True  True  True  True  True  True  True  True\n",
      "  True  True  True  True  True  True  True  True  True  True  True  True\n",
      "  True  True  True  True  True  True  True  True  True  True  True  True\n",
      "  True  True  True  True  True  True  True  True  True  True  True  True\n",
      "  True  True  True  True  True  True  True  True  True  True  True  True\n",
      "  True  True  True  True  True  True  True  True  True  True  True  True\n",
      "  True  True  True  True  True  True  True  True  True  True  True  True\n",
      "  True  True  True  True  True  True  True  True  True  True  True  True\n",
      "  True  True  True  True  True  True  True  True  True  True  True  True\n",
      "  True  True  True  True  True  True  True  True  True  True  True  True\n",
      "  True]\n"
     ]
    }
   ],
   "source": [
    "print(train_dos_random[2] == train_dos[66063])"
   ]
  },
  {
   "cell_type": "code",
   "execution_count": 5,
   "id": "33ebf777",
   "metadata": {},
   "outputs": [
    {
     "name": "stdout",
     "output_type": "stream",
     "text": [
      "13265\n"
     ]
    }
   ],
   "source": [
    "val_set = np.load(os.path.join(data_loc, 'val-set.npz'))\n",
    "val_params = val_set['params']\n",
    "val_dos = val_set['dos']\n",
    "\n",
    "num_val = len(val_params)\n",
    "print(num_val)"
   ]
  },
  {
   "cell_type": "code",
   "execution_count": 6,
   "id": "678e3f37",
   "metadata": {},
   "outputs": [
    {
     "name": "stdout",
     "output_type": "stream",
     "text": [
      "[ 3837  8947  6331 11578 10736  7397  7174 10198  4489  2214  4119 10071\n",
      "  2745  1398  5538]\n",
      "(1326, 3)\n",
      "(1326, 301)\n"
     ]
    }
   ],
   "source": [
    "val_permute = np.random.permutation(num_val)\n",
    "val_params_random = []\n",
    "val_dos_random = []\n",
    "for index in val_permute[:(num_val // 10)]:\n",
    "    val_params_random.append(val_params[index])\n",
    "    val_dos_random.append(val_dos[index])\n",
    "    \n",
    "val_params_random = np.array(val_params_random)\n",
    "val_dos_random = np.array(val_dos_random)\n",
    "\n",
    "print(val_permute[:15])\n",
    "print(val_params_random.shape)\n",
    "print(val_dos_random.shape)"
   ]
  },
  {
   "cell_type": "code",
   "execution_count": 7,
   "id": "c62be74d",
   "metadata": {},
   "outputs": [],
   "source": [
    "np.savez('data/random2/train-set', params = train_params_random, dos = train_dos_random)"
   ]
  },
  {
   "cell_type": "code",
   "execution_count": 9,
   "id": "7205acfa",
   "metadata": {},
   "outputs": [
    {
     "name": "stdout",
     "output_type": "stream",
     "text": [
      "(10612, 3)\n",
      "(10612, 301)\n"
     ]
    }
   ],
   "source": [
    "train_set_random = np.load('data/random2/train-set.npz')\n",
    "print(train_set_random['params'].shape)\n",
    "print(train_set_random['dos'].shape)"
   ]
  },
  {
   "cell_type": "code",
   "execution_count": 10,
   "id": "be307094",
   "metadata": {},
   "outputs": [],
   "source": [
    "np.savez('data/random2/val-set', params = val_params_random, dos = val_dos_random)"
   ]
  },
  {
   "cell_type": "code",
   "execution_count": 11,
   "id": "420185d4",
   "metadata": {},
   "outputs": [
    {
     "name": "stdout",
     "output_type": "stream",
     "text": [
      "(1326, 3)\n",
      "(1326, 301)\n"
     ]
    }
   ],
   "source": [
    "val_set_random = np.load('data/random2/val-set.npz')\n",
    "print(val_set_random['params'].shape)\n",
    "print(val_set_random['dos'].shape)"
   ]
  }
 ],
 "metadata": {
  "kernelspec": {
   "display_name": "Python 3 (ipykernel)",
   "language": "python",
   "name": "python3"
  },
  "language_info": {
   "codemirror_mode": {
    "name": "ipython",
    "version": 3
   },
   "file_extension": ".py",
   "mimetype": "text/x-python",
   "name": "python",
   "nbconvert_exporter": "python",
   "pygments_lexer": "ipython3",
   "version": "3.10.4"
  }
 },
 "nbformat": 4,
 "nbformat_minor": 5
}
