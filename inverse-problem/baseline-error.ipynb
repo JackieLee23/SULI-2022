{
 "cells": [
  {
   "cell_type": "code",
   "execution_count": 1,
   "id": "be98e900",
   "metadata": {},
   "outputs": [
    {
     "name": "stdout",
     "output_type": "stream",
     "text": [
      "/project/wyin/jlee/ml-project/inverse-problem\n"
     ]
    }
   ],
   "source": [
    "import numpy as np\n",
    "import pandas as pd\n",
    "import os\n",
    "from os import path\n",
    "import matplotlib.pyplot as plt\n",
    "print(os.getcwd())"
   ]
  },
  {
   "cell_type": "code",
   "execution_count": 9,
   "id": "61f721f9",
   "metadata": {},
   "outputs": [],
   "source": [
    "def get_mse(data):\n",
    "    means = np.mean(data, axis = 0)\n",
    "    print(means)\n",
    "    full_means = np.tile(means, (data.shape[0],1))\n",
    "    \n",
    "    errors = (data - full_means) ** 2\n",
    "    spectrum_errors = np.mean(errors, axis = 1) #mse for every spectrum\n",
    "        \n",
    "    return np.mean(spectrum_errors), np.std(spectrum_errors)"
   ]
  },
  {
   "cell_type": "code",
   "execution_count": 6,
   "id": "9c827154",
   "metadata": {},
   "outputs": [],
   "source": [
    "test_set = np.load('data/test-set.npz')\n",
    "test_params = test_set['params']\n",
    "test_dos = test_set['dos']\n",
    "\n",
    "train_set = np.load('data/train-set.npz')\n",
    "train_params = train_set['params']\n",
    "train_dos = train_set['dos']"
   ]
  },
  {
   "cell_type": "code",
   "execution_count": 14,
   "id": "e92f7efb",
   "metadata": {},
   "outputs": [
    {
     "name": "stdout",
     "output_type": "stream",
     "text": [
      "[1.55284185e-04 1.78802955e-03 5.97935173e-01]\n",
      "(0.07591950520885789, 0.04002941229232672)\n"
     ]
    }
   ],
   "source": [
    "print(get_mse(test_params))\n"
   ]
  },
  {
   "cell_type": "code",
   "execution_count": null,
   "id": "911feb64",
   "metadata": {},
   "outputs": [],
   "source": []
  }
 ],
 "metadata": {
  "kernelspec": {
   "display_name": "Python 3 (ipykernel)",
   "language": "python",
   "name": "python3"
  },
  "language_info": {
   "codemirror_mode": {
    "name": "ipython",
    "version": 3
   },
   "file_extension": ".py",
   "mimetype": "text/x-python",
   "name": "python",
   "nbconvert_exporter": "python",
   "pygments_lexer": "ipython3",
   "version": "3.10.4"
  }
 },
 "nbformat": 4,
 "nbformat_minor": 5
}
