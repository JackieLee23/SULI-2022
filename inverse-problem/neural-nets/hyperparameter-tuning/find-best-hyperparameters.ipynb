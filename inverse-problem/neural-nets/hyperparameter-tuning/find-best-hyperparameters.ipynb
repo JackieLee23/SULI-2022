{
 "cells": [
  {
   "cell_type": "code",
   "execution_count": 23,
   "id": "116f8af8",
   "metadata": {},
   "outputs": [],
   "source": [
    "from packaging import version\n",
    "import numpy as np\n",
    "import pandas as pd\n",
    "import os\n",
    "import tensorboard as tb\n",
    "import pickle\n",
    "val_end_path = \"/project/wyin/jlee/ml-project/inverse-problem/neural-nets/hyperparameter-tuning/val-ends/long-arch-search-1\""
   ]
  },
  {
   "cell_type": "code",
   "execution_count": 24,
   "id": "1cd2b0a1",
   "metadata": {},
   "outputs": [],
   "source": [
    "errors = []\n",
    "for file in os.listdir(val_end_path):\n",
    "    if file != \".ipynb_checkpoints\":\n",
    "        file_loc = os.path.join(val_end_path, file)\n",
    "        x = pickle.load(open(file_loc, \"rb\"))\n",
    "        errors.append((x[0]['val_loss'], file))"
   ]
  },
  {
   "cell_type": "code",
   "execution_count": 25,
   "id": "0b78a47d",
   "metadata": {},
   "outputs": [],
   "source": [
    "sorted_errors = sorted(errors)"
   ]
  },
  {
   "cell_type": "code",
   "execution_count": 27,
   "id": "8df94332",
   "metadata": {},
   "outputs": [
    {
     "name": "stdout",
     "output_type": "stream",
     "text": [
      "(1.264055640604056e-06, '[301, 256, 256, 256, 256, 256, 256, 3],0.005,1024,0.5')\n",
      "(1.3093977031530812e-06, '[301, 256, 192, 128, 64, 3],0.005,1024,0.5')\n",
      "(1.459602117392933e-06, '[301, 256, 256, 256, 256, 256, 3],0.005,1024,0.5')\n",
      "(1.5673032294216682e-06, '[301, 252, 210, 168, 126, 84, 42, 3],0.005,1024,0.5')\n",
      "(1.7075302594093955e-06, '[301, 255, 170, 85, 3],0.005,1024,0.5')\n",
      "(1.7596772750039236e-06, '[301, 128, 128, 128, 128, 128, 128, 3],0.005,1024,0.5')\n",
      "(1.7771559441825957e-06, '[301, 125, 100, 75, 50, 25, 3],0.005,1024,0.5')\n",
      "(1.8271203998665442e-06, '[301, 128, 128, 128, 128, 3],0.005,1024,0.5')\n",
      "(1.8933598084913683e-06, '[301, 128, 128, 128, 128, 128, 3],0.005,1024,0.5')\n",
      "(1.9498181700328132e-06, '[301, 255, 204, 153, 102, 51, 3],0.005,1024,0.5')\n",
      "(2.143780193364364e-06, '[301, 256, 256, 256, 256, 3],0.005,1024,0.5')\n",
      "(2.298187155247433e-06, '[301, 256, 128, 64, 32, 16, 3],0.005,1024,0.5')\n",
      "(2.313761569894268e-06, '[301, 256, 128, 64, 32, 3],0.005,1024,0.5')\n",
      "(2.3171767224994255e-06, '[301, 128, 128, 128, 3],0.005,1024,0.5')\n",
      "(2.5094630018429598e-06, '[301, 126, 105, 84, 63, 42, 21, 3],0.005,1024,0.5')\n",
      "(2.6642446755431592e-06, '[301, 256, 128, 64, 32, 16, 8, 3],0.005,1024,0.5')\n",
      "(2.759996277745813e-06, '[301, 256, 256, 256, 3],0.005,1024,0.5')\n",
      "(3.06684228235099e-06, '[301, 126, 84, 42, 3],0.005,1024,0.5')\n",
      "(3.1598224268236663e-06, '[301, 256, 128, 64, 3],0.005,1024,0.5')\n",
      "(3.1604688501829514e-06, '[301, 64, 64, 64, 64, 64, 3],0.005,1024,0.5')\n",
      "(3.2011316761781927e-06, '[301, 128, 96, 64, 32, 3],0.005,1024,0.5')\n",
      "(3.29873432747263e-06, '[301, 64, 64, 64, 64, 64, 64, 3],0.005,1024,0.5')\n",
      "(4.005620212410577e-06, '[301, 256, 256, 3],0.005,1024,0.5')\n",
      "(5.137831067258958e-06, '[301, 256, 128, 3],0.005,1024,0.5')\n"
     ]
    }
   ],
   "source": [
    "for pair in sorted_errors[:24]:\n",
    "    print(pair)"
   ]
  }
 ],
 "metadata": {
  "kernelspec": {
   "display_name": "Python 3 (ipykernel)",
   "language": "python",
   "name": "python3"
  },
  "language_info": {
   "codemirror_mode": {
    "name": "ipython",
    "version": 3
   },
   "file_extension": ".py",
   "mimetype": "text/x-python",
   "name": "python",
   "nbconvert_exporter": "python",
   "pygments_lexer": "ipython3",
   "version": "3.10.4"
  }
 },
 "nbformat": 4,
 "nbformat_minor": 5
}
