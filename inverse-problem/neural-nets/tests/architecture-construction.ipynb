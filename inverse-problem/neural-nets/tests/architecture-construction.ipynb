{
 "cells": [
  {
   "cell_type": "code",
   "execution_count": 20,
   "id": "ee437ebc",
   "metadata": {},
   "outputs": [
    {
     "name": "stdout",
     "output_type": "stream",
     "text": [
      "72\n",
      "[[301, 8, 3], [301, 16, 3], [301, 32, 3], [301, 64, 3], [301, 128, 3], [301, 256, 3], [301, 8, 8, 3], [301, 16, 16, 3], [301, 32, 32, 3], [301, 64, 64, 3], [301, 128, 128, 3], [301, 256, 256, 3], [301, 32, 16, 3], [301, 64, 32, 3], [301, 128, 64, 3], [301, 256, 128, 3], [301, 8, 8, 8, 3], [301, 16, 16, 16, 3], [301, 32, 32, 32, 3], [301, 64, 64, 64, 3], [301, 128, 128, 128, 3], [301, 256, 256, 256, 3], [301, 30, 20, 10, 3], [301, 63, 42, 21, 3], [301, 126, 84, 42, 3], [301, 255, 170, 85, 3], [301, 32, 16, 8, 3], [301, 64, 32, 16, 3], [301, 128, 64, 32, 3], [301, 256, 128, 64, 3], [301, 8, 8, 8, 8, 3], [301, 16, 16, 16, 16, 3], [301, 32, 32, 32, 32, 3], [301, 64, 64, 64, 64, 3], [301, 128, 128, 128, 128, 3], [301, 256, 256, 256, 256, 3], [301, 32, 24, 16, 8, 3], [301, 64, 48, 32, 16, 3], [301, 128, 96, 64, 32, 3], [301, 256, 192, 128, 64, 3], [301, 32, 16, 8, 4, 3], [301, 64, 32, 16, 8, 3], [301, 128, 64, 32, 16, 3], [301, 256, 128, 64, 32, 3], [301, 8, 8, 8, 8, 8, 3], [301, 16, 16, 16, 16, 16, 3], [301, 32, 32, 32, 32, 32, 3], [301, 64, 64, 64, 64, 64, 3], [301, 128, 128, 128, 128, 128, 3], [301, 256, 256, 256, 256, 256, 3], [301, 30, 24, 18, 12, 6, 3], [301, 60, 48, 36, 24, 12, 3], [301, 125, 100, 75, 50, 25, 3], [301, 255, 204, 153, 102, 51, 3], [301, 32, 16, 8, 4, 2, 3], [301, 64, 32, 16, 8, 4, 3], [301, 128, 64, 32, 16, 8, 3], [301, 256, 128, 64, 32, 16, 3], [301, 8, 8, 8, 8, 8, 8, 3], [301, 16, 16, 16, 16, 16, 16, 3], [301, 32, 32, 32, 32, 32, 32, 3], [301, 64, 64, 64, 64, 64, 64, 3], [301, 128, 128, 128, 128, 128, 128, 3], [301, 256, 256, 256, 256, 256, 256, 3], [301, 30, 25, 20, 15, 10, 5, 3], [301, 60, 50, 40, 30, 20, 10, 3], [301, 126, 105, 84, 63, 42, 21, 3], [301, 252, 210, 168, 126, 84, 42, 3], [301, 32, 16, 8, 4, 2, 1, 3], [301, 64, 32, 16, 8, 4, 2, 3], [301, 128, 64, 32, 16, 8, 4, 3], [301, 256, 128, 64, 32, 16, 8, 3]]\n"
     ]
    }
   ],
   "source": [
    "architectures = []\n",
    "for n_layers in range (1, 7):\n",
    "    #Uniform architecture\n",
    "    n_neurons = 8\n",
    "    while n_neurons <= 256:\n",
    "        layer_sizes = [n_neurons] * n_layers\n",
    "        n_neurons *= 2\n",
    "        architectures.append(layer_sizes)\n",
    "    \n",
    "    #Linear architecture\n",
    "    if n_layers > 1:\n",
    "        start_neurons = 32\n",
    "        while start_neurons <= 256:\n",
    "            layer_sizes = []\n",
    "            for i in range(n_layers, 0, -1):\n",
    "                layer_sizes.append(i * (start_neurons // n_layers))\n",
    "\n",
    "            start_neurons *= 2\n",
    "            architectures.append(layer_sizes)\n",
    "    \n",
    "    #Exponential architecture\n",
    "    if n_layers > 2:\n",
    "        start_neurons = 32\n",
    "        while start_neurons <= 256:\n",
    "            layer_sizes = [start_neurons]\n",
    "            for i in range(n_layers - 1):\n",
    "                layer_sizes.append(layer_sizes[len(layer_sizes) - 1] // 2)\n",
    "\n",
    "            start_neurons *= 2\n",
    "\n",
    "            architectures.append(layer_sizes)\n",
    "\n",
    "for layer_sizes in architectures:\n",
    "    layer_sizes.insert(0, 301)\n",
    "    layer_sizes.append(3)"
   ]
  },
  {
   "cell_type": "code",
   "execution_count": 7,
   "id": "0c3824c1",
   "metadata": {},
   "outputs": [
    {
     "name": "stdout",
     "output_type": "stream",
     "text": [
      "10\n",
      "9\n",
      "8\n",
      "7\n",
      "6\n",
      "5\n",
      "4\n",
      "3\n",
      "2\n"
     ]
    }
   ],
   "source": []
  }
 ],
 "metadata": {
  "kernelspec": {
   "display_name": "Python 3 (ipykernel)",
   "language": "python",
   "name": "python3"
  },
  "language_info": {
   "codemirror_mode": {
    "name": "ipython",
    "version": 3
   },
   "file_extension": ".py",
   "mimetype": "text/x-python",
   "name": "python",
   "nbconvert_exporter": "python",
   "pygments_lexer": "ipython3",
   "version": "3.10.4"
  }
 },
 "nbformat": 4,
 "nbformat_minor": 5
}
