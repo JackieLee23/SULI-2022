{
 "cells": [
  {
   "cell_type": "code",
   "execution_count": 1,
   "id": "18178eeb",
   "metadata": {},
   "outputs": [
    {
     "name": "stdout",
     "output_type": "stream",
     "text": [
      "/project/wyin/jlee/ml-project/inverse-problem/nearest-neighbors\n"
     ]
    }
   ],
   "source": [
    "import numpy as np\n",
    "import pandas as pd\n",
    "import os\n",
    "from os import path\n",
    "import matplotlib.pyplot as plt\n",
    "from sklearn.preprocessing import StandardScaler\n",
    "from sklearn.neighbors import RadiusNeighborsRegressor, KNeighborsRegressor\n",
    "from sklearn.decomposition import PCA\n",
    "data_loc = '/project/wyin/jlee/ml-project/inverse-problem/data'\n",
    "print(os.getcwd())"
   ]
  },
  {
   "cell_type": "code",
   "execution_count": 2,
   "id": "10a12a78",
   "metadata": {},
   "outputs": [
    {
     "name": "stdout",
     "output_type": "stream",
     "text": [
      "106120\n"
     ]
    }
   ],
   "source": [
    "train_set = np.load(os.path.join(data_loc, 'train-set.npz'))\n",
    "train_params = train_set['params']\n",
    "train_dos = train_set['dos']\n",
    "\n",
    "val_set = np.load(os.path.join(data_loc, 'val-set.npz'))\n",
    "val_params = val_set['params']\n",
    "val_dos = val_set['dos']\n",
    "\n",
    "test_set = np.load(os.path.join(data_loc, 'test-set.npz'))\n",
    "test_params = test_set['params']\n",
    "test_dos = test_set['dos']\n",
    "\n",
    "#With standard scaling\n",
    "scaler = StandardScaler()\n",
    "train_dos_scaled = scaler.fit_transform(train_dos)\n",
    "val_dos_scaled = scaler.transform(val_dos)\n",
    "\n",
    "num_train_points = len(train_params)\n",
    "print(num_train_points)"
   ]
  },
  {
   "cell_type": "code",
   "execution_count": 104,
   "id": "4e536670",
   "metadata": {},
   "outputs": [
    {
     "name": "stdout",
     "output_type": "stream",
     "text": [
      "(106120, 301)\n"
     ]
    },
    {
     "data": {
      "image/png": "[encoded data removed]",
      "text/plain": [
       "<Figure size 432x288 with 1 Axes>"
      ]
     },
     "metadata": {
      "needs_background": "light"
     },
     "output_type": "display_data"
    }
   ],
   "source": [
    "#Simulate distances of a random uniform scatter in high dimensional space\n",
    "num_dims = 301\n",
    "points = np.random.uniform(low = - 12 ** 0.5, high = 12 ** 0.5, size = (num_train_points, num_dims))\n",
    "\n",
    "plt.xlim(0, 60)\n",
    "distances = []\n",
    "for point in points[1:]:\n",
    "    distance = (np.sum((point - points[0])**2))**0.5\n",
    "    distances.append(distance)\n",
    "\n",
    "distances = np.array(distances)\n",
    "plt.hist(distances)\n",
    "plt.xlabel(\"distance\")\n",
    "plt.ylabel(\"frequency\")\n",
    "plt.title(\"Distances to uniform distribution\")\n",
    "print(points.shape)"
   ]
  },
  {
   "cell_type": "code",
   "execution_count": 46,
   "id": "64d8df6f",
   "metadata": {},
   "outputs": [
    {
     "data": {
      "text/plain": [
       "(array([8.7000e+01, 1.0260e+03, 6.2990e+03, 2.0248e+04, 3.3334e+04,\n",
       "        2.8569e+04, 1.3039e+04, 3.0960e+03, 3.8900e+02, 3.2000e+01]),\n",
       " array([20.28491797, 20.99366082, 21.70240368, 22.41114653, 23.11988938,\n",
       "        23.82863223, 24.53737509, 25.24611794, 25.95486079, 26.66360365,\n",
       "        27.3723465 ]),\n",
       " <BarContainer object of 10 artists>)"
      ]
     },
     "execution_count": 46,
     "metadata": {},
     "output_type": "execute_result"
    },
    {
     "data": {
      "image/png": "[encoded data removed]",
      "text/plain": [
       "<Figure size 432x288 with 1 Axes>"
      ]
     },
     "metadata": {
      "needs_background": "light"
     },
     "output_type": "display_data"
    }
   ],
   "source": [
    "#Simulate distances of a random gaussian scatter in high dimensional space\n",
    "#Simulate distances of a random uniform scatter in high dimensional space\n",
    "num_dims = 301\n",
    "points = np.random.normal(size = (num_train_points, num_dims))\n",
    "\n",
    "plt.xlim([0, 50])\n",
    "distances = []\n",
    "for point in points[1:]:\n",
    "    distance = (np.sum((point - points[0])**2))**0.5\n",
    "    distances.append(distance)\n",
    "\n",
    "distances = np.array(distances)\n",
    "plt.hist(distances)"
   ]
  },
  {
   "cell_type": "code",
   "execution_count": 108,
   "id": "1d89365b",
   "metadata": {},
   "outputs": [
    {
     "name": "stdout",
     "output_type": "stream",
     "text": [
      "(301,)\n"
     ]
    },
    {
     "data": {
      "text/plain": [
       "Text(0.5, 1.0, 'Distance to training set points in dos space')"
      ]
     },
     "execution_count": 108,
     "metadata": {},
     "output_type": "execute_result"
    },
    {
     "data": {
      "image/png": "[encoded data removed]",
      "text/plain": [
       "<Figure size 432x288 with 1 Axes>"
      ]
     },
     "metadata": {
      "needs_background": "light"
     },
     "output_type": "display_data"
    }
   ],
   "source": [
    "#print(train_dos_scaled[0])\n",
    "distances = []\n",
    "plt.xlim([0, 60])\n",
    "for dos in train_dos_scaled:\n",
    "    distance = (np.sum((dos - val_dos_scaled[0]) ** 2)) ** 0.5\n",
    "    distances.append(distance)\n",
    "\n",
    "print(dos.shape)\n",
    "distances = np.array(distances)\n",
    "plt.hist(distances, bins = np.linspace(0, 60))\n",
    "plt.ylabel(\"Frequency\")\n",
    "plt.xlabel(\"Distance\")\n",
    "plt.title(\"Distance to training set points in dos space\")"
   ]
  },
  {
   "cell_type": "code",
   "execution_count": 109,
   "id": "e49edfc3",
   "metadata": {},
   "outputs": [
    {
     "name": "stdout",
     "output_type": "stream",
     "text": [
      "[[0.         2.20180738 2.33551046 2.62014218 2.65149193 2.97456938\n",
      "  3.56353872 3.74636622 3.79028188 3.79719372 3.86844776 3.9032483\n",
      "  3.91320318 4.07062559 4.16440554 4.24779869 4.26918114 4.34815888\n",
      "  4.41646102 4.43185754 4.50410075 4.6587835  4.66408511 4.8281152\n",
      "  4.96727872 4.97268127 5.07193219 5.07753427 5.10821306 5.19169359\n",
      "  5.20805342 5.27377956 5.32012528 5.43751591 5.50980416 5.57689799\n",
      "  5.59374534 5.61221101 5.6627886  5.68188657 5.70084933 5.7153135\n",
      "  5.79982176 5.80422318 5.81634167 5.91505458 5.94479665 5.97114622\n",
      "  5.9784854  6.02883074]]\n"
     ]
    }
   ],
   "source": [
    "model = KNeighborsRegressor(n_neighbors = 50)\n",
    "model.fit(train_dos_scaled, train_params)\n",
    "print(model.kneighbors(train_dos_scaled[:1])[0])"
   ]
  },
  {
   "cell_type": "code",
   "execution_count": 3,
   "id": "5ec7215c",
   "metadata": {},
   "outputs": [
    {
     "data": {
      "text/plain": [
       "Text(0.5, 1.0, 'Distances between random pairs of points in 301 dim space')"
      ]
     },
     "execution_count": 3,
     "metadata": {},
     "output_type": "execute_result"
    },
    {
     "data": {
      "image/png": "[encoded data removed]",
      "text/plain": [
       "<Figure size 432x288 with 1 Axes>"
      ]
     },
     "metadata": {
      "needs_background": "light"
     },
     "output_type": "display_data"
    }
   ],
   "source": [
    "#Sample from random point pairs in uniform sample\n",
    "num_dims = 301\n",
    "\n",
    "plt.xlim(0, 10)\n",
    "distances = []\n",
    "for i in range(10000):\n",
    "    \n",
    "    point1 = np.random.uniform(size = (301,))\n",
    "    point2 = np.random.uniform(size = (301,))\n",
    "\n",
    "    distance = (np.sum((point1 - point2)**2))**0.5\n",
    "    distances.append(distance)\n",
    "\n",
    "distances = np.array(distances)\n",
    "plt.hist(distances)\n",
    "plt.xlabel(\"distance\")\n",
    "plt.ylabel(\"frequency\")\n",
    "plt.title(f\"Distances between random pairs of points in {num_dims} dim space\")"
   ]
  },
  {
   "cell_type": "code",
   "execution_count": 132,
   "id": "6deabe4b",
   "metadata": {},
   "outputs": [
    {
     "name": "stdout",
     "output_type": "stream",
     "text": [
      "(301,)\n",
      "(106120, 301)\n"
     ]
    },
    {
     "data": {
      "image/png": "[encoded data removed]",
      "text/plain": [
       "<Figure size 432x288 with 1 Axes>"
      ]
     },
     "metadata": {
      "needs_background": "light"
     },
     "output_type": "display_data"
    }
   ],
   "source": [
    "#Sample from random point pairs in uniform sample\n",
    "num_dims = 301\n",
    "points = np.random.normal(size = (num_train_points, num_dims))\n",
    "\n",
    "plt.xlim(0, 30)\n",
    "distances = []\n",
    "inds = []\n",
    "for i in range(10000):\n",
    "    \n",
    "    ind1 = np.random.randint(0, num_train_points)\n",
    "    ind2 = np.random.randint(0, num_train_points)\n",
    "    if ind1 != ind2:\n",
    "        distance = (np.sum((points[ind1] - points[ind2])**2))**0.5\n",
    "        distances.append(distance)\n",
    "\n",
    "print(points[ind1].shape)\n",
    "distances = np.array(distances)\n",
    "plt.hist(distances)\n",
    "plt.xlabel(\"distance\")\n",
    "plt.ylabel(\"frequency\")\n",
    "plt.title(f\"Point pair distances in Gaussian distribution in {num_dims} dim space\")\n",
    "print(points.shape)"
   ]
  },
  {
   "cell_type": "code",
   "execution_count": 4,
   "id": "ed4f7f83",
   "metadata": {},
   "outputs": [
    {
     "data": {
      "text/plain": [
       "Text(0.5, 1.0, 'Distances between random pairs of spectra in dos space')"
      ]
     },
     "execution_count": 4,
     "metadata": {},
     "output_type": "execute_result"
    },
    {
     "data": {
      "image/png": "[encoded data removed]",
      "text/plain": [
       "<Figure size 432x288 with 1 Axes>"
      ]
     },
     "metadata": {
      "needs_background": "light"
     },
     "output_type": "display_data"
    }
   ],
   "source": [
    "#Sample from random point pairs in training set\n",
    "\n",
    "#plt.xlim(0, 60)\n",
    "distances = []\n",
    "inds = []\n",
    "for i in range(10000):\n",
    "    \n",
    "    ind1 = np.random.randint(0, num_train_points)\n",
    "    ind2 = np.random.randint(0, num_train_points)\n",
    "    if ind1 != ind2:\n",
    "        distance = (np.sum((train_dos_scaled[ind1] - train_dos_scaled[ind2])**2))**0.5\n",
    "        distances.append(distance)\n",
    "\n",
    "distances = np.array(distances)\n",
    "plt.hist(distances, bins = np.linspace(0, 60))\n",
    "plt.xlabel(\"distance\")\n",
    "plt.ylabel(\"frequency\")\n",
    "plt.title(f\"Distances between random pairs of spectra in dos space\")"
   ]
  }
 ],
 "metadata": {
  "kernelspec": {
   "display_name": "Python 3 (ipykernel)",
   "language": "python",
   "name": "python3"
  },
  "language_info": {
   "codemirror_mode": {
    "name": "ipython",
    "version": 3
   },
   "file_extension": ".py",
   "mimetype": "text/x-python",
   "name": "python",
   "nbconvert_exporter": "python",
   "pygments_lexer": "ipython3",
   "version": "3.10.4"
  }
 },
 "nbformat": 4,
 "nbformat_minor": 5
}
