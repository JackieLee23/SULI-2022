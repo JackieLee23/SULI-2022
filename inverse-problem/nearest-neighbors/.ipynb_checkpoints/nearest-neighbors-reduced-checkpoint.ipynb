{
 "cells": [
  {
   "cell_type": "code",
   "execution_count": 1,
   "id": "b5735a9c",
   "metadata": {},
   "outputs": [
    {
     "name": "stdout",
     "output_type": "stream",
     "text": [
      "/project/wyin/jlee/ml-project/inverse-problem/nearest-neighbors\n"
     ]
    }
   ],
   "source": [
    "import numpy as np\n",
    "import pandas as pd\n",
    "import os\n",
    "from os import path\n",
    "import matplotlib.pyplot as plt\n",
    "from sklearn.preprocessing import StandardScaler\n",
    "from sklearn.neighbors import RadiusNeighborsRegressor, KNeighborsRegressor\n",
    "from sklearn.decomposition import PCA\n",
    "data_loc = '/project/wyin/jlee/ml-project/inverse-problem/data'\n",
    "print(os.getcwd())"
   ]
  },
  {
   "cell_type": "code",
   "execution_count": 4,
   "id": "09c5d3af",
   "metadata": {},
   "outputs": [],
   "source": [
    "train_set = np.load(os.path.join(data_loc, 'train-set.npz'))\n",
    "train_params = train_set['params']\n",
    "train_dos = train_set['dos']\n",
    "\n",
    "val_set = np.load(os.path.join(data_loc, 'val-set.npz'))\n",
    "val_params = val_set['params']\n",
    "val_dos = val_set['dos']\n",
    "\n",
    "test_set = np.load(os.path.join(data_loc, 'test-set.npz'))\n",
    "test_params = test_set['params']\n",
    "test_dos = test_set['dos']"
   ]
  },
  {
   "cell_type": "code",
   "execution_count": 5,
   "id": "2dc8302c",
   "metadata": {},
   "outputs": [],
   "source": [
    "#With standard scaling\n",
    "scaler = StandardScaler()\n",
    "train_dos_scaled = scaler.fit_transform(train_dos)\n",
    "val_dos_scaled = scaler.transform(val_dos)"
   ]
  },
  {
   "cell_type": "code",
   "execution_count": 6,
   "id": "be51a4d4",
   "metadata": {},
   "outputs": [
    {
     "name": "stdout",
     "output_type": "stream",
     "text": [
      "(106120, 5)\n",
      "0.6762128801573554\n"
     ]
    }
   ],
   "source": [
    "#Use pca for dim reduction\n",
    "pca = PCA(n_components=5)\n",
    "train_reduced = pca.fit_transform(train_dos_scaled)\n",
    "val_reduced = pca.transform(val_dos_scaled)\n",
    "print(train_reduced.shape)\n",
    "print(np.sum(pca.explained_variance_ratio_))"
   ]
  },
  {
   "cell_type": "code",
   "execution_count": 9,
   "id": "f0f5b4c1",
   "metadata": {},
   "outputs": [
    {
     "name": "stdout",
     "output_type": "stream",
     "text": [
      "trying n neights = 1\n",
      "trying n neights = 2\n",
      "trying n neights = 3\n",
      "trying n neights = 4\n",
      "trying n neights = 5\n",
      "trying n neights = 6\n",
      "trying n neights = 7\n",
      "trying n neights = 8\n",
      "trying n neights = 9\n",
      "0.001135601200597507\n",
      "3\n"
     ]
    },
    {
     "data": {
      "image/png": "[encoded data removed]",
      "text/plain": [
       "<Figure size 432x288 with 1 Axes>"
      ]
     },
     "metadata": {
      "needs_background": "light"
     },
     "output_type": "display_data"
    }
   ],
   "source": [
    "knn_mse_uniform = []\n",
    "for i in range(1, 10):\n",
    "    print(f\"trying n neights = {i}\")\n",
    "    neigh = KNeighborsRegressor(n_neighbors = i)\n",
    "    neigh.fit(train_reduced, train_params)\n",
    "    predicted = neigh.predict(val_reduced)\n",
    "    \n",
    "    mse = np.mean((val_params - predicted)**2)\n",
    "    knn_mse_uniform.append(mse)\n",
    "\n",
    "knn_mse_uniform = np.array(knn_mse_uniform)\n",
    "plt.plot(knn_mse_uniform)\n",
    "print(np.min(knn_mse_uniform))\n",
    "print(np.argmin(knn_mse_uniform) + 1)"
   ]
  },
  {
   "cell_type": "code",
   "execution_count": 10,
   "id": "b72e4f7e",
   "metadata": {},
   "outputs": [
    {
     "name": "stdout",
     "output_type": "stream",
     "text": [
      "trying n neights = 1\n",
      "trying n neights = 2\n",
      "trying n neights = 3\n",
      "trying n neights = 4\n",
      "trying n neights = 5\n",
      "trying n neights = 6\n",
      "trying n neights = 7\n",
      "trying n neights = 8\n",
      "trying n neights = 9\n",
      "0.00110534673200197\n",
      "3\n"
     ]
    },
    {
     "data": {
      "image/png": "[encoded data removed]",
      "text/plain": [
       "<Figure size 432x288 with 1 Axes>"
      ]
     },
     "metadata": {
      "needs_background": "light"
     },
     "output_type": "display_data"
    }
   ],
   "source": [
    "def weight_func(distances):\n",
    "    return np.exp(-(distances ** 2))\n",
    "\n",
    "knn_mse_weighted = []\n",
    "for i in range(1, 10):\n",
    "    print(f\"trying n neights = {i}\")\n",
    "    neigh = KNeighborsRegressor(n_neighbors = i, weights = weight_func)\n",
    "    neigh.fit(train_reduced, train_params)\n",
    "    predicted = neigh.predict(val_reduced)\n",
    "    \n",
    "    mse = np.mean((val_params - predicted)**2)\n",
    "    knn_mse_weighted.append(mse)\n",
    "\n",
    "knn_mse_weighted = np.array(knn_mse_weighted)\n",
    "\n",
    "plt.plot(knn_mse_weighted)\n",
    "print(np.min(knn_mse_weighted))\n",
    "print(np.argmin(knn_mse_weighted) + 1)"
   ]
  },
  {
   "cell_type": "code",
   "execution_count": null,
   "id": "cc00dffc",
   "metadata": {},
   "outputs": [],
   "source": []
  }
 ],
 "metadata": {
  "kernelspec": {
   "display_name": "Python 3 (ipykernel)",
   "language": "python",
   "name": "python3"
  },
  "language_info": {
   "codemirror_mode": {
    "name": "ipython",
    "version": 3
   },
   "file_extension": ".py",
   "mimetype": "text/x-python",
   "name": "python",
   "nbconvert_exporter": "python",
   "pygments_lexer": "ipython3",
   "version": "3.10.4"
  }
 },
 "nbformat": 4,
 "nbformat_minor": 5
}
