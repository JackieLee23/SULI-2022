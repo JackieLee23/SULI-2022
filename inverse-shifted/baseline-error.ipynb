{
 "cells": [
  {
   "cell_type": "code",
   "execution_count": 4,
   "id": "374d7b21",
   "metadata": {},
   "outputs": [
    {
     "name": "stdout",
     "output_type": "stream",
     "text": [
      "/project/wyin/jlee/ml-project/inverse-shifted\n"
     ]
    }
   ],
   "source": [
    "import numpy as np\n",
    "import pandas as pd\n",
    "import os\n",
    "from os import path\n",
    "import matplotlib.pyplot as plt\n",
    "import sys\n",
    "print(os.getcwd())\n",
    "root = \"/project/wyin/jlee/ml-project/\"\n",
    "util_loc = os.path.join(root, \"utils\")\n",
    "data_loc = os.path.join(root, \"inverse-shifted/data\")\n",
    "sys.path.append(util_loc)\n",
    "from inverse_utilities import InverseNeuralNet, InverseDataModule, ScaledData, see_results"
   ]
  },
  {
   "cell_type": "code",
   "execution_count": 2,
   "id": "dabd0f28",
   "metadata": {},
   "outputs": [],
   "source": [
    "def get_mse(data):\n",
    "    means = np.mean(data, axis = 0)\n",
    "    print(means)\n",
    "    full_means = np.tile(means, (data.shape[0],1))\n",
    "    \n",
    "    errors = (data - full_means) ** 2\n",
    "    spectrum_errors = np.mean(errors, axis = 1) #mse for every spectrum\n",
    "        \n",
    "    return np.mean(spectrum_errors), np.std(spectrum_errors)"
   ]
  },
  {
   "cell_type": "code",
   "execution_count": 5,
   "id": "8c9ad540",
   "metadata": {},
   "outputs": [
    {
     "name": "stdout",
     "output_type": "stream",
     "text": [
      "[-0.25951204  0.25940704  0.59850278]\n"
     ]
    },
    {
     "data": {
      "text/plain": [
       "(0.032042989502234574, 0.018724417443666846)"
      ]
     },
     "execution_count": 5,
     "metadata": {},
     "output_type": "execute_result"
    }
   ],
   "source": [
    "data = ScaledData(data_loc)\n",
    "get_mse(data.test_params)"
   ]
  }
 ],
 "metadata": {
  "kernelspec": {
   "display_name": "Python 3 (ipykernel)",
   "language": "python",
   "name": "python3"
  },
  "language_info": {
   "codemirror_mode": {
    "name": "ipython",
    "version": 3
   },
   "file_extension": ".py",
   "mimetype": "text/x-python",
   "name": "python",
   "nbconvert_exporter": "python",
   "pygments_lexer": "ipython3",
   "version": "3.10.4"
  }
 },
 "nbformat": 4,
 "nbformat_minor": 5
}
