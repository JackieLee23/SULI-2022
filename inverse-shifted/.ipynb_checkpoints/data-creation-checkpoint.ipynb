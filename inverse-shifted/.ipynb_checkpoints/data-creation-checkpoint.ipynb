{
 "cells": [
  {
   "cell_type": "code",
   "execution_count": 34,
   "id": "e545ed64",
   "metadata": {},
   "outputs": [],
   "source": [
    "##############################\n",
    "######The great shift ########\n",
    "##############################\n",
    "import numpy as np\n",
    "import os\n",
    "import matplotlib.pyplot as plt\n",
    "import sys\n",
    "import math\n",
    "root = 'project/wyin/jlee/ml-project'\n",
    "util_loc = os.path.join(root, \"utils\")\n",
    "sys.path.append(util_loc)\n",
    "data_loc = '/project/wyin/jlee/ml-project/dos-prediction-full/data'\n",
    "k_data_loc = '/project/wyin/jlee/ml-project/data-collection/full-dataset/data'"
   ]
  },
  {
   "cell_type": "code",
   "execution_count": 5,
   "id": "59d39987",
   "metadata": {},
   "outputs": [],
   "source": [
    "train_set = np.load(os.path.join(data_loc, 'train-set.npz'))\n",
    "train_params = train_set['params']\n",
    "\n",
    "val_set = np.load(os.path.join(data_loc, 'val-set.npz'))\n",
    "val_params = val_set['params']\n",
    "\n",
    "test_set = np.load(os.path.join(data_loc, 'test-set.npz'))\n",
    "test_params = test_set['params']"
   ]
  },
  {
   "cell_type": "code",
   "execution_count": 7,
   "id": "a700f8c3",
   "metadata": {},
   "outputs": [
    {
     "name": "stdout",
     "output_type": "stream",
     "text": [
      "-1.66401\n"
     ]
    }
   ],
   "source": [
    "def min_max(param_arr):\n",
    "    count = 0\n",
    "    mx = -1e6\n",
    "    mn = 1e6\n",
    "    for t1, t2, j in param_arr:\n",
    "        if t1 < 0 and t2 > 0:\n",
    "            k_dat = np.loadtxt(os.path.join(k_data_loc, f'param_{t1:.2f}_{t2:.2f}_{j:.3f}', 'disp_10-01.dat'))\n",
    "            e_m = k_dat[32, 1]\n",
    "            \n",
    "            mx = max(mx, e_m)\n",
    "            mn = min(mn, e_m)\n",
    "            \n",
    "    return mn, mx\n",
    "    \n",
    "mn1, mx1 = min_max(train_params)\n",
    "mn2, mx2 = min_max(val_params)\n",
    "mn3, mx3 = min_max(test_params)\n",
    "\n",
    "print(mx1)"
   ]
  },
  {
   "cell_type": "code",
   "execution_count": 11,
   "id": "198e58ec",
   "metadata": {},
   "outputs": [
    {
     "name": "stdout",
     "output_type": "stream",
     "text": [
      "-4.34\n",
      "9.75\n"
     ]
    }
   ],
   "source": [
    "w_min = -6 - max(mx1, mx2, mx3)\n",
    "w_max = 6 - min(mn1, mn2, mn3)\n",
    "\n",
    "w_min = np.round(w_min, 2)\n",
    "w_max = np.round(w_max, 2)\n",
    "print(w_min)\n",
    "print(w_max)"
   ]
  },
  {
   "cell_type": "code",
   "execution_count": 42,
   "id": "401e5dd5",
   "metadata": {},
   "outputs": [],
   "source": [
    "#Set limits so the whole space can be sampled with dw = 0.04 intervals\n",
    "w_min = -4.36\n",
    "w_max = 9.76"
   ]
  },
  {
   "cell_type": "code",
   "execution_count": 120,
   "id": "b4caed85",
   "metadata": {},
   "outputs": [],
   "source": [
    "def new_dos(params):\n",
    "    \n",
    "    t1, t2, j = params\n",
    "    dos_dat = np.loadtxt(os.path.join(k_data_loc, f'param_{t1:.2f}_{t2:.2f}_{j:.3f}', 'dos.dat'))\n",
    "    k_dat = np.loadtxt(os.path.join(k_data_loc, f'param_{t1:.2f}_{t2:.2f}_{j:.3f}', 'disp_10-01.dat'))\n",
    "    e_m = np.round(k_dat[32, 1], 2)\n",
    "\n",
    "    w_left = np.round(-6 - e_m, 2)\n",
    "    w_right = np.round(6 - e_m, 2)\n",
    "    \n",
    "    n_left = np.round((w_left - w_min) / 0.04, 2)\n",
    "    n_right = np.round((w_max - w_right) / 0.04, 2)\n",
    "    n_left = math.ceil(n_left) #Number of zeros to pad left side with\n",
    "    n_right = math.ceil(n_right)\n",
    "    \n",
    "    first_w = np.round(w_min + 0.04 * n_left, 2)\n",
    "    first_ind = round((first_w - w_left) / 0.01)\n",
    "    middle_dos = dos_dat[first_ind:1201:4, 1].tolist()\n",
    "    \n",
    "    full_dos = n_left * [0] + middle_dos + n_right * [0]\n",
    "    \n",
    "#     print(f\"n_left: {n_left}, n_mid: {len(middle_dos)}, n_right: {n_right}\")\n",
    "#     print(f\"w_left: {w_left}, w_right: {w_right}\")\n",
    "    return full_dos\n",
    "\n",
    "def new_param_dos(params):\n",
    "    return_params = []\n",
    "    return_dos = []\n",
    "    i = 0\n",
    "    for i, [t1, t2, j] in enumerate(params):\n",
    "            if t1 < 0 and t2 > 0:\n",
    "                dos = new_dos([t1, t2, j])\n",
    "                if len(dos) != 354:\n",
    "                    print(f\"something wrong with {i}\")\n",
    "                return_dos.append(dos)\n",
    "                return_params.append([t1, t2, j])\n",
    "                \n",
    "                \n",
    "            if i % 10000 == 0:\n",
    "                print(f\"done with {i}\")\n",
    "\n",
    "    return_params = np.array(return_params)\n",
    "    return_dos = np.array(return_dos)\n",
    "    \n",
    "    return return_params, return_dos"
   ]
  },
  {
   "cell_type": "code",
   "execution_count": 121,
   "id": "f39e963f",
   "metadata": {},
   "outputs": [
    {
     "name": "stdout",
     "output_type": "stream",
     "text": [
      "done with 0\n",
      "done with 10000\n",
      "something wrong with 11498\n",
      "done with 20000\n"
     ]
    },
    {
     "ename": "KeyboardInterrupt",
     "evalue": "",
     "output_type": "error",
     "traceback": [
      "\u001b[0;31m---------------------------------------------------------------------------\u001b[0m",
      "\u001b[0;31mKeyboardInterrupt\u001b[0m                         Traceback (most recent call last)",
      "Input \u001b[0;32mIn [121]\u001b[0m, in \u001b[0;36m<cell line: 1>\u001b[0;34m()\u001b[0m\n\u001b[0;32m----> 1\u001b[0m new_train_params, new_train_dos \u001b[38;5;241m=\u001b[39m \u001b[43mnew_param_dos\u001b[49m\u001b[43m(\u001b[49m\u001b[43mtrain_params\u001b[49m\u001b[43m)\u001b[49m\n",
      "Input \u001b[0;32mIn [120]\u001b[0m, in \u001b[0;36mnew_param_dos\u001b[0;34m(params)\u001b[0m\n\u001b[1;32m     29\u001b[0m \u001b[38;5;28;01mfor\u001b[39;00m i, [t1, t2, j] \u001b[38;5;129;01min\u001b[39;00m \u001b[38;5;28menumerate\u001b[39m(params):\n\u001b[1;32m     30\u001b[0m         \u001b[38;5;28;01mif\u001b[39;00m t1 \u001b[38;5;241m<\u001b[39m \u001b[38;5;241m0\u001b[39m \u001b[38;5;129;01mand\u001b[39;00m t2 \u001b[38;5;241m>\u001b[39m \u001b[38;5;241m0\u001b[39m:\n\u001b[0;32m---> 31\u001b[0m             dos \u001b[38;5;241m=\u001b[39m \u001b[43mnew_dos\u001b[49m\u001b[43m(\u001b[49m\u001b[43m[\u001b[49m\u001b[43mt1\u001b[49m\u001b[43m,\u001b[49m\u001b[43m \u001b[49m\u001b[43mt2\u001b[49m\u001b[43m,\u001b[49m\u001b[43m \u001b[49m\u001b[43mj\u001b[49m\u001b[43m]\u001b[49m\u001b[43m)\u001b[49m\n\u001b[1;32m     32\u001b[0m             \u001b[38;5;28;01mif\u001b[39;00m \u001b[38;5;28mlen\u001b[39m(dos) \u001b[38;5;241m!=\u001b[39m \u001b[38;5;241m354\u001b[39m:\n\u001b[1;32m     33\u001b[0m                 \u001b[38;5;28mprint\u001b[39m(\u001b[38;5;124mf\u001b[39m\u001b[38;5;124m\"\u001b[39m\u001b[38;5;124msomething wrong with \u001b[39m\u001b[38;5;132;01m{\u001b[39;00mi\u001b[38;5;132;01m}\u001b[39;00m\u001b[38;5;124m\"\u001b[39m)\n",
      "Input \u001b[0;32mIn [120]\u001b[0m, in \u001b[0;36mnew_dos\u001b[0;34m(params)\u001b[0m\n\u001b[1;32m      2\u001b[0m \u001b[38;5;28;01mdef\u001b[39;00m \u001b[38;5;21mnew_dos\u001b[39m(params):\n\u001b[1;32m      4\u001b[0m     t1, t2, j \u001b[38;5;241m=\u001b[39m params\n\u001b[0;32m----> 5\u001b[0m     dos_dat \u001b[38;5;241m=\u001b[39m \u001b[43mnp\u001b[49m\u001b[38;5;241;43m.\u001b[39;49m\u001b[43mloadtxt\u001b[49m\u001b[43m(\u001b[49m\u001b[43mos\u001b[49m\u001b[38;5;241;43m.\u001b[39;49m\u001b[43mpath\u001b[49m\u001b[38;5;241;43m.\u001b[39;49m\u001b[43mjoin\u001b[49m\u001b[43m(\u001b[49m\u001b[43mk_data_loc\u001b[49m\u001b[43m,\u001b[49m\u001b[43m \u001b[49m\u001b[38;5;124;43mf\u001b[39;49m\u001b[38;5;124;43m'\u001b[39;49m\u001b[38;5;124;43mparam_\u001b[39;49m\u001b[38;5;132;43;01m{\u001b[39;49;00m\u001b[43mt1\u001b[49m\u001b[38;5;132;43;01m:\u001b[39;49;00m\u001b[38;5;124;43m.2f\u001b[39;49m\u001b[38;5;132;43;01m}\u001b[39;49;00m\u001b[38;5;124;43m_\u001b[39;49m\u001b[38;5;132;43;01m{\u001b[39;49;00m\u001b[43mt2\u001b[49m\u001b[38;5;132;43;01m:\u001b[39;49;00m\u001b[38;5;124;43m.2f\u001b[39;49m\u001b[38;5;132;43;01m}\u001b[39;49;00m\u001b[38;5;124;43m_\u001b[39;49m\u001b[38;5;132;43;01m{\u001b[39;49;00m\u001b[43mj\u001b[49m\u001b[38;5;132;43;01m:\u001b[39;49;00m\u001b[38;5;124;43m.3f\u001b[39;49m\u001b[38;5;132;43;01m}\u001b[39;49;00m\u001b[38;5;124;43m'\u001b[39;49m\u001b[43m,\u001b[49m\u001b[43m \u001b[49m\u001b[38;5;124;43m'\u001b[39;49m\u001b[38;5;124;43mdos.dat\u001b[39;49m\u001b[38;5;124;43m'\u001b[39;49m\u001b[43m)\u001b[49m\u001b[43m)\u001b[49m\n\u001b[1;32m      6\u001b[0m     k_dat \u001b[38;5;241m=\u001b[39m np\u001b[38;5;241m.\u001b[39mloadtxt(os\u001b[38;5;241m.\u001b[39mpath\u001b[38;5;241m.\u001b[39mjoin(k_data_loc, \u001b[38;5;124mf\u001b[39m\u001b[38;5;124m'\u001b[39m\u001b[38;5;124mparam_\u001b[39m\u001b[38;5;132;01m{\u001b[39;00mt1\u001b[38;5;132;01m:\u001b[39;00m\u001b[38;5;124m.2f\u001b[39m\u001b[38;5;132;01m}\u001b[39;00m\u001b[38;5;124m_\u001b[39m\u001b[38;5;132;01m{\u001b[39;00mt2\u001b[38;5;132;01m:\u001b[39;00m\u001b[38;5;124m.2f\u001b[39m\u001b[38;5;132;01m}\u001b[39;00m\u001b[38;5;124m_\u001b[39m\u001b[38;5;132;01m{\u001b[39;00mj\u001b[38;5;132;01m:\u001b[39;00m\u001b[38;5;124m.3f\u001b[39m\u001b[38;5;132;01m}\u001b[39;00m\u001b[38;5;124m'\u001b[39m, \u001b[38;5;124m'\u001b[39m\u001b[38;5;124mdisp_10-01.dat\u001b[39m\u001b[38;5;124m'\u001b[39m))\n\u001b[1;32m      7\u001b[0m     e_m \u001b[38;5;241m=\u001b[39m k_dat[\u001b[38;5;241m32\u001b[39m, \u001b[38;5;241m1\u001b[39m]\n",
      "File \u001b[0;32m~/.conda/envs/ML-env/lib/python3.10/site-packages/numpy/lib/npyio.py:1086\u001b[0m, in \u001b[0;36mloadtxt\u001b[0;34m(fname, dtype, comments, delimiter, converters, skiprows, usecols, unpack, ndmin, encoding, max_rows, like)\u001b[0m\n\u001b[1;32m   1083\u001b[0m \u001b[38;5;66;03m# Read until we find a line with some values, and use it to determine\u001b[39;00m\n\u001b[1;32m   1084\u001b[0m \u001b[38;5;66;03m# the need for decoding and estimate the number of columns.\u001b[39;00m\n\u001b[1;32m   1085\u001b[0m \u001b[38;5;28;01mfor\u001b[39;00m first_line \u001b[38;5;129;01min\u001b[39;00m line_iter:\n\u001b[0;32m-> 1086\u001b[0m     ncols \u001b[38;5;241m=\u001b[39m \u001b[38;5;28mlen\u001b[39m(usecols \u001b[38;5;129;01mor\u001b[39;00m \u001b[43msplit_line\u001b[49m\u001b[43m(\u001b[49m\u001b[43mfirst_line\u001b[49m\u001b[43m)\u001b[49m)\n\u001b[1;32m   1087\u001b[0m     \u001b[38;5;28;01mif\u001b[39;00m ncols:\n\u001b[1;32m   1088\u001b[0m         \u001b[38;5;66;03m# Put first_line back.\u001b[39;00m\n\u001b[1;32m   1089\u001b[0m         line_iter \u001b[38;5;241m=\u001b[39m itertools\u001b[38;5;241m.\u001b[39mchain([first_line], line_iter)\n",
      "File \u001b[0;32m~/.conda/envs/ML-env/lib/python3.10/site-packages/numpy/lib/npyio.py:979\u001b[0m, in \u001b[0;36mloadtxt.<locals>.split_line\u001b[0;34m(line)\u001b[0m\n\u001b[1;32m    977\u001b[0m     line \u001b[38;5;241m=\u001b[39m line\u001b[38;5;241m.\u001b[39msplit(comment, \u001b[38;5;241m1\u001b[39m)[\u001b[38;5;241m0\u001b[39m]\n\u001b[1;32m    978\u001b[0m line \u001b[38;5;241m=\u001b[39m line\u001b[38;5;241m.\u001b[39mstrip(\u001b[38;5;124m'\u001b[39m\u001b[38;5;130;01m\\r\u001b[39;00m\u001b[38;5;130;01m\\n\u001b[39;00m\u001b[38;5;124m'\u001b[39m)\n\u001b[0;32m--> 979\u001b[0m \u001b[38;5;28;01mreturn\u001b[39;00m \u001b[43mline\u001b[49m\u001b[38;5;241;43m.\u001b[39;49m\u001b[43msplit\u001b[49m\u001b[43m(\u001b[49m\u001b[43mdelimiter\u001b[49m\u001b[43m)\u001b[49m \u001b[38;5;28;01mif\u001b[39;00m line \u001b[38;5;28;01melse\u001b[39;00m []\n",
      "\u001b[0;31mKeyboardInterrupt\u001b[0m: "
     ]
    }
   ],
   "source": [
    "new_train_params, new_train_dos = new_param_dos(train_params)"
   ]
  },
  {
   "cell_type": "code",
   "execution_count": 126,
   "id": "d8a01d4a",
   "metadata": {},
   "outputs": [
    {
     "name": "stdout",
     "output_type": "stream",
     "text": [
      "[-0.02   0.5    0.664]\n",
      "n_left: 38, n_mid: 301, n_right: 15\n",
      "w_left: -2.84, w_right: 9.16\n",
      "354\n"
     ]
    }
   ],
   "source": [
    "def new_dos(params):\n",
    "    \n",
    "    t1, t2, j = params\n",
    "    dos_dat = np.loadtxt(os.path.join(k_data_loc, f'param_{t1:.2f}_{t2:.2f}_{j:.3f}', 'dos.dat'))\n",
    "    k_dat = np.loadtxt(os.path.join(k_data_loc, f'param_{t1:.2f}_{t2:.2f}_{j:.3f}', 'disp_10-01.dat'))\n",
    "    e_m = np.round(k_dat[32, 1], 2)\n",
    "\n",
    "    w_left = np.round(-6 - e_m, 2)\n",
    "    w_right = np.round(6 - e_m, 2)\n",
    "    \n",
    "    n_left = np.round((w_left - w_min) / 0.04, 2)\n",
    "    n_right = np.round((w_max - w_right) / 0.04, 2)\n",
    "    n_left = math.ceil(n_left) #Number of zeros to pad left side with\n",
    "    n_right = math.ceil(n_right)\n",
    "    \n",
    "    first_w = np.round(w_min + 0.04 * n_left, 2)\n",
    "    first_ind = round((first_w - w_left) / 0.01)\n",
    "    middle_dos = dos_dat[first_ind:1201:4, 1].tolist()\n",
    "    \n",
    "    full_dos = n_left * [0] + middle_dos + n_right * [0]\n",
    "    \n",
    "    print(f\"n_left: {n_left}, n_mid: {len(middle_dos)}, n_right: {n_right}\")\n",
    "    print(f\"w_left: {w_left}, w_right: {w_right}\")\n",
    "    return full_dos\n",
    "\n",
    "print(train_params[11498])\n",
    "test = new_dos(train_params[11498])\n",
    "print(len(test))"
   ]
  },
  {
   "cell_type": "code",
   "execution_count": 125,
   "id": "de7e6351",
   "metadata": {},
   "outputs": [
    {
     "data": {
      "text/plain": [
       "38.000000000000014"
      ]
     },
     "execution_count": 125,
     "metadata": {},
     "output_type": "execute_result"
    }
   ],
   "source": []
  }
 ],
 "metadata": {
  "kernelspec": {
   "display_name": "Python 3 (ipykernel)",
   "language": "python",
   "name": "python3"
  },
  "language_info": {
   "codemirror_mode": {
    "name": "ipython",
    "version": 3
   },
   "file_extension": ".py",
   "mimetype": "text/x-python",
   "name": "python",
   "nbconvert_exporter": "python",
   "pygments_lexer": "ipython3",
   "version": "3.10.4"
  }
 },
 "nbformat": 4,
 "nbformat_minor": 5
}
