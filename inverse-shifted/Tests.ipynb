{
 "cells": [
  {
   "cell_type": "code",
   "execution_count": 21,
   "id": "4b6a35e2",
   "metadata": {},
   "outputs": [],
   "source": [
    "import numpy as np\n",
    "import os\n",
    "import matplotlib.pyplot as plt\n",
    "import sys\n",
    "root = 'project/wyin/jlee/ml-project'\n",
    "util_loc = os.path.join(root, \"utils\")\n",
    "sys.path.append(util_loc)\n",
    "data_loc = '/project/wyin/jlee/ml-project/dos-prediction-full/data'\n",
    "k_data_loc = '/project/wyin/jlee/ml-project/data-collection/full-dataset/data'"
   ]
  },
  {
   "cell_type": "code",
   "execution_count": 11,
   "id": "5be55ed2",
   "metadata": {},
   "outputs": [],
   "source": [
    "train_set = np.load(os.path.join(data_loc, 'train-set.npz'))\n",
    "train_params = train_set['params']\n",
    "train_dos = train_set['dos']\n",
    "\n",
    "val_set = np.load(os.path.join(data_loc, 'val-set.npz'))\n",
    "val_params = val_set['params']\n",
    "val_dos = val_set['dos']\n",
    "\n",
    "test_set = np.load(os.path.join(data_loc, 'test-set.npz'))\n",
    "test_params = test_set['params']\n",
    "test_dos = test_set['dos']"
   ]
  },
  {
   "cell_type": "code",
   "execution_count": 56,
   "id": "96a8a83c",
   "metadata": {},
   "outputs": [],
   "source": [
    "def min_max(param_arr):\n",
    "    count = 0\n",
    "    mx = 6\n",
    "    mn = -6\n",
    "    for t1, t2, j in param_arr:\n",
    "        if t1 < 0 and t2 > 0:\n",
    "            k_dat = np.loadtxt(os.path.join(k_data_loc, f'param_{t1:.2f}_{t2:.2f}_{j:.3f}', 'disp_10-01.dat'))\n",
    "            e_m = k_dat[32, 1]\n",
    "            \n",
    "            mx = max(mx, 6 - e_m)\n",
    "            mn = min(mn, -6 - e_m)\n",
    "            \n",
    "    print(f'{mn}, {mx}')"
   ]
  },
  {
   "cell_type": "code",
   "execution_count": 57,
   "id": "eedf4804",
   "metadata": {},
   "outputs": [
    {
     "name": "stdout",
     "output_type": "stream",
     "text": [
      "-6, 9.74812\n"
     ]
    }
   ],
   "source": [
    "min_max(train_params)"
   ]
  },
  {
   "cell_type": "code",
   "execution_count": 61,
   "id": "dfe2a8b0",
   "metadata": {},
   "outputs": [
    {
     "name": "stdout",
     "output_type": "stream",
     "text": [
      "-3.75, -1.66\n",
      "-3.66, -1.71\n",
      "-3.7, -1.69\n"
     ]
    }
   ],
   "source": [
    "def min_max(param_arr):\n",
    "    count = 0\n",
    "    mx = -1e6\n",
    "    mn = 1e6\n",
    "    for t1, t2, j in param_arr:\n",
    "        if t1 < 0 and t2 > 0:\n",
    "            k_dat = np.loadtxt(os.path.join(k_data_loc, f'param_{t1:.2f}_{t2:.2f}_{j:.3f}', 'disp_10-01.dat'))\n",
    "            e_m = k_dat[32, 1]\n",
    "            \n",
    "            mx = max(mx, np.round(e_m, 2))\n",
    "            mn = min(mn, np.round(e_m, 2))\n",
    "            \n",
    "    print(f'{mn}, {mx}')\n",
    "    \n",
    "min_max(train_params)\n",
    "min_max(val_params)\n",
    "min_max(test_params)"
   ]
  },
  {
   "cell_type": "code",
   "execution_count": 63,
   "id": "00ff53ef",
   "metadata": {},
   "outputs": [
    {
     "name": "stdout",
     "output_type": "stream",
     "text": [
      "-4.34\n",
      "9.75\n"
     ]
    }
   ],
   "source": [
    "print(-6 + 1.66)\n",
    "print(6 + 3.75)"
   ]
  },
  {
   "cell_type": "code",
   "execution_count": null,
   "id": "b8b5caa3",
   "metadata": {},
   "outputs": [],
   "source": []
  },
  {
   "cell_type": "code",
   "execution_count": 60,
   "id": "86800f4f",
   "metadata": {},
   "outputs": [
    {
     "name": "stdout",
     "output_type": "stream",
     "text": [
      "[ 0.5     -3.11391  0.3053   0.02293 -0.8     -0.8    ]\n",
      "-3.11391\n",
      "[[ 0.      -2.42876  0.02065  0.98036  2.72     2.72   ]\n",
      " [ 0.01562 -2.4148   0.05908  1.30139  2.71153  2.71153]\n",
      " [ 0.03125 -2.45232  0.03791  0.83233  2.68618  2.68618]\n",
      " [ 0.04688 -2.43683  0.02943  1.00896  2.64421  2.64421]\n",
      " [ 0.0625  -2.4283   0.0196   1.00304  2.58603  2.58603]\n",
      " [ 0.07812 -2.46543  0.03992  0.85342  2.51218  2.51218]\n",
      " [ 0.09375 -2.46484  0.07407  0.79218  2.42339  2.42339]\n",
      " [ 0.10938 -2.4803   0.2016   0.91013  2.3205   2.3205 ]\n",
      " [ 0.125   -2.49739  0.04785  0.64178  2.20451  2.20451]\n",
      " [ 0.14062 -2.51032  0.03997  0.5089   2.07653  2.07653]\n",
      " [ 0.15625 -2.52048  0.07397  0.61148  1.9378   1.9378 ]\n",
      " [ 0.17188 -2.5437   0.0541   0.48289  1.78966  1.78966]\n",
      " [ 0.1875  -2.55784  0.04963  0.39773  1.63352  1.63352]\n",
      " [ 0.20312 -2.57341  0.05875  0.45884  1.4709   1.4709 ]\n",
      " [ 0.21875 -2.60572  0.10889  0.41644  1.30336  1.30336]\n",
      " [ 0.23438 -2.62043  0.07012  0.31371  1.13251  1.13251]\n",
      " [ 0.25    -2.67231  0.08551  0.32706  0.96     0.96   ]\n",
      " [ 0.26562 -2.69672  0.09082  0.24336  0.78749  0.78749]\n",
      " [ 0.28125 -2.72364  0.09332  0.23944  0.61664  0.61664]\n",
      " [ 0.29688 -2.76302  0.11745  0.18551  0.4491   0.4491 ]\n",
      " [ 0.3125  -2.80094  0.2596   0.19628  0.28648  0.28648]\n",
      " [ 0.32812 -2.84115  0.1323   0.10131  0.13034  0.13034]\n",
      " [ 0.34375 -2.87478  0.20774  0.0982  -0.0178  -0.0178 ]\n",
      " [ 0.35938 -2.91497  0.17002  0.06799 -0.15653 -0.15653]\n",
      " [ 0.375   -2.94914  0.18     0.04885 -0.28451 -0.28451]\n",
      " [ 0.39062 -2.98237  0.21418  0.04026 -0.4005  -0.4005 ]\n",
      " [ 0.40625 -3.01367  0.23422  0.03434 -0.50339 -0.50339]\n",
      " [ 0.42188 -3.04205  0.2576   0.03004 -0.59218 -0.59218]\n",
      " [ 0.4375  -3.06671  0.26888  0.02715 -0.66603 -0.66603]\n",
      " [ 0.45312 -3.08681  0.28356  0.02515 -0.72421 -0.72421]\n",
      " [ 0.46875 -3.10167  0.29946  0.02387 -0.76618 -0.76618]\n",
      " [ 0.48438 -3.1108   0.30624  0.02315 -0.79153 -0.79153]\n",
      " [ 0.5     -3.11391  0.3053   0.02293 -0.8     -0.8    ]\n",
      " [ 0.51562 -3.1108   0.30624  0.02315 -0.79153 -0.79153]\n",
      " [ 0.53125 -3.10167  0.29946  0.02387 -0.76618 -0.76618]\n",
      " [ 0.54688 -3.08681  0.28356  0.02515 -0.72421 -0.72421]\n",
      " [ 0.5625  -3.06671  0.26888  0.02715 -0.66603 -0.66603]\n",
      " [ 0.57812 -3.04205  0.2576   0.03004 -0.59218 -0.59218]\n",
      " [ 0.59375 -3.01367  0.23422  0.03434 -0.50339 -0.50339]\n",
      " [ 0.60938 -2.98237  0.21418  0.04026 -0.4005  -0.4005 ]\n",
      " [ 0.625   -2.94914  0.18     0.04885 -0.28451 -0.28451]\n",
      " [ 0.64062 -2.91497  0.17002  0.06799 -0.15653 -0.15653]\n",
      " [ 0.65625 -2.87478  0.20774  0.0982  -0.0178  -0.0178 ]\n",
      " [ 0.67188 -2.84115  0.1323   0.10131  0.13034  0.13034]\n",
      " [ 0.6875  -2.80094  0.2596   0.19628  0.28648  0.28648]\n",
      " [ 0.70312 -2.76302  0.11745  0.18551  0.4491   0.4491 ]\n",
      " [ 0.71875 -2.72364  0.09332  0.23944  0.61664  0.61664]\n",
      " [ 0.73438 -2.69672  0.09082  0.24336  0.78749  0.78749]\n",
      " [ 0.75    -2.67231  0.08551  0.32706  0.96     0.96   ]\n",
      " [ 0.76562 -2.62043  0.07012  0.31371  1.13251  1.13251]\n",
      " [ 0.78125 -2.60572  0.10889  0.41644  1.30336  1.30336]\n",
      " [ 0.79688 -2.57341  0.05875  0.45884  1.4709   1.4709 ]\n",
      " [ 0.8125  -2.55784  0.04963  0.39773  1.63352  1.63352]\n",
      " [ 0.82812 -2.5437   0.0541   0.48289  1.78966  1.78966]\n",
      " [ 0.84375 -2.52048  0.07397  0.61148  1.9378   1.9378 ]\n",
      " [ 0.85938 -2.51032  0.03997  0.5089   2.07653  2.07653]\n",
      " [ 0.875   -2.49739  0.04785  0.64178  2.20451  2.20451]\n",
      " [ 0.89062 -2.4803   0.2016   0.91013  2.3205   2.3205 ]\n",
      " [ 0.90625 -2.46484  0.07407  0.79218  2.42339  2.42339]\n",
      " [ 0.92188 -2.46543  0.03992  0.85342  2.51218  2.51218]\n",
      " [ 0.9375  -2.4283   0.0196   1.00304  2.58603  2.58603]\n",
      " [ 0.95312 -2.43683  0.02943  1.00896  2.64421  2.64421]\n",
      " [ 0.96875 -2.45232  0.03791  0.83233  2.68618  2.68618]\n",
      " [ 0.98438 -2.4148   0.05908  1.30139  2.71153  2.71153]\n",
      " [ 1.      -2.42876  0.02065  0.98036  2.72     2.72   ]]\n",
      "[-6.   -5.99 -5.98 ...  5.98  5.99  6.  ]\n"
     ]
    }
   ],
   "source": [
    "data_loc = '/project/wyin/jlee/ml-project/data-collection/full-dataset/data'\n",
    "\n",
    "dos_dat = np.loadtxt(os.path.join(data_loc, 'param_-0.32_0.20_0.296', 'dos.dat'))\n",
    "k_dat = np.loadtxt(os.path.join(data_loc, 'param_-0.48_0.20_0.296', 'disp_10-01.dat'))\n",
    "\n",
    "print(k_dat[32])\n",
    "e_m = k_dat[32, 1]\n",
    "print(e_m)\n",
    "print(k_dat)\n",
    "print(dos_dat[,0])"
   ]
  },
  {
   "cell_type": "code",
   "execution_count": 15,
   "id": "cb541223",
   "metadata": {},
   "outputs": [
    {
     "name": "stdout",
     "output_type": "stream",
     "text": [
      "[-6.00e+00  1.15e-03]\n",
      "[6.00e+00 1.24e-03]\n"
     ]
    }
   ],
   "source": [
    "print(dos_dat[0])\n",
    "print(dos_dat[-1])"
   ]
  },
  {
   "cell_type": "code",
   "execution_count": 5,
   "id": "cad4bd83",
   "metadata": {},
   "outputs": [
    {
     "data": {
      "text/plain": [
       "Text(0.5, 1.0, 'Shifted dos')"
      ]
     },
     "execution_count": 5,
     "metadata": {},
     "output_type": "execute_result"
    },
    {
     "data": {
      "image/png": "[encoded data removed]",
      "text/plain": [
       "<Figure size 1080x720 with 2 Axes>"
      ]
     },
     "metadata": {
      "needs_background": "light"
     },
     "output_type": "display_data"
    }
   ],
   "source": [
    "fig, ax = plt.subplots(2, figsize = (15, 10))\n",
    "ax[0].plot(dos_dat[:,0], dos_dat[:,1])\n",
    "ax[0].set_title(\"Original dos\")\n",
    "\n",
    "shifted_w = dos_dat[:,0] - e_m\n",
    "ax[1].plot(shifted_w, dos_dat[:,1])\n",
    "ax[1].set_title(\"Shifted dos\")"
   ]
  },
  {
   "cell_type": "code",
   "execution_count": null,
   "id": "87369a5c",
   "metadata": {},
   "outputs": [],
   "source": []
  }
 ],
 "metadata": {
  "kernelspec": {
   "display_name": "Python 3 (ipykernel)",
   "language": "python",
   "name": "python3"
  },
  "language_info": {
   "codemirror_mode": {
    "name": "ipython",
    "version": 3
   },
   "file_extension": ".py",
   "mimetype": "text/x-python",
   "name": "python",
   "nbconvert_exporter": "python",
   "pygments_lexer": "ipython3",
   "version": "3.10.4"
  }
 },
 "nbformat": 4,
 "nbformat_minor": 5
}
