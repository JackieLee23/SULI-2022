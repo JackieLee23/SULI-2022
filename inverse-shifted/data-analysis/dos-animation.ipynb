{
 "cells": [
  {
   "cell_type": "code",
   "execution_count": 1,
   "id": "878f85fc",
   "metadata": {},
   "outputs": [
    {
     "name": "stdout",
     "output_type": "stream",
     "text": [
      "/project/wyin/jlee/ml-project/inverse-shifted/data-analysis\n"
     ]
    }
   ],
   "source": [
    "from __future__ import print_function\n",
    "from ipywidgets import interact, interactive, fixed, interact_manual\n",
    "import ipywidgets as widgets\n",
    "import numpy as np\n",
    "import matplotlib.pyplot as plt\n",
    "import os\n",
    "from os import path\n",
    "from scipy.signal import find_peaks, peak_prominences, find_peaks_cwt\n",
    "print(os.getcwd())\n",
    "root = '/project/wyin/jlee/ml-project'\n",
    "data_loc = path.join(root, 'inverse-shifted/data')"
   ]
  },
  {
   "cell_type": "code",
   "execution_count": 2,
   "id": "b196d5c3",
   "metadata": {},
   "outputs": [
    {
     "name": "stdout",
     "output_type": "stream",
     "text": [
      "(25534, 354)\n",
      "(3103, 354)\n",
      "(3238, 354)\n",
      "[-0.06   0.24   0.376]\n"
     ]
    }
   ],
   "source": [
    "train_set = np.load(path.join(data_loc, \"train-set.npz\"))\n",
    "print(train_set['dos'].shape)\n",
    "\n",
    "val_set = np.load(path.join(data_loc, \"val-set.npz\"))\n",
    "print(val_set['dos'].shape)\n",
    "\n",
    "test_set = np.load(path.join(data_loc, \"test-set.npz\"))\n",
    "print(test_set['dos'].shape)\n",
    "\n",
    "print(test_set['params'][0])"
   ]
  },
  {
   "cell_type": "code",
   "execution_count": 3,
   "id": "4f94d556",
   "metadata": {},
   "outputs": [],
   "source": [
    "all_dos = np.zeros((25, 25, 51, 354))\n",
    "\n",
    "def load_dos(dataset):\n",
    "    params_arr = dataset['params']\n",
    "    dos_arr = dataset['dos']\n",
    "    \n",
    "    for i, params in enumerate(params_arr):\n",
    "        t1_ind = round((params[0] + 0.5) * 50)\n",
    "        t2_ind = round((params[1] - 0.02) * 50)\n",
    "        j_ind = round((params[2] - 0.2) * 62.5)\n",
    "        \n",
    "        all_dos[t1_ind, t2_ind, j_ind] = dos_arr[i]\n",
    "        \n",
    "        if (i % 10000) == 0:\n",
    "            print(i)"
   ]
  },
  {
   "cell_type": "code",
   "execution_count": 4,
   "id": "472bb9e1",
   "metadata": {},
   "outputs": [
    {
     "name": "stdout",
     "output_type": "stream",
     "text": [
      "0\n",
      "10000\n",
      "20000\n"
     ]
    }
   ],
   "source": [
    "load_dos(train_set)"
   ]
  },
  {
   "cell_type": "code",
   "execution_count": 8,
   "id": "266332d8",
   "metadata": {},
   "outputs": [
    {
     "name": "stdout",
     "output_type": "stream",
     "text": [
      "0\n",
      "0\n"
     ]
    }
   ],
   "source": [
    "load_dos(val_set)\n",
    "load_dos(test_set)"
   ]
  },
  {
   "cell_type": "code",
   "execution_count": 17,
   "id": "e043cb92",
   "metadata": {},
   "outputs": [
    {
     "data": {
      "application/vnd.jupyter.widget-view+json": {
       "model_id": "71bd8d60eb974d0bb51d4e9c76430ff9",
       "version_major": 2,
       "version_minor": 0
      },
      "text/plain": [
       "interactive(children=(FloatSlider(value=-0.26, description='t1', max=-0.02, min=-0.5, step=0.02), FloatSlider(…"
      ]
     },
     "metadata": {},
     "output_type": "display_data"
    },
    {
     "data": {
      "text/plain": [
       "<function __main__.plot_all(t1, t2, j)>"
      ]
     },
     "execution_count": 17,
     "metadata": {},
     "output_type": "execute_result"
    }
   ],
   "source": [
    "def plot_dos(ax, file_path):\n",
    "    dos = np.loadtxt(os.path.join(file_path, 'dos.dat'))\n",
    "    ax.set_ylim([0, 1.5])\n",
    "    ax.plot(dos[:,0], dos[:,1])\n",
    "    \n",
    "#     spectrum = dos[:,1]\n",
    "#     peaks, _ = find_peaks(spectrum)\n",
    "#     prom = peak_prominences(spectrum, peaks)[0]\n",
    "#     bottom = spectrum[peaks] - prom\n",
    "\n",
    "#     ax.plot(spectrum)\n",
    "#     ax.scatter(peaks, spectrum[peaks], color = 'orange')\n",
    "\n",
    "#     ax.vlines(x=peaks, ymin=bottom, ymax=spectrum[peaks], color = 'orange')\n",
    "    \n",
    "    \n",
    "def plot_all(t1, t2, j):\n",
    "    fig, ax = plt.subplots(figsize=(15, 5))\n",
    "    file_path = os.path.join(data_loc, f'param_{t1:.2f}_{t2:.2f}_{j:.3f}')\n",
    "    \n",
    "    plot_dos(ax, file_path)\n",
    "interact(plot_all, t1 = (-0.50, -0.02, 0.02), t2 = (0.02, 0.50, 0.02), j = (0.2, 1.0, 0.016))"
   ]
  },
  {
   "cell_type": "code",
   "execution_count": 9,
   "id": "5f3ded03",
   "metadata": {},
   "outputs": [
    {
     "data": {
      "application/vnd.jupyter.widget-view+json": {
       "model_id": "3472c89e51ac4f7e9c9bdea54b9abfd5",
       "version_major": 2,
       "version_minor": 0
      },
      "text/plain": [
       "interactive(children=(FloatSlider(value=-0.26, description='t1', max=-0.02, min=-0.5, step=0.02), FloatSlider(…"
      ]
     },
     "metadata": {},
     "output_type": "display_data"
    },
    {
     "data": {
      "text/plain": [
       "<function __main__.plot_all(t1, t2, j)>"
      ]
     },
     "execution_count": 9,
     "metadata": {},
     "output_type": "execute_result"
    }
   ],
   "source": [
    "def plot_all(t1, t2, j):\n",
    "    plt.figure(figsize = (15, 5))\n",
    "    #plt.ylim([0, 1.5])\n",
    "    \n",
    "    t1_ind = round((t1 + 0.5) * 50)\n",
    "    t2_ind = round((t2 - 0.02) * 50)\n",
    "    j_ind = round((j - 0.2) * 62.5)\n",
    "    plt.plot(np.linspace(-4.36, 9.76, 354), all_dos[t1_ind, t2_ind, j_ind])\n",
    "    \n",
    "interact(plot_all, t1 = (-0.50, -0.02, 0.02), t2 = (0.02, 0.50, 0.02), j = (0.2, 1.0, 0.016))"
   ]
  },
  {
   "cell_type": "code",
   "execution_count": 8,
   "id": "84f53f7c",
   "metadata": {},
   "outputs": [
    {
     "data": {
      "text/plain": [
       "[<matplotlib.lines.Line2D at 0x2b491ad00280>]"
      ]
     },
     "execution_count": 8,
     "metadata": {},
     "output_type": "execute_result"
    },
    {
     "data": {
      "image/png": "[encoded data removed]",
      "text/plain": [
       "<Figure size 1080x360 with 1 Axes>"
      ]
     },
     "metadata": {
      "needs_background": "light"
     },
     "output_type": "display_data"
    }
   ],
   "source": [
    "plt.figure(figsize = (15, 5))\n",
    "t1_ind = round((-0.5 + 0.5) * 50)\n",
    "t2_ind = round((0.5 - 0.02) * 50)\n",
    "j_ind = round((0.2 - 0.2) * 62.5)\n",
    "\n",
    "plt.plot(np.linspace(-4.36, 9.76, 354), all_dos[t1_ind, t2_ind, j_ind])\n",
    "\n",
    "t1_ind = round((-0.02 + 0.5) * 50)\n",
    "t2_ind = round((0.02 - 0.02) * 50)\n",
    "j_ind = round((1.0 - 0.2) * 62.5)\n",
    "    \n",
    "plt.plot(np.linspace(-4.36, 9.76, 354), all_dos[t1_ind, t2_ind, j_ind])"
   ]
  }
 ],
 "metadata": {
  "kernelspec": {
   "display_name": "Python 3 (ipykernel)",
   "language": "python",
   "name": "python3"
  },
  "language_info": {
   "codemirror_mode": {
    "name": "ipython",
    "version": 3
   },
   "file_extension": ".py",
   "mimetype": "text/x-python",
   "name": "python",
   "nbconvert_exporter": "python",
   "pygments_lexer": "ipython3",
   "version": "3.10.4"
  }
 },
 "nbformat": 4,
 "nbformat_minor": 5
}
