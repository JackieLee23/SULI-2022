{
 "cells": [
  {
   "cell_type": "code",
   "execution_count": 1,
   "id": "2199349f",
   "metadata": {},
   "outputs": [],
   "source": [
    "##############################\n",
    "######The great shift ########\n",
    "##############################\n",
    "import numpy as np\n",
    "import os\n",
    "import matplotlib.pyplot as plt\n",
    "import sys\n",
    "import math\n",
    "root = 'project/wyin/jlee/ml-project'\n",
    "util_loc = os.path.join(root, \"utils\")\n",
    "sys.path.append(util_loc)\n",
    "data_loc = '/project/wyin/jlee/ml-project/dos-prediction-full/data'\n",
    "k_data_loc = '/project/wyin/jlee/ml-project/data-collection/full-dataset/data'"
   ]
  },
  {
   "cell_type": "code",
   "execution_count": 2,
   "id": "ccc190a1",
   "metadata": {},
   "outputs": [],
   "source": [
    "train_set = np.load(os.path.join(data_loc, 'train-set.npz'))\n",
    "train_params = train_set['params']\n",
    "\n",
    "val_set = np.load(os.path.join(data_loc, 'val-set.npz'))\n",
    "val_params = val_set['params']\n",
    "\n",
    "test_set = np.load(os.path.join(data_loc, 'test-set.npz'))\n",
    "test_params = test_set['params']"
   ]
  },
  {
   "cell_type": "code",
   "execution_count": 6,
   "id": "3e9ca1cb",
   "metadata": {},
   "outputs": [
    {
     "name": "stdout",
     "output_type": "stream",
     "text": [
      "(-3.74812, -1.66401, (-0.5, 0.5, 0.2), (-0.02, 0.02, 1.0))\n",
      "(-3.65977, -1.71411, (-0.4, 0.5, 0.216), (-0.06, 0.02, 0.968))\n",
      "(-3.69677, -1.68959, (-0.48, 0.5, 0.232), (-0.06, 0.02, 1.0))\n"
     ]
    }
   ],
   "source": [
    "def min_max(param_arr):\n",
    "    count = 0\n",
    "    mx = -1e6\n",
    "    mn = 1e6\n",
    "    mx_params = (-1, -1, -1)\n",
    "    mn_params = (-1, -1, -1)\n",
    "    for t1, t2, j in param_arr:\n",
    "        if t1 < 0 and t2 > 0:\n",
    "            k_dat = np.loadtxt(os.path.join(k_data_loc, f'param_{t1:.2f}_{t2:.2f}_{j:.3f}', 'disp_10-01.dat'))\n",
    "            e_m = k_dat[32, 1]\n",
    "            \n",
    "            if e_m > mx:\n",
    "                mx = e_m\n",
    "                mx_params = (t1, t2, j)\n",
    "            \n",
    "            if e_m < mn:\n",
    "                mn = e_m\n",
    "                mn_params = (t1, t2, j)\n",
    "            \n",
    "    return mn, mx, mn_params, mx_params\n",
    "    \n",
    "print(min_max(train_params))\n",
    "print(min_max(val_params))\n",
    "print(min_max(test_params))\n"
   ]
  },
  {
   "cell_type": "code",
   "execution_count": 9,
   "id": "d933c7bd",
   "metadata": {},
   "outputs": [
    {
     "name": "stdout",
     "output_type": "stream",
     "text": [
      "9.74812\n",
      "-4.33599\n"
     ]
    }
   ],
   "source": [
    "print(6 + 3.74812)\n",
    "print(-6 + 1.66401)"
   ]
  },
  {
   "cell_type": "code",
   "execution_count": 7,
   "id": "59f3f39c",
   "metadata": {},
   "outputs": [
    {
     "ename": "NameError",
     "evalue": "name 'mx1' is not defined",
     "output_type": "error",
     "traceback": [
      "\u001b[0;31m---------------------------------------------------------------------------\u001b[0m",
      "\u001b[0;31mNameError\u001b[0m                                 Traceback (most recent call last)",
      "Input \u001b[0;32mIn [7]\u001b[0m, in \u001b[0;36m<cell line: 1>\u001b[0;34m()\u001b[0m\n\u001b[0;32m----> 1\u001b[0m w_min \u001b[38;5;241m=\u001b[39m \u001b[38;5;241m-\u001b[39m\u001b[38;5;241m6\u001b[39m \u001b[38;5;241m-\u001b[39m \u001b[38;5;28mmax\u001b[39m(\u001b[43mmx1\u001b[49m, mx2, mx3)\n\u001b[1;32m      2\u001b[0m w_max \u001b[38;5;241m=\u001b[39m \u001b[38;5;241m6\u001b[39m \u001b[38;5;241m-\u001b[39m \u001b[38;5;28mmin\u001b[39m(mn1, mn2, mn3)\n\u001b[1;32m      4\u001b[0m w_min \u001b[38;5;241m=\u001b[39m np\u001b[38;5;241m.\u001b[39mround(w_min, \u001b[38;5;241m2\u001b[39m)\n",
      "\u001b[0;31mNameError\u001b[0m: name 'mx1' is not defined"
     ]
    }
   ],
   "source": [
    "w_min = -6 - max(mx1, mx2, mx3)\n",
    "w_max = 6 - min(mn1, mn2, mn3)\n",
    "\n",
    "w_min = np.round(w_min, 2)\n",
    "w_max = np.round(w_max, 2)\n",
    "print(w_min)\n",
    "print(w_max)"
   ]
  },
  {
   "cell_type": "code",
   "execution_count": 42,
   "id": "b638674c",
   "metadata": {},
   "outputs": [],
   "source": [
    "#Set limits so the whole space can be sampled with dw = 0.04 intervals\n",
    "w_min = -4.36\n",
    "w_max = 9.76"
   ]
  },
  {
   "cell_type": "code",
   "execution_count": 127,
   "id": "ceb40cb3",
   "metadata": {},
   "outputs": [],
   "source": [
    "def new_dos(params):\n",
    "    \n",
    "    t1, t2, j = params\n",
    "    dos_dat = np.loadtxt(os.path.join(k_data_loc, f'param_{t1:.2f}_{t2:.2f}_{j:.3f}', 'dos.dat'))\n",
    "    k_dat = np.loadtxt(os.path.join(k_data_loc, f'param_{t1:.2f}_{t2:.2f}_{j:.3f}', 'disp_10-01.dat'))\n",
    "    e_m = np.round(k_dat[32, 1], 2)\n",
    "\n",
    "    w_left = np.round(-6 - e_m, 2)\n",
    "    w_right = np.round(6 - e_m, 2)\n",
    "    \n",
    "    n_left = np.round((w_left - w_min) / 0.04, 2)\n",
    "    n_right = np.round((w_max - w_right) / 0.04, 2)\n",
    "    n_left = math.ceil(n_left) #Number of zeros to pad left side with\n",
    "    n_right = math.ceil(n_right)\n",
    "    \n",
    "    first_w = np.round(w_min + 0.04 * n_left, 2)\n",
    "    first_ind = round((first_w - w_left) / 0.01)\n",
    "    middle_dos = dos_dat[first_ind:1201:4, 1].tolist()\n",
    "    \n",
    "    full_dos = n_left * [0] + middle_dos + n_right * [0]\n",
    "    \n",
    "#     print(f\"n_left: {n_left}, n_mid: {len(middle_dos)}, n_right: {n_right}\")\n",
    "#     print(f\"w_left: {w_left}, w_right: {w_right}\")\n",
    "    return full_dos\n",
    "\n",
    "def new_param_dos(params):\n",
    "    return_params = []\n",
    "    return_dos = []\n",
    "    i = 0\n",
    "    for i, [t1, t2, j] in enumerate(params):\n",
    "            if t1 < 0 and t2 > 0:\n",
    "                dos = new_dos([t1, t2, j])\n",
    "                if len(dos) != 354:\n",
    "                    print(f\"something wrong with {i}\")\n",
    "                return_dos.append(dos)\n",
    "                return_params.append([t1, t2, j])\n",
    "                \n",
    "                \n",
    "            if i % 10000 == 0:\n",
    "                print(f\"done with {i}\")\n",
    "\n",
    "    return_params = np.array(return_params)\n",
    "    return_dos = np.array(return_dos)\n",
    "    \n",
    "    return return_params, return_dos"
   ]
  },
  {
   "cell_type": "code",
   "execution_count": 128,
   "id": "dcd3cfea",
   "metadata": {},
   "outputs": [
    {
     "name": "stdout",
     "output_type": "stream",
     "text": [
      "done with 0\n",
      "done with 10000\n",
      "done with 20000\n",
      "done with 30000\n",
      "done with 40000\n",
      "done with 50000\n",
      "done with 60000\n",
      "done with 70000\n",
      "done with 80000\n",
      "done with 90000\n",
      "done with 100000\n"
     ]
    }
   ],
   "source": [
    "new_train_params, new_train_dos = new_param_dos(train_params)"
   ]
  },
  {
   "cell_type": "code",
   "execution_count": 135,
   "id": "a4a22bb9",
   "metadata": {},
   "outputs": [
    {
     "name": "stdout",
     "output_type": "stream",
     "text": [
      "done with 0\n",
      "done with 10000\n",
      "done with 0\n",
      "done with 10000\n"
     ]
    }
   ],
   "source": [
    "new_val_params, new_val_dos = new_param_dos(val_params)\n",
    "new_test_params, new_test_dos = new_param_dos(test_params)"
   ]
  },
  {
   "cell_type": "code",
   "execution_count": 137,
   "id": "e0aa13b4",
   "metadata": {},
   "outputs": [],
   "source": [
    "np.savez(\"data/train-set\", params = new_train_params, dos = new_train_dos)"
   ]
  },
  {
   "cell_type": "code",
   "execution_count": 138,
   "id": "1c28b992",
   "metadata": {},
   "outputs": [],
   "source": [
    "np.savez(\"data/val-set\", params = new_val_params, dos = new_val_dos)\n",
    "np.savez(\"data/test-set\", params = new_test_params, dos = new_test_dos)"
   ]
  },
  {
   "cell_type": "code",
   "execution_count": 140,
   "id": "52b5f5c2",
   "metadata": {},
   "outputs": [],
   "source": [
    "train_set = np.load(\"data/train-set.npz\")\n",
    "train_dos = train_set['dos']"
   ]
  },
  {
   "cell_type": "code",
   "execution_count": 141,
   "id": "544b9c19",
   "metadata": {},
   "outputs": [
    {
     "data": {
      "text/plain": [
       "[<matplotlib.lines.Line2D at 0x2ac3cfdbd8d0>]"
      ]
     },
     "execution_count": 141,
     "metadata": {},
     "output_type": "execute_result"
    },
    {
     "data": {
      "image/png": "[encoded data removed]",
      "text/plain": [
       "<Figure size 432x288 with 1 Axes>"
      ]
     },
     "metadata": {
      "needs_background": "light"
     },
     "output_type": "display_data"
    }
   ],
   "source": [
    "plt.plot(np.linspace(-4.36, 9.76, 354), train_dos[0])"
   ]
  }
 ],
 "metadata": {
  "kernelspec": {
   "display_name": "Python 3 (ipykernel)",
   "language": "python",
   "name": "python3"
  },
  "language_info": {
   "codemirror_mode": {
    "name": "ipython",
    "version": 3
   },
   "file_extension": ".py",
   "mimetype": "text/x-python",
   "name": "python",
   "nbconvert_exporter": "python",
   "pygments_lexer": "ipython3",
   "version": "3.10.4"
  }
 },
 "nbformat": 4,
 "nbformat_minor": 5
}
