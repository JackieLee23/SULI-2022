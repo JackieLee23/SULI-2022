{
 "cells": [
  {
   "cell_type": "code",
   "execution_count": 3,
   "id": "90b91fb8",
   "metadata": {},
   "outputs": [
    {
     "name": "stdout",
     "output_type": "stream",
     "text": [
      "/project/wyin/jlee/ml-project/inverse-shifted/neural-nets/hyperparameters\n"
     ]
    }
   ],
   "source": [
    "import numpy as np\n",
    "import pandas as pd\n",
    "import os\n",
    "import tensorboard as tb\n",
    "import pickle\n",
    "print(os.getcwd())\n",
    "val_end_path = \"/project/wyin/jlee/ml-project/inverse-shifted/neural-nets/hyperparameters/val-ends/arch-search-15-min-2\""
   ]
  },
  {
   "cell_type": "code",
   "execution_count": 4,
   "id": "389dbbe6",
   "metadata": {},
   "outputs": [],
   "source": [
    "errors = []\n",
    "for file in os.listdir(val_end_path):\n",
    "    if file != \".ipynb_checkpoints\":\n",
    "        file_loc = os.path.join(val_end_path, file)\n",
    "        x = pickle.load(open(file_loc, \"rb\"))\n",
    "        errors.append((x[0]['val_loss'], file))"
   ]
  },
  {
   "cell_type": "code",
   "execution_count": 5,
   "id": "033a2f97",
   "metadata": {},
   "outputs": [
    {
     "name": "stdout",
     "output_type": "stream",
     "text": [
      "12\n"
     ]
    }
   ],
   "source": [
    "errors = sorted(errors, key = lambda x : x[0])\n",
    "print(len(errors))"
   ]
  },
  {
   "cell_type": "code",
   "execution_count": 6,
   "id": "9892bf72",
   "metadata": {},
   "outputs": [
    {
     "name": "stdout",
     "output_type": "stream",
     "text": [
      "(5.592672778220731e-07, '[354, 252, 210, 168, 126, 84, 42, 3],0.001,128,0.5')\n",
      "(5.718633246942773e-07, '[354, 256, 256, 256, 256, 3],0.001,128,0.5')\n",
      "(6.052066510164877e-07, '[354, 256, 192, 128, 64, 3],0.001,128,0.5')\n",
      "(6.326121138044982e-07, '[354, 256, 128, 64, 32, 3],0.001,128,0.5')\n",
      "(6.413687856365868e-07, '[354, 256, 256, 256, 3],0.001,128,0.5')\n",
      "(6.474999736383324e-07, '[354, 255, 204, 153, 102, 51, 3],0.001,128,0.5')\n",
      "(6.65059758375719e-07, '[354, 256, 128, 64, 32, 16, 3],0.001,128,0.5')\n",
      "(8.276048220068333e-07, '[354, 255, 170, 85, 3],0.001,128,0.5')\n",
      "(1.042027633957332e-06, '[354, 128, 96, 64, 32, 3],0.001,128,0.5')\n",
      "(1.1042247933801264e-06, '[354, 128, 128, 128, 128, 3],0.001,128,0.5')\n",
      "(1.422424702468561e-06, '[354, 128, 128, 128, 3],0.001,128,0.5')\n",
      "(1.4775314411963336e-06, '[354, 256, 128, 64, 32, 16, 8, 3],0.001,128,0.5')\n"
     ]
    }
   ],
   "source": [
    "for pair in errors:\n",
    "    \n",
    "    #print(pair[1].rpartition(']')[0] + '],')\n",
    "    print(pair)\n",
    "    #pair[1].rpartition(']')[0] + '],'"
   ]
  },
  {
   "cell_type": "code",
   "execution_count": null,
   "id": "524c1b5c",
   "metadata": {},
   "outputs": [],
   "source": []
  }
 ],
 "metadata": {
  "kernelspec": {
   "display_name": "Python 3 (ipykernel)",
   "language": "python",
   "name": "python3"
  },
  "language_info": {
   "codemirror_mode": {
    "name": "ipython",
    "version": 3
   },
   "file_extension": ".py",
   "mimetype": "text/x-python",
   "name": "python",
   "nbconvert_exporter": "python",
   "pygments_lexer": "ipython3",
   "version": "3.10.4"
  }
 },
 "nbformat": 4,
 "nbformat_minor": 5
}
