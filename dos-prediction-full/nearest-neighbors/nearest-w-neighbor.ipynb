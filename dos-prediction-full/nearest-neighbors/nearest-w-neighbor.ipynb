{
 "cells": [
  {
   "cell_type": "code",
   "execution_count": 3,
   "id": "be148a47",
   "metadata": {},
   "outputs": [
    {
     "name": "stdout",
     "output_type": "stream",
     "text": [
      "/project/wyin/jlee/ml-project/dos-prediction/nearest-neighbors\n"
     ]
    }
   ],
   "source": [
    "import numpy as np\n",
    "import pandas as pd\n",
    "import os\n",
    "from os import path\n",
    "import matplotlib.pyplot as plt\n",
    "from sklearn.preprocessing import StandardScaler\n",
    "from sklearn.neighbors import RadiusNeighborsRegressor, KNeighborsRegressor\n",
    "data_loc = '/project/wyin/jlee/ml-project/dos-prediction/data'\n",
    "print(os.getcwd())"
   ]
  },
  {
   "cell_type": "code",
   "execution_count": 5,
   "id": "f7e4d47f",
   "metadata": {},
   "outputs": [],
   "source": [
    "train_set = np.load(os.path.join(data_loc, 'train-set.npz'))\n",
    "train_params = train_set['params']\n",
    "train_dos = train_set['dos']"
   ]
  },
  {
   "cell_type": "code",
   "execution_count": 6,
   "id": "239e1913",
   "metadata": {},
   "outputs": [],
   "source": [
    "val_set = np.load(os.path.join(data_loc, 'val-set.npz'))\n",
    "val_params = val_set['params']\n",
    "val_dos = val_set['dos']"
   ]
  },
  {
   "cell_type": "code",
   "execution_count": 7,
   "id": "5d82e51f",
   "metadata": {},
   "outputs": [],
   "source": [
    "test_set = np.load(os.path.join(data_loc, 'test-set.npz'))\n",
    "test_params = test_set['params']\n",
    "test_dos = test_set['dos']"
   ]
  },
  {
   "cell_type": "code",
   "execution_count": 10,
   "id": "a7a7bdaf",
   "metadata": {},
   "outputs": [],
   "source": [
    "scaler = StandardScaler()\n",
    "train_params_scaled = scaler.fit_transform(train_params)\n",
    "val_params_scaled = scaler.transform(val_params)"
   ]
  },
  {
   "cell_type": "code",
   "execution_count": 28,
   "id": "f5b1c32f",
   "metadata": {},
   "outputs": [
    {
     "name": "stdout",
     "output_type": "stream",
     "text": [
      "completed 0\n",
      "completed 1000\n",
      "completed 2000\n",
      "completed 3000\n",
      "completed 4000\n",
      "completed 5000\n",
      "completed 6000\n",
      "completed 7000\n",
      "completed 8000\n",
      "completed 9000\n",
      "completed 10000\n",
      "completed 11000\n",
      "completed 12000\n",
      "completed 13000\n",
      "completed 14000\n",
      "completed 15000\n",
      "completed 16000\n",
      "completed 17000\n",
      "completed 18000\n",
      "completed 19000\n",
      "completed 20000\n",
      "completed 21000\n",
      "completed 22000\n",
      "completed 23000\n",
      "completed 24000\n",
      "completed 25000\n",
      "completed 26000\n",
      "completed 27000\n",
      "completed 28000\n",
      "completed 29000\n",
      "completed 30000\n",
      "completed 31000\n",
      "completed 32000\n",
      "completed 33000\n",
      "completed 34000\n",
      "completed 35000\n",
      "completed 36000\n",
      "completed 37000\n",
      "completed 38000\n",
      "completed 39000\n",
      "completed 40000\n",
      "completed 41000\n",
      "completed 42000\n",
      "completed 43000\n",
      "completed 44000\n",
      "completed 45000\n",
      "completed 46000\n",
      "completed 47000\n",
      "completed 48000\n",
      "completed 49000\n",
      "completed 50000\n",
      "completed 51000\n",
      "completed 52000\n",
      "completed 53000\n",
      "completed 54000\n",
      "completed 55000\n",
      "completed 56000\n",
      "completed 57000\n",
      "completed 58000\n",
      "completed 59000\n",
      "completed 60000\n",
      "completed 61000\n",
      "completed 62000\n",
      "completed 63000\n",
      "completed 64000\n",
      "completed 65000\n",
      "completed 66000\n",
      "completed 67000\n",
      "completed 68000\n",
      "completed 69000\n",
      "completed 70000\n",
      "completed 71000\n",
      "completed 72000\n",
      "completed 73000\n",
      "completed 74000\n",
      "completed 75000\n",
      "completed 76000\n",
      "completed 77000\n",
      "completed 78000\n",
      "completed 79000\n",
      "completed 80000\n",
      "completed 81000\n",
      "completed 82000\n",
      "completed 83000\n",
      "completed 84000\n",
      "completed 85000\n",
      "completed 86000\n",
      "completed 87000\n",
      "completed 88000\n",
      "completed 89000\n",
      "completed 90000\n",
      "completed 91000\n",
      "completed 92000\n",
      "completed 93000\n",
      "completed 94000\n",
      "completed 95000\n",
      "completed 96000\n",
      "completed 97000\n",
      "completed 98000\n",
      "completed 99000\n",
      "completed 100000\n",
      "completed 101000\n",
      "completed 102000\n",
      "completed 103000\n",
      "completed 104000\n",
      "completed 105000\n",
      "completed 106000\n"
     ]
    }
   ],
   "source": [
    "#w averaging\n",
    "train_dos_avg = []\n",
    "for i, dos in enumerate(train_dos):\n",
    "    avg = []\n",
    "    for j in range(dos.size):\n",
    "        if j == 0:\n",
    "            avg.append(0.7 * dos[0] + 0.3 * dos[1])\n",
    "        elif j == dos.size - 1:\n",
    "            avg.append(0.7 * dos[j] + 0.3 * dos[j - 1])\n",
    "            \n",
    "        else:\n",
    "            avg.append(0.2 * dos[j - 1] + 0.2 * dos[j + 1] + 0.6 * dos[j])\n",
    "            \n",
    "    train_dos_avg.append(avg)\n",
    "    if (i % 1000 == 0):\n",
    "        print(f\"completed {i}\")\n",
    "    \n",
    "train_dos_avg = np.array(train_dos_avg)"
   ]
  },
  {
   "cell_type": "code",
   "execution_count": 29,
   "id": "43d238c0",
   "metadata": {},
   "outputs": [
    {
     "data": {
      "text/plain": [
       "[<matplotlib.lines.Line2D at 0x2accf9029960>]"
      ]
     },
     "execution_count": 29,
     "metadata": {},
     "output_type": "execute_result"
    },
    {
     "data": {
      "image/png": "[encoded data removed]",
      "text/plain": [
       "<Figure size 432x288 with 1 Axes>"
      ]
     },
     "metadata": {
      "needs_background": "light"
     },
     "output_type": "display_data"
    }
   ],
   "source": [
    "plt.plot(train_dos_avg[0])\n",
    "plt.plot(train_dos[0])"
   ]
  },
  {
   "cell_type": "code",
   "execution_count": 30,
   "id": "05e5642c",
   "metadata": {},
   "outputs": [
    {
     "name": "stdout",
     "output_type": "stream",
     "text": [
      "trying n neights = 1\n",
      "trying n neights = 2\n",
      "trying n neights = 3\n",
      "trying n neights = 4\n",
      "trying n neights = 5\n",
      "trying n neights = 6\n",
      "trying n neights = 7\n",
      "trying n neights = 8\n",
      "trying n neights = 9\n",
      "trying n neights = 10\n",
      "trying n neights = 11\n",
      "trying n neights = 12\n",
      "trying n neights = 13\n",
      "trying n neights = 14\n",
      "trying n neights = 15\n",
      "trying n neights = 16\n",
      "trying n neights = 17\n",
      "trying n neights = 18\n",
      "trying n neights = 19\n"
     ]
    }
   ],
   "source": [
    "knn_mse_uniform = []\n",
    "for i in range(1, 20):\n",
    "    print(f\"trying n neights = {i}\")\n",
    "    neigh = KNeighborsRegressor(n_neighbors = i)\n",
    "    neigh.fit(train_params_scaled, train_dos_avg)\n",
    "    predicted = neigh.predict(val_params_scaled)\n",
    "    \n",
    "    mse = np.mean((val_dos - predicted)**2)\n",
    "    knn_mse_uniform.append(mse)\n",
    "\n",
    "knn_mse_uniform = np.array(knn_mse_uniform)"
   ]
  },
  {
   "cell_type": "code",
   "execution_count": 31,
   "id": "98d7d70a",
   "metadata": {},
   "outputs": [
    {
     "name": "stdout",
     "output_type": "stream",
     "text": [
      "6.333071016882485e-05\n",
      "4\n"
     ]
    },
    {
     "data": {
      "image/png": "[encoded data removed]",
      "text/plain": [
       "<Figure size 432x288 with 1 Axes>"
      ]
     },
     "metadata": {
      "needs_background": "light"
     },
     "output_type": "display_data"
    }
   ],
   "source": [
    "plt.plot(np.arange(1, 20), knn_mse_uniform)\n",
    "print(np.min(knn_mse_uniform))\n",
    "print(np.argmin(knn_mse_uniform) + 1)"
   ]
  },
  {
   "cell_type": "code",
   "execution_count": 23,
   "id": "f9a18148",
   "metadata": {},
   "outputs": [
    {
     "name": "stdout",
     "output_type": "stream",
     "text": [
      "trying n neighs = 1\n",
      "trying n neighs = 2\n",
      "trying n neighs = 3\n",
      "trying n neighs = 4\n",
      "trying n neighs = 5\n",
      "trying n neighs = 6\n",
      "trying n neighs = 7\n",
      "trying n neighs = 8\n",
      "trying n neighs = 9\n",
      "trying n neighs = 10\n",
      "trying n neighs = 11\n",
      "trying n neighs = 12\n",
      "trying n neighs = 13\n",
      "trying n neighs = 14\n",
      "trying n neighs = 15\n",
      "trying n neighs = 16\n",
      "trying n neighs = 17\n",
      "trying n neighs = 18\n",
      "trying n neighs = 19\n"
     ]
    }
   ],
   "source": [
    "knn_mse_weighted = []\n",
    "def WeightFunc(distances):\n",
    "    return distances ** -4\n",
    "for i in range(1, 20):\n",
    "    print(f'trying n neighs = {i}')\n",
    "    neigh = KNeighborsRegressor(n_neighbors = i, weights = WeightFunc)\n",
    "    neigh.fit(train_params_scaled, train_dos_avg)\n",
    "    predicted = neigh.predict(val_params_scaled)\n",
    "    \n",
    "    mse = np.mean((val_dos - predicted)**2)\n",
    "    knn_mse_weighted.append(mse)\n",
    "\n",
    "knn_mse_weighted = np.array(knn_mse_weighted)"
   ]
  },
  {
   "cell_type": "code",
   "execution_count": 24,
   "id": "868a973d",
   "metadata": {},
   "outputs": [
    {
     "name": "stdout",
     "output_type": "stream",
     "text": [
      "7.677467820579203e-05\n",
      "4\n"
     ]
    },
    {
     "data": {
      "image/png": "[encoded data removed]",
      "text/plain": [
       "<Figure size 432x288 with 1 Axes>"
      ]
     },
     "metadata": {
      "needs_background": "light"
     },
     "output_type": "display_data"
    }
   ],
   "source": [
    "plt.plot(np.arange(1, 20), knn_mse_weighted)\n",
    "print(np.min(knn_mse_weighted))\n",
    "print(np.argmin(knn_mse_weighted) + 1)"
   ]
  }
 ],
 "metadata": {
  "kernelspec": {
   "display_name": "Python 3 (ipykernel)",
   "language": "python",
   "name": "python3"
  },
  "language_info": {
   "codemirror_mode": {
    "name": "ipython",
    "version": 3
   },
   "file_extension": ".py",
   "mimetype": "text/x-python",
   "name": "python",
   "nbconvert_exporter": "python",
   "pygments_lexer": "ipython3",
   "version": "3.10.4"
  }
 },
 "nbformat": 4,
 "nbformat_minor": 5
}
