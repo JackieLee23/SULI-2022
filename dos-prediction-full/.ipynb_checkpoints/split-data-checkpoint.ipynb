{
 "cells": [
  {
   "cell_type": "code",
   "execution_count": 3,
   "id": "17df77d3",
   "metadata": {},
   "outputs": [],
   "source": [
    "import pandas as pd\n",
    "import numpy as np"
   ]
  },
  {
   "cell_type": "code",
   "execution_count": 24,
   "id": "808f1b50",
   "metadata": {},
   "outputs": [
    {
     "name": "stdout",
     "output_type": "stream",
     "text": [
      "(132651, 3)\n"
     ]
    }
   ],
   "source": [
    "params_arr = []\n",
    "for t1 in np.linspace(-0.5, 0.5, 51):\n",
    "    for t2 in np.linspace(-0.5, 0.5, 51):\n",
    "        for j in np.linspace(0.2, 1.0, 51):\n",
    "            params_arr.append([np.round(t1, 2), np.round(t2, 2), np.round(j, 3)])\n",
    "            \n",
    "params_arr = np.array(params_arr)\n",
    "print(params_arr.shape)"
   ]
  },
  {
   "cell_type": "code",
   "execution_count": 25,
   "id": "8e44613d",
   "metadata": {},
   "outputs": [
    {
     "name": "stdout",
     "output_type": "stream",
     "text": [
      "[[ 0.06  -0.12   0.856]\n",
      " [ 0.42   0.24   0.52 ]\n",
      " [-0.16  -0.06   0.904]\n",
      " ...\n",
      " [-0.28   0.46   0.296]\n",
      " [-0.18   0.14   0.808]\n",
      " [-0.06   0.48   0.648]]\n"
     ]
    }
   ],
   "source": [
    "np.random.shuffle(params_arr)\n",
    "print(params_arr)"
   ]
  },
  {
   "cell_type": "code",
   "execution_count": 26,
   "id": "7e97e18c",
   "metadata": {},
   "outputs": [],
   "source": [
    "num_points = params_arr.shape[0]\n",
    "train_set = params_arr[:int(num_points * 0.8)]\n",
    "val_set = params_arr[int(num_points * 0.8) : int(num_points * 0.9)]\n",
    "test_set = params_arr[int(num_points * 0.9):]"
   ]
  },
  {
   "cell_type": "code",
   "execution_count": 27,
   "id": "ed71edbf",
   "metadata": {},
   "outputs": [
    {
     "name": "stdout",
     "output_type": "stream",
     "text": [
      "(106120, 3)\n",
      "(13265, 3)\n",
      "(13266, 3)\n",
      "[[-0.18   0.02   0.824]\n",
      " [-0.22  -0.08   0.2  ]\n",
      " [-0.38  -0.4    0.2  ]\n",
      " ...\n",
      " [-0.46   0.18   0.696]\n",
      " [ 0.32  -0.34   0.936]\n",
      " [-0.38  -0.02   0.824]]\n"
     ]
    }
   ],
   "source": [
    "print(train_set.shape)\n",
    "print(val_set.shape)\n",
    "print(test_set.shape)\n",
    "print(val_set)"
   ]
  },
  {
   "cell_type": "code",
   "execution_count": 28,
   "id": "90969597",
   "metadata": {},
   "outputs": [
    {
     "name": "stdout",
     "output_type": "stream",
     "text": [
      "t1 above 0: 51984\n",
      "t1 equal 0: 2064\n",
      "t1 below 0: 52072\n",
      "\n",
      "t1 above 0: 6526\n",
      "t1 equal 0: 273\n",
      "t1 below 0: 6466\n",
      "\n",
      "t1 above 0: 6515\n",
      "t1 equal 0: 264\n",
      "t1 below 0: 6487\n",
      "\n"
     ]
    }
   ],
   "source": [
    "#Make sure they're random\n",
    "def verify(in_set):\n",
    "    print(f\"t1 above 0: {np.sum(in_set[:,0] > 0)}\")\n",
    "    print(f\"t1 equal 0: {np.sum(in_set[:,0] == 0)}\")\n",
    "    print(f\"t1 below 0: {np.sum(in_set[:,0] < 0)}\")\n",
    "    print()\n",
    "    \n",
    "verify(train_set)\n",
    "verify(val_set)\n",
    "verify(test_set)"
   ]
  },
  {
   "cell_type": "code",
   "execution_count": 29,
   "id": "f3dde50a",
   "metadata": {},
   "outputs": [],
   "source": [
    "#Save to pandas dataframe\n",
    "def save_dataframe(in_set, name):\n",
    "    df = pd.DataFrame(in_set, columns = ['t1','t2','J'])\n",
    "    df.to_csv(f'files/{name}.csv', index = False)\n",
    "    \n",
    "save_dataframe(train_set, \"train-set\")\n",
    "save_dataframe(val_set, \"val-set\")\n",
    "save_dataframe(test_set, \"test-set\")"
   ]
  }
 ],
 "metadata": {
  "kernelspec": {
   "display_name": "Python 3 (ipykernel)",
   "language": "python",
   "name": "python3"
  },
  "language_info": {
   "codemirror_mode": {
    "name": "ipython",
    "version": 3
   },
   "file_extension": ".py",
   "mimetype": "text/x-python",
   "name": "python",
   "nbconvert_exporter": "python",
   "pygments_lexer": "ipython3",
   "version": "3.10.4"
  }
 },
 "nbformat": 4,
 "nbformat_minor": 5
}
