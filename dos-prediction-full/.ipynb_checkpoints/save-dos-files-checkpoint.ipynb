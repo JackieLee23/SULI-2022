{
 "cells": [
  {
   "cell_type": "code",
   "execution_count": 31,
   "id": "b1c2212a",
   "metadata": {},
   "outputs": [
    {
     "name": "stdout",
     "output_type": "stream",
     "text": [
      "/project/wyin/jlee/ml-project/dos-prediction\n"
     ]
    }
   ],
   "source": [
    "#save 301-sampled dos files for easier data loading\n",
    "import numpy as np\n",
    "import pandas as pd\n",
    "import os\n",
    "from os import path\n",
    "data_loc = '/project/wyin/jlee/ml-project/data-collection/full-dataset/data'\n",
    "print(os.getcwd())"
   ]
  },
  {
   "cell_type": "code",
   "execution_count": 4,
   "id": "464ea007",
   "metadata": {},
   "outputs": [],
   "source": [
    "def get_xy(file_name):\n",
    "    df = pd.read_csv(f'files/{file_name}.csv', index_col=False)\n",
    "    params_arr = df.to_numpy()\n",
    "    \n",
    "    dos_arr = []\n",
    "    count = 0\n",
    "    for (t1, t2, j) in params_arr:\n",
    "        dos_dat = np.loadtxt(path.join(data_loc, f'param_{t1:.2f}_{t2:.2f}_{j:.3f}', 'dos.dat'))\n",
    "        dos_arr.append(dos_dat[0:1201:4, 1])\n",
    "        \n",
    "        count += 1\n",
    "        if count % 1000 == 0:\n",
    "            print(f\"Loaded {count}\")\n",
    "        \n",
    "    return params_arr, np.array(dos_arr)"
   ]
  },
  {
   "cell_type": "code",
   "execution_count": 5,
   "id": "8d960bbb",
   "metadata": {},
   "outputs": [
    {
     "name": "stdout",
     "output_type": "stream",
     "text": [
      "Loaded 1000\n",
      "Loaded 2000\n",
      "Loaded 3000\n",
      "Loaded 4000\n",
      "Loaded 5000\n",
      "Loaded 6000\n",
      "Loaded 7000\n",
      "Loaded 8000\n",
      "Loaded 9000\n",
      "Loaded 10000\n",
      "Loaded 11000\n",
      "Loaded 12000\n",
      "Loaded 13000\n",
      "Loaded 14000\n",
      "Loaded 15000\n",
      "Loaded 16000\n",
      "Loaded 17000\n",
      "Loaded 18000\n",
      "Loaded 19000\n",
      "Loaded 20000\n",
      "Loaded 21000\n",
      "Loaded 22000\n",
      "Loaded 23000\n",
      "Loaded 24000\n",
      "Loaded 25000\n",
      "Loaded 26000\n",
      "Loaded 27000\n",
      "Loaded 28000\n",
      "Loaded 29000\n",
      "Loaded 30000\n",
      "Loaded 31000\n",
      "Loaded 32000\n",
      "Loaded 33000\n",
      "Loaded 34000\n",
      "Loaded 35000\n",
      "Loaded 36000\n",
      "Loaded 37000\n",
      "Loaded 38000\n",
      "Loaded 39000\n",
      "Loaded 40000\n",
      "Loaded 41000\n",
      "Loaded 42000\n",
      "Loaded 43000\n",
      "Loaded 44000\n",
      "Loaded 45000\n",
      "Loaded 46000\n",
      "Loaded 47000\n",
      "Loaded 48000\n",
      "Loaded 49000\n",
      "Loaded 50000\n",
      "Loaded 51000\n",
      "Loaded 52000\n",
      "Loaded 53000\n",
      "Loaded 54000\n",
      "Loaded 55000\n",
      "Loaded 56000\n",
      "Loaded 57000\n",
      "Loaded 58000\n",
      "Loaded 59000\n",
      "Loaded 60000\n",
      "Loaded 61000\n",
      "Loaded 62000\n",
      "Loaded 63000\n",
      "Loaded 64000\n",
      "Loaded 65000\n",
      "Loaded 66000\n",
      "Loaded 67000\n",
      "Loaded 68000\n",
      "Loaded 69000\n",
      "Loaded 70000\n",
      "Loaded 71000\n",
      "Loaded 72000\n",
      "Loaded 73000\n",
      "Loaded 74000\n",
      "Loaded 75000\n",
      "Loaded 76000\n",
      "Loaded 77000\n",
      "Loaded 78000\n",
      "Loaded 79000\n",
      "Loaded 80000\n",
      "Loaded 81000\n",
      "Loaded 82000\n",
      "Loaded 83000\n",
      "Loaded 84000\n",
      "Loaded 85000\n",
      "Loaded 86000\n",
      "Loaded 87000\n",
      "Loaded 88000\n",
      "Loaded 89000\n",
      "Loaded 90000\n",
      "Loaded 91000\n",
      "Loaded 92000\n",
      "Loaded 93000\n",
      "Loaded 94000\n",
      "Loaded 95000\n",
      "Loaded 96000\n",
      "Loaded 97000\n",
      "Loaded 98000\n",
      "Loaded 99000\n",
      "Loaded 100000\n",
      "Loaded 101000\n",
      "Loaded 102000\n",
      "Loaded 103000\n",
      "Loaded 104000\n",
      "Loaded 105000\n",
      "Loaded 106000\n"
     ]
    }
   ],
   "source": [
    "train_params, train_dos = get_xy('train-set')"
   ]
  },
  {
   "cell_type": "code",
   "execution_count": 6,
   "id": "73261178",
   "metadata": {},
   "outputs": [
    {
     "name": "stdout",
     "output_type": "stream",
     "text": [
      "Loaded 1000\n",
      "Loaded 2000\n",
      "Loaded 3000\n",
      "Loaded 4000\n",
      "Loaded 5000\n",
      "Loaded 6000\n",
      "Loaded 7000\n",
      "Loaded 8000\n",
      "Loaded 9000\n",
      "Loaded 10000\n",
      "Loaded 11000\n",
      "Loaded 12000\n",
      "Loaded 13000\n"
     ]
    }
   ],
   "source": [
    "val_params, val_dos = get_xy('val-set')"
   ]
  },
  {
   "cell_type": "code",
   "execution_count": 7,
   "id": "bbc36240",
   "metadata": {},
   "outputs": [
    {
     "name": "stdout",
     "output_type": "stream",
     "text": [
      "Loaded 1000\n",
      "Loaded 2000\n",
      "Loaded 3000\n",
      "Loaded 4000\n",
      "Loaded 5000\n",
      "Loaded 6000\n",
      "Loaded 7000\n",
      "Loaded 8000\n",
      "Loaded 9000\n",
      "Loaded 10000\n",
      "Loaded 11000\n",
      "Loaded 12000\n",
      "Loaded 13000\n"
     ]
    }
   ],
   "source": [
    "test_params, test_dos = get_xy('test-set')"
   ]
  },
  {
   "cell_type": "code",
   "execution_count": 12,
   "id": "a1577013",
   "metadata": {},
   "outputs": [
    {
     "name": "stdout",
     "output_type": "stream",
     "text": [
      "(13266, 3)\n",
      "(13265, 3)\n",
      "(106120, 3)\n",
      "\n",
      "(13266, 301)\n",
      "(13265, 301)\n",
      "(106120, 301)\n"
     ]
    }
   ],
   "source": [
    "print(test_params.shape)\n",
    "print(val_params.shape)\n",
    "print(train_params.shape)\n",
    "print()\n",
    "print(test_dos.shape)\n",
    "print(val_dos.shape)\n",
    "print(train_dos.shape)"
   ]
  },
  {
   "cell_type": "code",
   "execution_count": 14,
   "id": "8e5c2c18",
   "metadata": {},
   "outputs": [],
   "source": [
    "np.savez('files/train-dos', params = train_params, dos = train_dos)"
   ]
  },
  {
   "cell_type": "code",
   "execution_count": 15,
   "id": "fa156ca3",
   "metadata": {},
   "outputs": [],
   "source": [
    "np.savez('files/val-dos', params = val_params, dos = val_dos)"
   ]
  },
  {
   "cell_type": "code",
   "execution_count": 16,
   "id": "d026b96b",
   "metadata": {},
   "outputs": [],
   "source": [
    "np.savez('files/test-dos', params = test_params, dos = test_dos)"
   ]
  },
  {
   "cell_type": "code",
   "execution_count": 27,
   "id": "baa644db",
   "metadata": {},
   "outputs": [
    {
     "name": "stdout",
     "output_type": "stream",
     "text": [
      "(106120, 3)\n",
      "(106120, 301)\n"
     ]
    }
   ],
   "source": [
    "train_set = np.load('files/train-dos.npz')\n",
    "train_params = train_set['params']\n",
    "train_dos = train_set['dos']\n",
    "\n",
    "print(train_params.shape)\n",
    "print(train_dos.shape)"
   ]
  },
  {
   "cell_type": "code",
   "execution_count": 29,
   "id": "bdec166a",
   "metadata": {},
   "outputs": [
    {
     "name": "stdout",
     "output_type": "stream",
     "text": [
      "(13265, 3)\n",
      "(13265, 301)\n"
     ]
    }
   ],
   "source": [
    "val_set = np.load('files/val-dos.npz')\n",
    "val_params = val_set['params']\n",
    "val_dos = val_set['dos']\n",
    "\n",
    "print(val_params.shape)\n",
    "print(val_dos.shape)"
   ]
  },
  {
   "cell_type": "code",
   "execution_count": 30,
   "id": "fab0afda",
   "metadata": {},
   "outputs": [
    {
     "name": "stdout",
     "output_type": "stream",
     "text": [
      "(13266, 3)\n",
      "(13266, 301)\n"
     ]
    }
   ],
   "source": [
    "test_set = np.load('files/test-dos.npz')\n",
    "test_params = test_set['params']\n",
    "test_dos = test_set['dos']\n",
    "\n",
    "print(test_params.shape)\n",
    "print(test_dos.shape)"
   ]
  }
 ],
 "metadata": {
  "kernelspec": {
   "display_name": "Python 3 (ipykernel)",
   "language": "python",
   "name": "python3"
  },
  "language_info": {
   "codemirror_mode": {
    "name": "ipython",
    "version": 3
   },
   "file_extension": ".py",
   "mimetype": "text/x-python",
   "name": "python",
   "nbconvert_exporter": "python",
   "pygments_lexer": "ipython3",
   "version": "3.10.4"
  }
 },
 "nbformat": 4,
 "nbformat_minor": 5
}
