{
 "cells": [
  {
   "cell_type": "code",
   "execution_count": 1,
   "id": "819391bd",
   "metadata": {},
   "outputs": [
    {
     "name": "stdout",
     "output_type": "stream",
     "text": [
      "/project/wyin/jlee/ml-project/dos-prediction\n"
     ]
    }
   ],
   "source": [
    "import numpy as np\n",
    "import pandas as pd\n",
    "import os\n",
    "from os import path\n",
    "import matplotlib.pyplot as plt\n",
    "print(os.getcwd())"
   ]
  },
  {
   "cell_type": "code",
   "execution_count": 3,
   "id": "cda1c478",
   "metadata": {},
   "outputs": [],
   "source": [
    "def get_mse(data):\n",
    "    means = np.mean(data, axis = 0)\n",
    "    full_means = np.tile(means, (data.shape[0],1))\n",
    "    \n",
    "    errors = (data - full_means) ** 2\n",
    "    spectrum_errors = np.mean(errors, axis = 1) #mse for every spectrum\n",
    "        \n",
    "    return np.mean(spectrum_errors), np.std(spectrum_errors)\n",
    "\n",
    "def get_mae(data):\n",
    "    means = np.mean(data, axis = 0)\n",
    "    full_means = np.tile(means, (data.shape[0],1))\n",
    "    \n",
    "    errors = np.abs(data - full_means)\n",
    "    spectrum_errors = np.mean(errors, axis = 1)\n",
    "        \n",
    "    return np.mean(spectrum_errors), np.std(spectrum_errors)"
   ]
  },
  {
   "cell_type": "code",
   "execution_count": 5,
   "id": "9c14458d",
   "metadata": {},
   "outputs": [],
   "source": [
    "train_set = np.load('data/train-set.npz')\n",
    "train_params = train_set['params']\n",
    "train_dos = train_set['dos']"
   ]
  },
  {
   "cell_type": "code",
   "execution_count": 4,
   "id": "4f078035",
   "metadata": {},
   "outputs": [],
   "source": [
    "val_set = np.load('data/val-set.npz')\n",
    "val_params = val_set['params']\n",
    "val_dos = val_set['dos']"
   ]
  },
  {
   "cell_type": "code",
   "execution_count": 6,
   "id": "c1403af6",
   "metadata": {},
   "outputs": [],
   "source": [
    "test_set = np.load('data/test-set.npz')\n",
    "test_params = test_set['params']\n",
    "test_dos = test_set['dos']"
   ]
  },
  {
   "cell_type": "code",
   "execution_count": 7,
   "id": "77758912",
   "metadata": {},
   "outputs": [],
   "source": [
    "train_means = np.mean(train_dos, axis = 0)\n",
    "val_means = np.mean(val_dos, axis = 0)\n",
    "test_means = np.mean(test_dos, axis = 0)"
   ]
  },
  {
   "cell_type": "code",
   "execution_count": 8,
   "id": "34421087",
   "metadata": {},
   "outputs": [
    {
     "data": {
      "text/plain": [
       "[<matplotlib.lines.Line2D at 0x2b84f024bb20>]"
      ]
     },
     "execution_count": 8,
     "metadata": {},
     "output_type": "execute_result"
    },
    {
     "data": {
      "image/png": "[encoded data removed]",
      "text/plain": [
       "<Figure size 432x288 with 1 Axes>"
      ]
     },
     "metadata": {
      "needs_background": "light"
     },
     "output_type": "display_data"
    }
   ],
   "source": [
    "#Average spectrum\n",
    "plt.plot(train_means)\n",
    "plt.plot(val_means)\n",
    "plt.plot(test_means)"
   ]
  },
  {
   "cell_type": "code",
   "execution_count": 9,
   "id": "f7b578aa",
   "metadata": {},
   "outputs": [
    {
     "name": "stdout",
     "output_type": "stream",
     "text": [
      "(0.031006367471949802, 0.011414777855536802)\n",
      "(0.031089990409787705, 0.011424583402598349)\n",
      "(0.030961384888730778, 0.011432158593830698)\n"
     ]
    }
   ],
   "source": [
    "print(get_mae(train_dos))\n",
    "print(get_mae(val_dos))\n",
    "print(get_mae(test_dos))"
   ]
  },
  {
   "cell_type": "code",
   "execution_count": 11,
   "id": "d4ea6857",
   "metadata": {},
   "outputs": [
    {
     "name": "stdout",
     "output_type": "stream",
     "text": [
      "(0.004843055927279141, 0.004896831935518342)\n",
      "(0.004834024591162351, 0.004790497857030133)\n",
      "(0.004796868062255217, 0.00480791006913221)\n"
     ]
    }
   ],
   "source": [
    "print(get_mse(train_dos))\n",
    "print(get_mse(val_dos))\n",
    "print(get_mse(test_dos))"
   ]
  },
  {
   "cell_type": "code",
   "execution_count": null,
   "id": "8bed0808",
   "metadata": {},
   "outputs": [],
   "source": []
  }
 ],
 "metadata": {
  "kernelspec": {
   "display_name": "Python 3 (ipykernel)",
   "language": "python",
   "name": "python3"
  },
  "language_info": {
   "codemirror_mode": {
    "name": "ipython",
    "version": 3
   },
   "file_extension": ".py",
   "mimetype": "text/x-python",
   "name": "python",
   "nbconvert_exporter": "python",
   "pygments_lexer": "ipython3",
   "version": "3.10.4"
  }
 },
 "nbformat": 4,
 "nbformat_minor": 5
}
