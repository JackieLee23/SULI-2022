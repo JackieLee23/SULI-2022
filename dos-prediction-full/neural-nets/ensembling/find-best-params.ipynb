{
 "cells": [
  {
   "cell_type": "code",
   "execution_count": 3,
   "id": "911cc132",
   "metadata": {},
   "outputs": [
    {
     "name": "stdout",
     "output_type": "stream",
     "text": [
      "/project/wyin/jlee/ml-project/dos-prediction-full/neural-nets/ensembling\n"
     ]
    }
   ],
   "source": [
    "from packaging import version\n",
    "import numpy as np\n",
    "import pandas as pd\n",
    "import os\n",
    "import tensorboard as tb\n",
    "import pickle\n",
    "print(os.getcwd())\n",
    "val_end_path = \"/project/wyin/jlee/ml-project/dos-prediction-full/neural-nets/hyperparameter-search/val-ends\""
   ]
  },
  {
   "cell_type": "code",
   "execution_count": 4,
   "id": "fdb3441c",
   "metadata": {},
   "outputs": [],
   "source": [
    "errors = []\n",
    "for file in os.listdir(val_end_path):\n",
    "    if file != \".ipynb_checkpoints\":\n",
    "        file_loc = os.path.join(val_end_path, file)\n",
    "        x = pickle.load(open(file_loc, \"rb\"))\n",
    "        errors.append((x[0]['val_loss'], file))"
   ]
  },
  {
   "cell_type": "code",
   "execution_count": 5,
   "id": "b40b5c4c",
   "metadata": {},
   "outputs": [
    {
     "name": "stdout",
     "output_type": "stream",
     "text": [
      "74\n"
     ]
    }
   ],
   "source": [
    "errors = sorted(errors, key = lambda x : x[0])\n",
    "print(len(errors))"
   ]
  },
  {
   "cell_type": "code",
   "execution_count": 7,
   "id": "21771327",
   "metadata": {},
   "outputs": [
    {
     "name": "stdout",
     "output_type": "stream",
     "text": [
      "(2.9803319193888456e-05, '[3, 64, 128, 256, 512, 1024, 301],0.001,1024,0.5')\n",
      "(3.036910311493557e-05, '[3, 170, 340, 510, 680, 850, 1020, 301],0.001,1024,0.5')\n",
      "(3.0744449759367853e-05, '[3, 512, 512, 512, 512, 512, 301],0.001,1024,0.5')\n",
      "(3.09691640723031e-05, '[3, 204, 408, 612, 816, 1020, 301],0.001,1024,0.5')\n",
      "(3.1043287890497595e-05, '[3, 16, 32, 64, 128, 256, 512, 1024, 301],0.001,1024,0.5')\n",
      "(3.1415856938110664e-05, '[3, 146, 292, 438, 584, 730, 876, 1022, 301],0.001,1024,0.5')\n",
      "(3.1495324947172776e-05, '[3, 128, 256, 512, 1024, 301],0.001,1024,0.5')\n",
      "(3.1535993912257254e-05, '[3, 512, 512, 512, 512, 301],0.001,1024,0.5')\n",
      "(3.164778900099918e-05, '[3, 32, 64, 128, 256, 512, 301],0.001,1024,0.5')\n",
      "(3.174743687850423e-05, '[3, 73, 146, 219, 292, 365, 438, 511, 301],0.001,1024,0.5')\n",
      "(3.2745589123805985e-05, '[3, 256, 256, 256, 256, 256, 256, 256, 301],0.001,1024,0.5')\n",
      "(3.289689266239293e-05, '[3, 256, 256, 256, 256, 256, 256, 256, 256, 301],0.001,1024,0.5')\n",
      "(3.4094711736543104e-05, '[3, 256, 256, 256, 256, 256, 301],0.001,1024,0.5')\n",
      "(3.5696688428288326e-05, '[3, 128, 256, 384, 512, 640, 768, 896, 1024, 301],0.001,1024,0.5')\n"
     ]
    }
   ],
   "source": [
    "for pair in errors[10:24]:\n",
    "    \n",
    "    print(pair)"
   ]
  }
 ],
 "metadata": {
  "kernelspec": {
   "display_name": "Python 3 (ipykernel)",
   "language": "python",
   "name": "python3"
  },
  "language_info": {
   "codemirror_mode": {
    "name": "ipython",
    "version": 3
   },
   "file_extension": ".py",
   "mimetype": "text/x-python",
   "name": "python",
   "nbconvert_exporter": "python",
   "pygments_lexer": "ipython3",
   "version": "3.10.4"
  }
 },
 "nbformat": 4,
 "nbformat_minor": 5
}
