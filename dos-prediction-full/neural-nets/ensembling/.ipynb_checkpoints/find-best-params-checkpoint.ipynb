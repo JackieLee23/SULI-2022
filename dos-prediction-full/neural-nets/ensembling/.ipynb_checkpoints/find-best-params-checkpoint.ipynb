{
 "cells": [
  {
   "cell_type": "code",
   "execution_count": 71,
   "id": "911cc132",
   "metadata": {},
   "outputs": [
    {
     "name": "stdout",
     "output_type": "stream",
     "text": [
      "/project/wyin/jlee/ml-project/dos-prediction/neural-nets/ensembling\n"
     ]
    }
   ],
   "source": [
    "from packaging import version\n",
    "import numpy as np\n",
    "import pandas as pd\n",
    "import os\n",
    "import tensorboard as tb\n",
    "import pickle\n",
    "print(os.getcwd())\n",
    "val_end_path = \"/project/wyin/jlee/ml-project/dos-prediction/neural-nets/hyperparameter-search/val-ends\""
   ]
  },
  {
   "cell_type": "code",
   "execution_count": 72,
   "id": "fdb3441c",
   "metadata": {},
   "outputs": [],
   "source": [
    "errors = []\n",
    "for file in os.listdir(val_end_path):\n",
    "    if file != \".ipynb_checkpoints\":\n",
    "        file_loc = os.path.join(val_end_path, file)\n",
    "        x = pickle.load(open(file_loc, \"rb\"))\n",
    "        errors.append((x[0]['val_loss'], file))"
   ]
  },
  {
   "cell_type": "code",
   "execution_count": 73,
   "id": "b40b5c4c",
   "metadata": {},
   "outputs": [
    {
     "name": "stdout",
     "output_type": "stream",
     "text": [
      "74\n"
     ]
    }
   ],
   "source": [
    "errors = sorted(errors, key = lambda x : x[0])\n",
    "print(len(errors))"
   ]
  },
  {
   "cell_type": "code",
   "execution_count": 76,
   "id": "21771327",
   "metadata": {},
   "outputs": [
    {
     "name": "stdout",
     "output_type": "stream",
     "text": [
      "(2.1452269720612094e-05, '[3, 32, 64, 128, 256, 512, 1024, 301],0.001,1024,0.5')\n",
      "(2.220865644630976e-05, '[3, 102, 204, 306, 408, 510, 301],0.001,1024,0.5')\n",
      "(2.5351542717544362e-05, '[3, 64, 128, 192, 256, 320, 384, 448, 512, 301],0.001,1024,0.5')\n",
      "(2.560958637332078e-05, '[3, 512, 512, 512, 512, 512, 512, 301],0.001,1024,0.5')\n",
      "(2.61862478510011e-05, '[3, 128, 256, 384, 512, 301],0.001,1024,0.5')\n",
      "(2.634933298395481e-05, '[3, 512, 512, 512, 512, 512, 512, 512, 301],0.001,1024,0.5')\n",
      "(2.741984644671902e-05, '[3, 85, 170, 255, 340, 425, 510, 301],0.001,1024,0.5')\n",
      "(2.7950409275945276e-05, '[3, 256, 512, 768, 1024, 301],0.001,1024,0.5')\n",
      "(2.8050702894688584e-05, '[3, 64, 128, 256, 512, 301],0.001,1024,0.5')\n",
      "(2.8681357434834354e-05, '[3, 256, 512, 1024, 301],0.001,1024,0.5')\n"
     ]
    }
   ],
   "source": [
    "for pair in errors[:10]:\n",
    "    print(pair)"
   ]
  }
 ],
 "metadata": {
  "kernelspec": {
   "display_name": "Python 3 (ipykernel)",
   "language": "python",
   "name": "python3"
  },
  "language_info": {
   "codemirror_mode": {
    "name": "ipython",
    "version": 3
   },
   "file_extension": ".py",
   "mimetype": "text/x-python",
   "name": "python",
   "nbconvert_exporter": "python",
   "pygments_lexer": "ipython3",
   "version": "3.10.4"
  }
 },
 "nbformat": 4,
 "nbformat_minor": 5
}
