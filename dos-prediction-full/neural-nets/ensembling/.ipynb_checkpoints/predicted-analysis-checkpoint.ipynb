{
 "cells": [
  {
   "cell_type": "code",
   "execution_count": 1,
   "id": "fea53b0a",
   "metadata": {},
   "outputs": [],
   "source": [
    "import numpy as np\n",
    "import matplotlib.pyplot as plt\n",
    "import torch\n",
    "import torch.nn as nn\n",
    "import pytorch_lightning as pl\n",
    "from pytorch_lightning import Trainer\n",
    "from pytorch_lightning.loggers import TensorBoardLogger\n",
    "import torch.nn.functional as F\n",
    "import sys\n",
    "import os\n",
    "from pytorch_lightning.callbacks.early_stopping import EarlyStopping\n",
    "from sklearn.preprocessing import StandardScaler\n",
    "root = \"/project/wyin/jlee/ml-project/dos-prediction\"\n",
    "util_loc = os.path.join(root, \"utils\")\n",
    "data_loc = os.path.join(root, \"data\")\n",
    "sys.path.append(util_loc)\n",
    "from utilities import LitNeuralNet, DosDataModule\n",
    "model_log_path = os.path.join(root, \"neural-nets/ensembling/logs\")"
   ]
  },
  {
   "cell_type": "code",
   "execution_count": 2,
   "id": "3ce58309",
   "metadata": {},
   "outputs": [
    {
     "name": "stdout",
     "output_type": "stream",
     "text": [
      "24\n",
      "10\n"
     ]
    }
   ],
   "source": [
    "models = []\n",
    "same_models = []\n",
    "for i in range(24):\n",
    "    log_path = os.path.join(model_log_path, \"long-run-24\")\n",
    "    log_dir = os.listdir(log_path)[i]\n",
    "    check_dir = os.path.join(log_path, log_dir, \"version_0/checkpoints\")\n",
    "    check_file = os.listdir(check_dir)[0]\n",
    "    check_path = os.path.join(check_dir, check_file)\n",
    "    model = LitNeuralNet.load_from_checkpoint(checkpoint_path=check_path)\n",
    "    model_name = log_dir.rpartition(']')[0] + ']'\n",
    "    \n",
    "    if model_name != \"[3, 256, 512, 768, 1024, 301]\":\n",
    "        models.append((model_name, model))\n",
    "        \n",
    "    else:\n",
    "        same_models.append(model)\n",
    "    \n",
    "    \n",
    "for i in range(10):\n",
    "    log_path = os.path.join(model_log_path, \"long-run-10\")\n",
    "    log_dir = os.listdir(log_path)[i]\n",
    "    check_dir = os.path.join(log_path, log_dir, \"version_1/checkpoints\")\n",
    "    check_file = os.listdir(check_dir)[0]\n",
    "    check_path = os.path.join(check_dir, check_file)\n",
    "    model = LitNeuralNet.load_from_checkpoint(checkpoint_path=check_path)\n",
    "    model_name = log_dir.rpartition(']')[0] + ']'\n",
    "    models.append((model_name, model))\n",
    "    \n",
    "print(len(models))\n",
    "print(len(same_models))"
   ]
  },
  {
   "cell_type": "code",
   "execution_count": 3,
   "id": "06d6ede0",
   "metadata": {},
   "outputs": [
    {
     "name": "stdout",
     "output_type": "stream",
     "text": [
      "torch.Size([13265, 3])\n"
     ]
    }
   ],
   "source": [
    "dataset = np.load(f\"{data_loc}/train-set.npz\")\n",
    "train_params = dataset['params']\n",
    "\n",
    "dataset = np.load(f\"{data_loc}/val-set.npz\")\n",
    "val_params_arr = dataset['params']\n",
    "val_dos_arr = dataset['dos']\n",
    "\n",
    "scaler = StandardScaler()\n",
    "scaler.fit(train_params)\n",
    "val_params_arr = scaler.transform(val_params_arr)\n",
    "\n",
    "val_params_arr = torch.from_numpy(val_params_arr).float()\n",
    "val_dos_arr = torch.from_numpy(val_dos_arr).float()\n",
    "print(val_params_arr.shape)"
   ]
  },
  {
   "cell_type": "code",
   "execution_count": 6,
   "id": "0ff675f4",
   "metadata": {},
   "outputs": [
    {
     "name": "stdout",
     "output_type": "stream",
     "text": [
      "LitNeuralNet(\n",
      "  (forward_prop): Sequential(\n",
      "    (0): Linear(in_features=3, out_features=170, bias=True)\n",
      "    (1): ReLU()\n",
      "    (2): Linear(in_features=170, out_features=340, bias=True)\n",
      "    (3): ReLU()\n",
      "    (4): Linear(in_features=340, out_features=510, bias=True)\n",
      "    (5): ReLU()\n",
      "    (6): Linear(in_features=510, out_features=680, bias=True)\n",
      "    (7): ReLU()\n",
      "    (8): Linear(in_features=680, out_features=850, bias=True)\n",
      "    (9): ReLU()\n",
      "    (10): Linear(in_features=850, out_features=1020, bias=True)\n",
      "    (11): ReLU()\n",
      "    (12): Linear(in_features=1020, out_features=301, bias=True)\n",
      "  )\n",
      ")\n"
     ]
    }
   ],
   "source": [
    "sorted_models = sorted(models, key = lambda x : mse(x[1]))\n",
    "best_model = sorted_models[0][1]\n",
    "print(best_model)"
   ]
  },
  {
   "cell_type": "code",
   "execution_count": 12,
   "id": "1bed4fb2",
   "metadata": {},
   "outputs": [],
   "source": [
    "#Predictions by single best model\n",
    "single_pred = best_model.forward_prop(val_params_arr).detach().numpy()\n",
    "\n",
    "#Predictions by ensemble\n",
    "total_pred = torch.zeros([13265, 301])\n",
    "total_mse = 0\n",
    "for model_name, model in sorted_models[:8]:\n",
    "    predicted = model.forward_prop(val_params_arr)\n",
    "    error = mse(model)\n",
    "    total_mse += error\n",
    "    total_pred = torch.add(total_pred, predicted)\n",
    "\n",
    "avg_pred = total_pred / 8\n",
    "ens_mse = F.mse_loss(avg_pred, val_dos_arr).item()\n",
    "avg_pred = avg_pred.detach().numpy()\n",
    "\n",
    "val_dos_np = val_dos_arr.numpy()"
   ]
  },
  {
   "cell_type": "code",
   "execution_count": 16,
   "id": "137b8b52",
   "metadata": {},
   "outputs": [
    {
     "name": "stdout",
     "output_type": "stream",
     "text": [
      "4.563509e-06\n"
     ]
    }
   ],
   "source": []
  }
 ],
 "metadata": {
  "kernelspec": {
   "display_name": "Python 3 (ipykernel)",
   "language": "python",
   "name": "python3"
  },
  "language_info": {
   "codemirror_mode": {
    "name": "ipython",
    "version": 3
   },
   "file_extension": ".py",
   "mimetype": "text/x-python",
   "name": "python",
   "nbconvert_exporter": "python",
   "pygments_lexer": "ipython3",
   "version": "3.10.4"
  }
 },
 "nbformat": 4,
 "nbformat_minor": 5
}
