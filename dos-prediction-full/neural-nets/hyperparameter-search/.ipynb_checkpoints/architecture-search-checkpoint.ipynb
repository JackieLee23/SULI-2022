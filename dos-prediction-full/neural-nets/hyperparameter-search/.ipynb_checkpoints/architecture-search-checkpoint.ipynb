{
 "cells": [
  {
   "cell_type": "code",
   "execution_count": 2,
   "id": "bce1ed21",
   "metadata": {},
   "outputs": [],
   "source": [
    "import numpy as np\n",
    "import matplotlib.pyplot as plt\n",
    "import torch\n",
    "import torch.nn as nn\n",
    "import pytorch_lightning as pl\n",
    "from pytorch_lightning import Trainer\n",
    "from pytorch_lightning.loggers import TensorBoardLogger\n",
    "import sys\n",
    "import os\n",
    "\n",
    "root = \"/project/wyin/jlee/ml-project/dos-prediction\"\n",
    "util_loc = os.path.join(root, \"utils\")\n",
    "data_loc = os.path.join(root, \"data\")\n",
    "sys.path.append(util_loc)\n",
    "from utilities import LitNeuralNet, DosDataModule"
   ]
  },
  {
   "cell_type": "code",
   "execution_count": 13,
   "id": "cf9e5908",
   "metadata": {},
   "outputs": [
    {
     "name": "stdout",
     "output_type": "stream",
     "text": [
      "[64, 64]\n",
      "[128, 128]\n",
      "[256, 256]\n",
      "[512, 512]\n",
      "[1024, 1024]\n",
      "[64, 128]\n",
      "[128, 256]\n",
      "[128, 256]\n",
      "[256, 512]\n",
      "[512, 1024]\n",
      "[64, 64, 64]\n",
      "[128, 128, 128]\n",
      "[256, 256, 256]\n",
      "[512, 512, 512]\n",
      "[1024, 1024, 1024]\n",
      "[64, 128, 192]\n",
      "[128, 256, 384]\n",
      "[64, 128, 256]\n",
      "[128, 256, 512]\n",
      "[256, 512, 1024]\n",
      "[64, 64, 64, 64]\n",
      "[128, 128, 128, 128]\n",
      "[256, 256, 256, 256]\n",
      "[512, 512, 512, 512]\n",
      "[1024, 1024, 1024, 1024]\n",
      "[64, 128, 192, 256]\n",
      "[128, 256, 384, 512]\n",
      "[32, 64, 128, 256]\n",
      "[64, 128, 256, 512]\n",
      "[128, 256, 512, 1024]\n",
      "[64, 64, 64, 64, 64]\n",
      "[128, 128, 128, 128, 128]\n",
      "[256, 256, 256, 256, 256]\n",
      "[512, 512, 512, 512, 512]\n",
      "[1024, 1024, 1024, 1024, 1024]\n",
      "[64, 128, 192, 256, 320]\n",
      "[128, 256, 384, 512, 640]\n",
      "[16, 32, 64, 128, 256]\n",
      "[32, 64, 128, 256, 512]\n",
      "[64, 128, 256, 512, 1024]\n",
      "[64, 64, 64, 64, 64, 64]\n",
      "[128, 128, 128, 128, 128, 128]\n",
      "[256, 256, 256, 256, 256, 256]\n",
      "[512, 512, 512, 512, 512, 512]\n",
      "[1024, 1024, 1024, 1024, 1024, 1024]\n",
      "[64, 128, 192, 256, 320, 384]\n",
      "[128, 256, 384, 512, 640, 768]\n",
      "[8, 16, 32, 64, 128, 256]\n",
      "[16, 32, 64, 128, 256, 512]\n",
      "[32, 64, 128, 256, 512, 1024]\n",
      "[64, 64, 64, 64, 64, 64, 64]\n",
      "[128, 128, 128, 128, 128, 128, 128]\n",
      "[256, 256, 256, 256, 256, 256, 256]\n",
      "[512, 512, 512, 512, 512, 512, 512]\n",
      "[1024, 1024, 1024, 1024, 1024, 1024, 1024]\n",
      "[64, 128, 192, 256, 320, 384, 448]\n",
      "[128, 256, 384, 512, 640, 768, 896]\n",
      "[4, 8, 16, 32, 64, 128, 256]\n",
      "[8, 16, 32, 64, 128, 256, 512]\n",
      "[16, 32, 64, 128, 256, 512, 1024]\n",
      "[64, 64, 64, 64, 64, 64, 64, 64]\n",
      "[128, 128, 128, 128, 128, 128, 128, 128]\n",
      "[256, 256, 256, 256, 256, 256, 256, 256]\n",
      "[512, 512, 512, 512, 512, 512, 512, 512]\n",
      "[1024, 1024, 1024, 1024, 1024, 1024, 1024, 1024]\n",
      "[64, 128, 192, 256, 320, 384, 448, 512]\n",
      "[128, 256, 384, 512, 640, 768, 896, 1024]\n",
      "[2, 4, 8, 16, 32, 64, 128, 256]\n",
      "[4, 8, 16, 32, 64, 128, 256, 512]\n",
      "[8, 16, 32, 64, 128, 256, 512, 1024]\n",
      "70\n"
     ]
    }
   ],
   "source": [
    "architectures = []\n",
    "for n_layers in range (2, 9):\n",
    "    #Uniform architecture\n",
    "    n_neurons = 64\n",
    "    while n_neurons <= 1024:\n",
    "        layer_sizes = [n_neurons] * n_layers\n",
    "        n_neurons *= 2\n",
    "        print(layer_sizes)\n",
    "        architectures.append(layer_sizes)\n",
    "    \n",
    "    #Linear architecture\n",
    "    start_neurons = 64\n",
    "    while start_neurons <= 128:\n",
    "        layer_sizes = []\n",
    "        for i in range(1, n_layers + 1):\n",
    "            layer_sizes.append(i * start_neurons)\n",
    "        \n",
    "        start_neurons *= 2\n",
    "        print(layer_sizes)\n",
    "        architectures.append(layer_sizes)\n",
    "    \n",
    "    #Exponential architecture\n",
    "    end_neurons = 256\n",
    "    while end_neurons <= 1024:\n",
    "        layer_sizes = [end_neurons]\n",
    "        for i in range(n_layers - 1):\n",
    "            layer_sizes.insert(0, layer_sizes[0] // 2)\n",
    "            \n",
    "        print(layer_sizes)\n",
    "        end_neurons *= 2\n",
    "        \n",
    "        architectures.append(layer_sizes)\n",
    "        \n",
    "print(len(architectures))\n",
    "        "
   ]
  },
  {
   "cell_type": "code",
   "execution_count": 16,
   "id": "3dc214d4",
   "metadata": {},
   "outputs": [
    {
     "name": "stderr",
     "output_type": "stream",
     "text": [
      "GPU available: False, used: False\n",
      "TPU available: False, using: 0 TPU cores\n",
      "IPU available: False, using: 0 IPUs\n",
      "HPU available: False, using: 0 HPUs\n",
      "Missing logger folder: nn_logs/architecture_search/Test\n",
      "\n",
      "  | Name         | Type       | Params\n",
      "--------------------------------------------\n",
      "0 | forward_prop | Sequential | 101 K \n",
      "--------------------------------------------\n",
      "101 K     Trainable params\n",
      "0         Non-trainable params\n",
      "101 K     Total params\n",
      "0.406     Total estimated model params size (MB)\n"
     ]
    },
    {
     "data": {
      "application/vnd.jupyter.widget-view+json": {
       "model_id": "",
       "version_major": 2,
       "version_minor": 0
      },
      "text/plain": [
       "Sanity Checking: 0it [00:00, ?it/s]"
      ]
     },
     "metadata": {},
     "output_type": "display_data"
    },
    {
     "data": {
      "application/vnd.jupyter.widget-view+json": {
       "model_id": "495c7892daf44961aef430f21406d77e",
       "version_major": 2,
       "version_minor": 0
      },
      "text/plain": [
       "Training: 0it [00:00, ?it/s]"
      ]
     },
     "metadata": {},
     "output_type": "display_data"
    },
    {
     "data": {
      "application/vnd.jupyter.widget-view+json": {
       "model_id": "",
       "version_major": 2,
       "version_minor": 0
      },
      "text/plain": [
       "Validation: 0it [00:00, ?it/s]"
      ]
     },
     "metadata": {},
     "output_type": "display_data"
    },
    {
     "data": {
      "application/vnd.jupyter.widget-view+json": {
       "model_id": "",
       "version_major": 2,
       "version_minor": 0
      },
      "text/plain": [
       "Validation: 0it [00:00, ?it/s]"
      ]
     },
     "metadata": {},
     "output_type": "display_data"
    },
    {
     "data": {
      "application/vnd.jupyter.widget-view+json": {
       "model_id": "",
       "version_major": 2,
       "version_minor": 0
      },
      "text/plain": [
       "Validation: 0it [00:00, ?it/s]"
      ]
     },
     "metadata": {},
     "output_type": "display_data"
    },
    {
     "data": {
      "application/vnd.jupyter.widget-view+json": {
       "model_id": "",
       "version_major": 2,
       "version_minor": 0
      },
      "text/plain": [
       "Validation: 0it [00:00, ?it/s]"
      ]
     },
     "metadata": {},
     "output_type": "display_data"
    },
    {
     "data": {
      "application/vnd.jupyter.widget-view+json": {
       "model_id": "",
       "version_major": 2,
       "version_minor": 0
      },
      "text/plain": [
       "Validation: 0it [00:00, ?it/s]"
      ]
     },
     "metadata": {},
     "output_type": "display_data"
    },
    {
     "data": {
      "application/vnd.jupyter.widget-view+json": {
       "model_id": "",
       "version_major": 2,
       "version_minor": 0
      },
      "text/plain": [
       "Validation: 0it [00:00, ?it/s]"
      ]
     },
     "metadata": {},
     "output_type": "display_data"
    },
    {
     "data": {
      "application/vnd.jupyter.widget-view+json": {
       "model_id": "",
       "version_major": 2,
       "version_minor": 0
      },
      "text/plain": [
       "Validation: 0it [00:00, ?it/s]"
      ]
     },
     "metadata": {},
     "output_type": "display_data"
    },
    {
     "data": {
      "application/vnd.jupyter.widget-view+json": {
       "model_id": "",
       "version_major": 2,
       "version_minor": 0
      },
      "text/plain": [
       "Validation: 0it [00:00, ?it/s]"
      ]
     },
     "metadata": {},
     "output_type": "display_data"
    },
    {
     "data": {
      "application/vnd.jupyter.widget-view+json": {
       "model_id": "",
       "version_major": 2,
       "version_minor": 0
      },
      "text/plain": [
       "Validation: 0it [00:00, ?it/s]"
      ]
     },
     "metadata": {},
     "output_type": "display_data"
    },
    {
     "data": {
      "application/vnd.jupyter.widget-view+json": {
       "model_id": "",
       "version_major": 2,
       "version_minor": 0
      },
      "text/plain": [
       "Validation: 0it [00:00, ?it/s]"
      ]
     },
     "metadata": {},
     "output_type": "display_data"
    },
    {
     "data": {
      "application/vnd.jupyter.widget-view+json": {
       "model_id": "",
       "version_major": 2,
       "version_minor": 0
      },
      "text/plain": [
       "Validation: 0it [00:00, ?it/s]"
      ]
     },
     "metadata": {},
     "output_type": "display_data"
    },
    {
     "data": {
      "application/vnd.jupyter.widget-view+json": {
       "model_id": "",
       "version_major": 2,
       "version_minor": 0
      },
      "text/plain": [
       "Validation: 0it [00:00, ?it/s]"
      ]
     },
     "metadata": {},
     "output_type": "display_data"
    },
    {
     "data": {
      "application/vnd.jupyter.widget-view+json": {
       "model_id": "",
       "version_major": 2,
       "version_minor": 0
      },
      "text/plain": [
       "Validation: 0it [00:00, ?it/s]"
      ]
     },
     "metadata": {},
     "output_type": "display_data"
    },
    {
     "data": {
      "application/vnd.jupyter.widget-view+json": {
       "model_id": "",
       "version_major": 2,
       "version_minor": 0
      },
      "text/plain": [
       "Validation: 0it [00:00, ?it/s]"
      ]
     },
     "metadata": {},
     "output_type": "display_data"
    },
    {
     "data": {
      "application/vnd.jupyter.widget-view+json": {
       "model_id": "",
       "version_major": 2,
       "version_minor": 0
      },
      "text/plain": [
       "Validation: 0it [00:00, ?it/s]"
      ]
     },
     "metadata": {},
     "output_type": "display_data"
    },
    {
     "data": {
      "application/vnd.jupyter.widget-view+json": {
       "model_id": "",
       "version_major": 2,
       "version_minor": 0
      },
      "text/plain": [
       "Validation: 0it [00:00, ?it/s]"
      ]
     },
     "metadata": {},
     "output_type": "display_data"
    },
    {
     "data": {
      "application/vnd.jupyter.widget-view+json": {
       "model_id": "",
       "version_major": 2,
       "version_minor": 0
      },
      "text/plain": [
       "Validation: 0it [00:00, ?it/s]"
      ]
     },
     "metadata": {},
     "output_type": "display_data"
    },
    {
     "data": {
      "application/vnd.jupyter.widget-view+json": {
       "model_id": "",
       "version_major": 2,
       "version_minor": 0
      },
      "text/plain": [
       "Validation: 0it [00:00, ?it/s]"
      ]
     },
     "metadata": {},
     "output_type": "display_data"
    },
    {
     "data": {
      "application/vnd.jupyter.widget-view+json": {
       "model_id": "",
       "version_major": 2,
       "version_minor": 0
      },
      "text/plain": [
       "Validation: 0it [00:00, ?it/s]"
      ]
     },
     "metadata": {},
     "output_type": "display_data"
    },
    {
     "data": {
      "application/vnd.jupyter.widget-view+json": {
       "model_id": "",
       "version_major": 2,
       "version_minor": 0
      },
      "text/plain": [
       "Validation: 0it [00:00, ?it/s]"
      ]
     },
     "metadata": {},
     "output_type": "display_data"
    },
    {
     "data": {
      "application/vnd.jupyter.widget-view+json": {
       "model_id": "",
       "version_major": 2,
       "version_minor": 0
      },
      "text/plain": [
       "Validation: 0it [00:00, ?it/s]"
      ]
     },
     "metadata": {},
     "output_type": "display_data"
    },
    {
     "data": {
      "application/vnd.jupyter.widget-view+json": {
       "model_id": "",
       "version_major": 2,
       "version_minor": 0
      },
      "text/plain": [
       "Validation: 0it [00:00, ?it/s]"
      ]
     },
     "metadata": {},
     "output_type": "display_data"
    },
    {
     "data": {
      "application/vnd.jupyter.widget-view+json": {
       "model_id": "",
       "version_major": 2,
       "version_minor": 0
      },
      "text/plain": [
       "Validation: 0it [00:00, ?it/s]"
      ]
     },
     "metadata": {},
     "output_type": "display_data"
    },
    {
     "data": {
      "application/vnd.jupyter.widget-view+json": {
       "model_id": "",
       "version_major": 2,
       "version_minor": 0
      },
      "text/plain": [
       "Validation: 0it [00:00, ?it/s]"
      ]
     },
     "metadata": {},
     "output_type": "display_data"
    },
    {
     "data": {
      "application/vnd.jupyter.widget-view+json": {
       "model_id": "",
       "version_major": 2,
       "version_minor": 0
      },
      "text/plain": [
       "Validation: 0it [00:00, ?it/s]"
      ]
     },
     "metadata": {},
     "output_type": "display_data"
    },
    {
     "data": {
      "application/vnd.jupyter.widget-view+json": {
       "model_id": "",
       "version_major": 2,
       "version_minor": 0
      },
      "text/plain": [
       "Validation: 0it [00:00, ?it/s]"
      ]
     },
     "metadata": {},
     "output_type": "display_data"
    },
    {
     "data": {
      "application/vnd.jupyter.widget-view+json": {
       "model_id": "",
       "version_major": 2,
       "version_minor": 0
      },
      "text/plain": [
       "Validation: 0it [00:00, ?it/s]"
      ]
     },
     "metadata": {},
     "output_type": "display_data"
    },
    {
     "data": {
      "application/vnd.jupyter.widget-view+json": {
       "model_id": "",
       "version_major": 2,
       "version_minor": 0
      },
      "text/plain": [
       "Validation: 0it [00:00, ?it/s]"
      ]
     },
     "metadata": {},
     "output_type": "display_data"
    },
    {
     "data": {
      "application/vnd.jupyter.widget-view+json": {
       "model_id": "",
       "version_major": 2,
       "version_minor": 0
      },
      "text/plain": [
       "Validation: 0it [00:00, ?it/s]"
      ]
     },
     "metadata": {},
     "output_type": "display_data"
    },
    {
     "data": {
      "application/vnd.jupyter.widget-view+json": {
       "model_id": "",
       "version_major": 2,
       "version_minor": 0
      },
      "text/plain": [
       "Validation: 0it [00:00, ?it/s]"
      ]
     },
     "metadata": {},
     "output_type": "display_data"
    },
    {
     "data": {
      "application/vnd.jupyter.widget-view+json": {
       "model_id": "",
       "version_major": 2,
       "version_minor": 0
      },
      "text/plain": [
       "Validation: 0it [00:00, ?it/s]"
      ]
     },
     "metadata": {},
     "output_type": "display_data"
    },
    {
     "data": {
      "application/vnd.jupyter.widget-view+json": {
       "model_id": "",
       "version_major": 2,
       "version_minor": 0
      },
      "text/plain": [
       "Validation: 0it [00:00, ?it/s]"
      ]
     },
     "metadata": {},
     "output_type": "display_data"
    },
    {
     "data": {
      "application/vnd.jupyter.widget-view+json": {
       "model_id": "",
       "version_major": 2,
       "version_minor": 0
      },
      "text/plain": [
       "Validation: 0it [00:00, ?it/s]"
      ]
     },
     "metadata": {},
     "output_type": "display_data"
    }
   ],
   "source": [
    "#Test run\n",
    "layer_sizes = [3, 200, 200, 301]\n",
    "batch_size = 1000\n",
    "learning_rate = 0.005\n",
    "logger = TensorBoardLogger('nn_logs/architecture_search', name = 'Test')\n",
    "\n",
    "dos_data = DosDataModule(data_loc, batch_size)\n",
    "trainer = pl.Trainer(enable_checkpointing=False, max_time=\"00:00:01:00\", logger = logger)\n",
    "\n",
    "model = LitNeuralNet(layer_sizes, lr = learning_rate)\n",
    "trainer.fit(model, datamodule=dos_data)"
   ]
  }
 ],
 "metadata": {
  "kernelspec": {
   "display_name": "Python 3 (ipykernel)",
   "language": "python",
   "name": "python3"
  },
  "language_info": {
   "codemirror_mode": {
    "name": "ipython",
    "version": 3
   },
   "file_extension": ".py",
   "mimetype": "text/x-python",
   "name": "python",
   "nbconvert_exporter": "python",
   "pygments_lexer": "ipython3",
   "version": "3.10.4"
  }
 },
 "nbformat": 4,
 "nbformat_minor": 5
}
