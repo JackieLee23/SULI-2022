{
 "cells": [
  {
   "cell_type": "code",
   "execution_count": 2,
   "id": "9f34c91e",
   "metadata": {},
   "outputs": [],
   "source": [
    "import numpy as np\n",
    "import os\n",
    "from os import path\n",
    "import matplotlib.pyplot as plt\n",
    "import sys\n",
    "import scipy\n",
    "from scipy.signal import find_peaks, peak_prominences, find_peaks_cwt, peak_widths\n",
    "data_loc = '/project/wyin/jlee/ml-project/inverse-shifted/data'\n",
    "util_loc = '/project/wyin/jlee/ml-project/utils'\n",
    "sys.path.append(util_loc)\n",
    "from utilities import UnscaledData"
   ]
  },
  {
   "cell_type": "code",
   "execution_count": 35,
   "id": "74e7f3f4",
   "metadata": {},
   "outputs": [],
   "source": [
    "#Returns location of cutoff point\n",
    "omega = np.linspace(-4.36, 9.76, 354)\n",
    "def mn_loc(dos):\n",
    "    peaks, _ = find_peaks(dos)\n",
    "    proms = peak_prominences(dos, peaks)[0]\n",
    "    pairs = zip(proms, peaks)\n",
    "    pairs = sorted(pairs, key = lambda x: x[0], reverse = True)\n",
    "\n",
    "    first_prom, first_peak = pairs[0]\n",
    "    second_prom, second_peak = (0, 0)\n",
    "    for prom, peak in pairs[1:]:\n",
    "\n",
    "        if peak > first_peak and prom > second_prom:\n",
    "            second_prom = prom\n",
    "            second_peak = peak\n",
    "            \n",
    "    mn = np.argmin(dos[first_peak:second_peak])\n",
    "    \n",
    "    return first_peak + mn\n",
    "\n",
    "def lorentzian(x, x0, amp, width):\n",
    "    return amp * width ** 2 / ((x - x0) ** 2 + width ** 2)\n",
    "\n",
    "def fit_lorentzian(dos):\n",
    "    cutoff = mn_loc(dos)\n",
    "    truncated_dos = dos[:cutoff + 1]\n",
    "    truncated_omega = omega[:cutoff + 1]\n",
    "    params, _ = scipy.optimize.curve_fit(lorentzian, truncated_omega, truncated_dos)\n",
    "\n",
    "#     plt.figure(figsize = (15, 5))\n",
    "#     plt.plot(truncated_omega, lorentzian(truncated_omega, *params))\n",
    "#     plt.plot(truncated_omega, truncated_dos)\n",
    "    params[2] = abs(params[2])\n",
    "    return params"
   ]
  },
  {
   "cell_type": "code",
   "execution_count": 36,
   "id": "4cdbc815",
   "metadata": {},
   "outputs": [
    {
     "name": "stdout",
     "output_type": "stream",
     "text": [
      "step 0 done\n",
      "step 10000 done\n",
      "step 20000 done\n"
     ]
    }
   ],
   "source": [
    "data = UnscaledData(data_loc, X_name = \"dos\", y_name = \"params\")\n",
    "\n",
    "params_arr = []\n",
    "l_params_arr = []\n",
    "for i, dos in enumerate(data.train_X):\n",
    "    params_arr.append(data.train_y[i])\n",
    "    l_params_arr.append(fit_lorentzian(dos))\n",
    "    \n",
    "    if i % 10000 == 0:\n",
    "        print(f\"step {i} done\")\n",
    "    \n",
    "params_arr = np.array(params_arr)\n",
    "l_params_arr = np.array(l_params_arr)"
   ]
  },
  {
   "cell_type": "code",
   "execution_count": 55,
   "id": "2746ab5b",
   "metadata": {},
   "outputs": [],
   "source": [
    "np.savez(\"data/train-set\", params = params_arr, l_params = l_params_arr)"
   ]
  },
  {
   "cell_type": "code",
   "execution_count": 58,
   "id": "c4676596",
   "metadata": {},
   "outputs": [
    {
     "name": "stdout",
     "output_type": "stream",
     "text": [
      "step 0 done\n",
      "(3103, 3)\n",
      "(3103, 3)\n"
     ]
    }
   ],
   "source": [
    "params_arr = []\n",
    "l_params_arr = []\n",
    "for i, dos in enumerate(data.val_X):\n",
    "    params_arr.append(data.val_y[i])\n",
    "    l_params_arr.append(fit_lorentzian(dos))\n",
    "    \n",
    "    if i % 10000 == 0:\n",
    "        print(f\"step {i} done\")\n",
    "    \n",
    "params_arr = np.array(params_arr)\n",
    "l_params_arr = np.array(l_params_arr)\n",
    "print(l_params_arr.shape)\n",
    "print(params_arr.shape)\n",
    "np.savez(\"data/val-set\", params = params_arr, l_params = l_params_arr)"
   ]
  },
  {
   "cell_type": "code",
   "execution_count": 59,
   "id": "55ce8b04",
   "metadata": {},
   "outputs": [
    {
     "name": "stdout",
     "output_type": "stream",
     "text": [
      "step 0 done\n",
      "(3238, 3)\n",
      "(3238, 3)\n"
     ]
    }
   ],
   "source": [
    "params_arr = []\n",
    "l_params_arr = []\n",
    "for i, dos in enumerate(data.test_X):\n",
    "    params_arr.append(data.test_y[i])\n",
    "    l_params_arr.append(fit_lorentzian(dos))\n",
    "    \n",
    "    if i % 10000 == 0:\n",
    "        print(f\"step {i} done\")\n",
    "    \n",
    "params_arr = np.array(params_arr)\n",
    "l_params_arr = np.array(l_params_arr)\n",
    "print(l_params_arr.shape)\n",
    "print(params_arr.shape)\n",
    "np.savez(\"data/test-set\", params = params_arr, l_params = l_params_arr)"
   ]
  },
  {
   "cell_type": "code",
   "execution_count": 51,
   "id": "02f851fc",
   "metadata": {},
   "outputs": [
    {
     "data": {
      "text/plain": [
       "<matplotlib.collections.PathCollection at 0x2ac2bada1e70>"
      ]
     },
     "execution_count": 51,
     "metadata": {},
     "output_type": "execute_result"
    },
    {
     "data": {
      "image/png": "[encoded data removed]",
      "text/plain": [
       "<Figure size 432x288 with 1 Axes>"
      ]
     },
     "metadata": {
      "needs_background": "light"
     },
     "output_type": "display_data"
    }
   ],
   "source": [
    "t1_arr = []\n",
    "x0_arr = []\n",
    "for i, params in enumerate(params_arr):\n",
    "    if params[1] == 0.2 and params[2] == 0.296:\n",
    "        t1_arr.append(params[0])\n",
    "        x0_arr.append(l_params_arr[i][1])\n",
    "        \n",
    "plt.scatter(t1_arr, x0_arr)"
   ]
  }
 ],
 "metadata": {
  "kernelspec": {
   "display_name": "Python 3 (ipykernel)",
   "language": "python",
   "name": "python3"
  },
  "language_info": {
   "codemirror_mode": {
    "name": "ipython",
    "version": 3
   },
   "file_extension": ".py",
   "mimetype": "text/x-python",
   "name": "python",
   "nbconvert_exporter": "python",
   "pygments_lexer": "ipython3",
   "version": "3.10.4"
  }
 },
 "nbformat": 4,
 "nbformat_minor": 5
}
