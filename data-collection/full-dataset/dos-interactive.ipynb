{
 "cells": [
  {
   "cell_type": "code",
   "execution_count": 1,
   "id": "ba4f3cbe",
   "metadata": {},
   "outputs": [
    {
     "name": "stdout",
     "output_type": "stream",
     "text": [
      "/project/wyin/jlee/ml-project/data-collection/full-dataset\n"
     ]
    }
   ],
   "source": [
    "from __future__ import print_function\n",
    "from ipywidgets import interact, interactive, fixed, interact_manual\n",
    "import ipywidgets as widgets\n",
    "import numpy as np\n",
    "import matplotlib.pyplot as plt\n",
    "import os\n",
    "from os import path\n",
    "print(os.getcwd())"
   ]
  },
  {
   "cell_type": "code",
   "execution_count": 2,
   "id": "9d84dcc5",
   "metadata": {},
   "outputs": [],
   "source": [
    "root = '/project/wyin/jlee/ml-project'\n",
    "data_loc = 'data'"
   ]
  },
  {
   "cell_type": "code",
   "execution_count": 3,
   "id": "265814d0",
   "metadata": {},
   "outputs": [],
   "source": [
    "def plot_arpes(ax, file_path, k_path, x1, y1, x2, y2):\n",
    "    arpes = np.loadtxt(path.join(file_path, f'arpes{k_path}.dat'))\n",
    "    k_num = arpes.shape[1] - 1\n",
    "    w = arpes[:,0]\n",
    "    k = np.arange(0, k_num)\n",
    "\n",
    "    K, W = np.meshgrid(k,w)\n",
    "    intensity = arpes[:,1:]\n",
    "    c = ax.pcolormesh(K, W, intensity, cmap=plt.cm.get_cmap('Greys_r'))\n",
    "    plt.colorbar(c, ax=ax)\n",
    "    \n",
    "    ax.set_title(k_path)\n",
    "    ax.set_xlabel('K')\n",
    "    ax.set_ylabel('W')\n",
    "    \n",
    "    #Create xticks\n",
    "    tick_pos = np.linspace(0, k_num - 1, 4)\n",
    "\n",
    "    kx = x1 + (x2 - x1) * tick_pos / (k_num - 1)\n",
    "    ky = y1 + (y2 - y1) * tick_pos / (k_num - 1)\n",
    "    \n",
    "    tick_labels = [f'({x:.2f}, {y:.2f})' for (x, y) in zip(kx, ky)]\n",
    "    \n",
    "    ax.set_xticks(tick_pos)\n",
    "    ax.set_xticklabels(tick_labels)\n",
    "    \n",
    "def plot_dos(ax, file_path):\n",
    "    dos = np.loadtxt(os.path.join(file_path, 'dos.dat'))\n",
    "    ax.set_ylim([0, 1.5])\n",
    "    ax.plot(dos[:,0], dos[:,1])"
   ]
  },
  {
   "cell_type": "code",
   "execution_count": 3,
   "id": "79e65d38",
   "metadata": {},
   "outputs": [
    {
     "data": {
      "application/vnd.jupyter.widget-view+json": {
       "model_id": "d2dfdb1e96b24adf9bf387c0f758664f",
       "version_major": 2,
       "version_minor": 0
      },
      "text/plain": [
       "interactive(children=(FloatSlider(value=0.0, description='t1', max=0.5, min=-0.5, step=0.02), FloatSlider(valu…"
      ]
     },
     "metadata": {},
     "output_type": "display_data"
    },
    {
     "data": {
      "text/plain": [
       "<function __main__.interact_dos(t1, t2, j)>"
      ]
     },
     "execution_count": 3,
     "metadata": {},
     "output_type": "execute_result"
    }
   ],
   "source": [
    "def interact_dos(t1, t2, j):\n",
    "    fig = plt.figure(figsize=(15, 5))\n",
    "    file_path = os.path.join(data_loc, f'param_{t1:.2f}_{t2:.2f}_{j:.3f}')\n",
    "    \n",
    "    dos = np.loadtxt(os.path.join(file_path, 'dos.dat'))\n",
    "    plt.ylim([0, 1.5])\n",
    "    plt.plot(dos[:,0], dos[:,1])\n",
    "\n",
    "interact(interact_dos, t1 = (-0.50, 0.50, 0.02), t2 = (-0.50, 0.50, 0.02), j = (0.2, 1.0, 0.016))"
   ]
  },
  {
   "cell_type": "code",
   "execution_count": 13,
   "id": "8f2487ba",
   "metadata": {},
   "outputs": [
    {
     "data": {
      "application/vnd.jupyter.widget-view+json": {
       "model_id": "5f8d6568af7344ffabadae47264c879f",
       "version_major": 2,
       "version_minor": 0
      },
      "text/plain": [
       "interactive(children=(FloatSlider(value=0.0, description='t1', max=0.5, min=-0.5, step=0.02), FloatSlider(valu…"
      ]
     },
     "metadata": {},
     "output_type": "display_data"
    },
    {
     "data": {
      "text/plain": [
       "<function __main__.interact_dos(t1, t2, j)>"
      ]
     },
     "execution_count": 13,
     "metadata": {},
     "output_type": "execute_result"
    }
   ],
   "source": [
    "def interact_arpes(t1, t2, j):\n",
    "    fig = plt.figure(figsize=(15, 5))\n",
    "    file_path = os.path.join(data_loc, f'param_{t1:.2f}_{t2:.2f}_{j:.3f}')\n",
    "    \n",
    "    dos = np.loadtxt(os.path.join(file_path, 'dos.dat'))\n",
    "    plt.ylim([0, 1.5])\n",
    "    plt.plot(dos[:,0], dos[:,1])\n",
    "\n",
    "interact(interact_dos, t1 = (-0.50, 0.50, 0.02), t2 = (-0.50, 0.50, 0.02), j = (0.2, 1.0, 0.016))"
   ]
  }
 ],
 "metadata": {
  "kernelspec": {
   "display_name": "Python 3 (ipykernel)",
   "language": "python",
   "name": "python3"
  },
  "language_info": {
   "codemirror_mode": {
    "name": "ipython",
    "version": 3
   },
   "file_extension": ".py",
   "mimetype": "text/x-python",
   "name": "python",
   "nbconvert_exporter": "python",
   "pygments_lexer": "ipython3",
   "version": "3.10.4"
  }
 },
 "nbformat": 4,
 "nbformat_minor": 5
}
