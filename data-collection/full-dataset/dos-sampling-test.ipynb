{
 "cells": [
  {
   "cell_type": "code",
   "execution_count": 2,
   "id": "a994998d",
   "metadata": {},
   "outputs": [
    {
     "name": "stdout",
     "output_type": "stream",
     "text": [
      "/project/wyin/jlee/ml-project/data-collection/full-dataset\n"
     ]
    }
   ],
   "source": [
    "from __future__ import print_function\n",
    "from ipywidgets import interact, interactive, fixed, interact_manual\n",
    "import ipywidgets as widgets\n",
    "import numpy as np\n",
    "import matplotlib.pyplot as plt\n",
    "import os\n",
    "from os import path\n",
    "root = '/project/wyin/jlee/ml-project'\n",
    "data_loc = 'data'\n",
    "print(os.getcwd())"
   ]
  },
  {
   "cell_type": "code",
   "execution_count": 5,
   "id": "1d498c96",
   "metadata": {},
   "outputs": [
    {
     "data": {
      "application/vnd.jupyter.widget-view+json": {
       "model_id": "400d036d05be4a82a189366fce669045",
       "version_major": 2,
       "version_minor": 0
      },
      "text/plain": [
       "interactive(children=(FloatSlider(value=0.0, description='t1', max=0.5, min=-0.5, step=0.02), FloatSlider(valu…"
      ]
     },
     "metadata": {},
     "output_type": "display_data"
    },
    {
     "data": {
      "text/plain": [
       "<function __main__.interact_dos(t1, t2, j, freq)>"
      ]
     },
     "execution_count": 5,
     "metadata": {},
     "output_type": "execute_result"
    }
   ],
   "source": [
    "def interact_dos(t1, t2, j, freq):\n",
    "    fig = plt.figure(figsize=(15, 5))\n",
    "    file_path = os.path.join(data_loc, f'param_{t1:.2f}_{t2:.2f}_{j:.3f}')\n",
    "    \n",
    "    dos = np.loadtxt(os.path.join(file_path, 'dos.dat'))\n",
    "    dos_sample = dos[0:1201:freq]\n",
    "    plt.ylim([0, 1.5])\n",
    "    plt.plot(dos_sample[:,0], dos_sample[:,1])\n",
    "\n",
    "interact(interact_dos, t1 = (-0.50, 0.50, 0.02), t2 = (-0.50, 0.50, 0.02), j = (0.2, 1.0, 0.016), freq = (1, 10, 1))"
   ]
  }
 ],
 "metadata": {
  "kernelspec": {
   "display_name": "Python 3 (ipykernel)",
   "language": "python",
   "name": "python3"
  },
  "language_info": {
   "codemirror_mode": {
    "name": "ipython",
    "version": 3
   },
   "file_extension": ".py",
   "mimetype": "text/x-python",
   "name": "python",
   "nbconvert_exporter": "python",
   "pygments_lexer": "ipython3",
   "version": "3.10.4"
  }
 },
 "nbformat": 4,
 "nbformat_minor": 5
}
