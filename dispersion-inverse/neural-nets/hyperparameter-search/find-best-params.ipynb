{
 "cells": [
  {
   "cell_type": "code",
   "execution_count": 1,
   "id": "23b1de53",
   "metadata": {},
   "outputs": [],
   "source": [
    "import numpy as np\n",
    "import matplotlib.pyplot as plt\n",
    "import os\n",
    "import sys\n",
    "root = \"/project/wyin/jlee/ml-project\"\n",
    "util_loc = os.path.join(root, 'utils')\n",
    "sys.path.append(util_loc)\n",
    "data_loc = os.path.join(root, \"dispersion-prediction/data\")\n",
    "from utilities import order_validation"
   ]
  },
  {
   "cell_type": "code",
   "execution_count": 12,
   "id": "a17601ce",
   "metadata": {},
   "outputs": [],
   "source": [
    "error_pairs = order_validation(os.path.join(root, \"dispersion-inverse/neural-nets/hyperparameter-search/val-ends/arch-search-30-min\"))"
   ]
  },
  {
   "cell_type": "code",
   "execution_count": 13,
   "id": "3fd7c154",
   "metadata": {},
   "outputs": [
    {
     "name": "stdout",
     "output_type": "stream",
     "text": [
      "(2.3621896616532467e-06, '[193, 165, 138, 111, 84, 57, 30, 3],0.005,512,0.5')\n",
      "(2.6670522856875323e-06, '[193, 164, 141, 118, 95, 72, 49, 26, 3],0.005,512,0.5')\n",
      "(2.750282646957203e-06, '[193, 171, 150, 129, 108, 87, 66, 45, 24, 3],0.005,512,0.5')\n",
      "(2.9493630790966563e-06, '[193, 158, 127, 96, 65, 34, 3],0.005,512,0.5')\n",
      "(2.9753578019153792e-06, '[193, 155, 117, 79, 41, 3],0.005,512,0.5')\n",
      "(3.098660499745165e-06, '[193, 144, 97, 50, 3],0.005,512,0.5')\n",
      "(5.358252110454487e-06, '[193, 129, 66, 3],0.005,512,0.5')\n",
      "(4.414036447997205e-05, '[193, 98, 3],0.005,512,0.5')\n",
      "(0.015699688345193863, '[193, 3],0.005,512,0.5')\n"
     ]
    }
   ],
   "source": [
    "for pair in error_pairs:\n",
    "    print(pair)"
   ]
  },
  {
   "cell_type": "code",
   "execution_count": 5,
   "id": "73a2451d",
   "metadata": {},
   "outputs": [
    {
     "name": "stdout",
     "output_type": "stream",
     "text": [
      "[193, 155, 117, 79, 41, 3],\n",
      "[193, 164, 141, 118, 95, 72, 49, 26, 3],\n",
      "[193, 158, 127, 96, 65, 34, 3],\n",
      "[193, 165, 138, 111, 84, 57, 30, 3],\n",
      "[193, 171, 150, 129, 108, 87, 66, 45, 24, 3],\n",
      "[193, 144, 97, 50, 3],\n",
      "[193, 129, 66, 3],\n",
      "[193, 98, 3],\n",
      "[193, 3],\n"
     ]
    }
   ],
   "source": [
    "for error, arch in error_pairs[:12]:\n",
    "    begin = arch.index(\"[\")\n",
    "    end = arch.index(\"]\")\n",
    "    print(arch[begin:end + 1] + ',')"
   ]
  }
 ],
 "metadata": {
  "kernelspec": {
   "display_name": "Python 3 (ipykernel)",
   "language": "python",
   "name": "python3"
  },
  "language_info": {
   "codemirror_mode": {
    "name": "ipython",
    "version": 3
   },
   "file_extension": ".py",
   "mimetype": "text/x-python",
   "name": "python",
   "nbconvert_exporter": "python",
   "pygments_lexer": "ipython3",
   "version": "3.10.4"
  }
 },
 "nbformat": 4,
 "nbformat_minor": 5
}
