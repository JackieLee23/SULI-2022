{
 "cells": [
  {
   "cell_type": "code",
   "execution_count": 1,
   "id": "6f6358b1",
   "metadata": {},
   "outputs": [
    {
     "name": "stdout",
     "output_type": "stream",
     "text": [
      "[193, 3]\n",
      "[193, 98, 3]\n",
      "[193, 129, 66, 3]\n",
      "[193, 144, 97, 50, 3]\n",
      "[193, 155, 117, 79, 41, 3]\n",
      "[193, 158, 127, 96, 65, 34, 3]\n",
      "[193, 165, 138, 111, 84, 57, 30, 3]\n",
      "[193, 164, 141, 118, 95, 72, 49, 26, 3]\n",
      "[193, 171, 150, 129, 108, 87, 66, 45, 24, 3]\n"
     ]
    }
   ],
   "source": [
    "architectures = []\n",
    "for n_layers in range (9):\n",
    "    \n",
    "    #Linear architecture\n",
    "    layer_sizes = []\n",
    "    for i in range(n_layers, 0, -1):\n",
    "        layer_sizes.append(3 + i * (190 // (n_layers + 1)))\n",
    "\n",
    "    architectures.append(layer_sizes)\n",
    "\n",
    "for layer_sizes in architectures:\n",
    "    layer_sizes.insert(0, 193)\n",
    "    layer_sizes.append(3)\n",
    "    print(layer_sizes)"
   ]
  }
 ],
 "metadata": {
  "kernelspec": {
   "display_name": "Python 3 (ipykernel)",
   "language": "python",
   "name": "python3"
  },
  "language_info": {
   "codemirror_mode": {
    "name": "ipython",
    "version": 3
   },
   "file_extension": ".py",
   "mimetype": "text/x-python",
   "name": "python",
   "nbconvert_exporter": "python",
   "pygments_lexer": "ipython3",
   "version": "3.10.4"
  }
 },
 "nbformat": 4,
 "nbformat_minor": 5
}
