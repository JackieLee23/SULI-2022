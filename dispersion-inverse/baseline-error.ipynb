{
 "cells": [
  {
   "cell_type": "code",
   "execution_count": 1,
   "id": "299828f0",
   "metadata": {},
   "outputs": [],
   "source": [
    "import numpy as np\n",
    "import matplotlib.pyplot as plt\n",
    "import os\n",
    "import sys\n",
    "root = \"/project/wyin/jlee/ml-project\"\n",
    "\n",
    "util_loc = os.path.join(root, 'utils')\n",
    "sys.path.append(util_loc)\n",
    "data_loc = os.path.join(root, \"dispersion-prediction/data\")\n",
    "from utilities import baseline_errors"
   ]
  },
  {
   "cell_type": "code",
   "execution_count": 2,
   "id": "04ea64d2",
   "metadata": {},
   "outputs": [],
   "source": [
    "mean, std = baseline_errors(data_loc, y_name = \"params\")"
   ]
  },
  {
   "cell_type": "code",
   "execution_count": 3,
   "id": "8d18b237",
   "metadata": {},
   "outputs": [
    {
     "name": "stdout",
     "output_type": "stream",
     "text": [
      "mean error: 0.07591950520885789, standard deviation: 0.04002941229232672\n"
     ]
    }
   ],
   "source": [
    "print(f\"mean error: {mean}, standard deviation: {std}\")"
   ]
  },
  {
   "cell_type": "code",
   "execution_count": 5,
   "id": "858e13a0",
   "metadata": {},
   "outputs": [
    {
     "name": "stdout",
     "output_type": "stream",
     "text": [
      "0.07591950520885787\n"
     ]
    }
   ],
   "source": [
    "test_set = np.load(os.path.join(data_loc, 'test-set.npz'))\n",
    "test_y = test_set['params']\n",
    "\n",
    "means = np.mean(test_y, axis = 0)\n",
    "\n",
    "full_means = np.tile(means, (test_y.shape[0],1))\n",
    "\n",
    "print(np.mean((test_y - full_means)**2))"
   ]
  }
 ],
 "metadata": {
  "kernelspec": {
   "display_name": "Python 3 (ipykernel)",
   "language": "python",
   "name": "python3"
  },
  "language_info": {
   "codemirror_mode": {
    "name": "ipython",
    "version": 3
   },
   "file_extension": ".py",
   "mimetype": "text/x-python",
   "name": "python",
   "nbconvert_exporter": "python",
   "pygments_lexer": "ipython3",
   "version": "3.10.4"
  }
 },
 "nbformat": 4,
 "nbformat_minor": 5
}
