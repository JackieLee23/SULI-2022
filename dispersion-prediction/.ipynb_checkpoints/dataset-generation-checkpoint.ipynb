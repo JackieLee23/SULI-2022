{
 "cells": [
  {
   "cell_type": "code",
   "execution_count": 9,
   "id": "ecc0354b",
   "metadata": {},
   "outputs": [],
   "source": [
    "import numpy as np\n",
    "import matplotlib.pyplot as plt\n",
    "import os\n",
    "import sys\n",
    "root = \"/project/wyin/jlee/ml-project\"\n",
    "util_loc = os.path.join(root, \"utils\")\n",
    "sys.path.append(util_loc)\n",
    "data_loc = os.path.join(root, \"dos-prediction-full/data\")\n",
    "data_loc_2 = os.path.join(root, \"data-collection/full-dataset/data\")\n",
    "from utilities import UnscaledData"
   ]
  },
  {
   "cell_type": "code",
   "execution_count": 8,
   "id": "a51aeee2",
   "metadata": {},
   "outputs": [
    {
     "name": "stdout",
     "output_type": "stream",
     "text": [
      "(106120, 3)\n"
     ]
    }
   ],
   "source": [
    "data = UnscaledData(data_loc, X_name = \"params\", y_name = \"dos\")"
   ]
  },
  {
   "cell_type": "code",
   "execution_count": 12,
   "id": "11cd94db",
   "metadata": {},
   "outputs": [
    {
     "name": "stdout",
     "output_type": "stream",
     "text": [
      "0 completed!\n",
      "10000 completed!\n",
      "20000 completed!\n",
      "30000 completed!\n",
      "40000 completed!\n",
      "50000 completed!\n",
      "60000 completed!\n",
      "70000 completed!\n",
      "80000 completed!\n",
      "90000 completed!\n",
      "100000 completed!\n",
      "(106120, 193)\n"
     ]
    }
   ],
   "source": [
    "disp_arr = []\n",
    "for i, (t1, t2, j) in enumerate(data.train_X):\n",
    "    disp = np.loadtxt(os.path.join(data_loc_2, f'param_{t1:.2f}_{t2:.2f}_{j:.3f}', 'disp_00-11-10-00.dat'))\n",
    "    disp_arr.append(disp[:,1])\n",
    "    \n",
    "    if i % 10000 == 0:\n",
    "        print(f\"{i} completed!\")\n",
    "    \n",
    "disp_arr = np.array(disp_arr)\n",
    "print(disp_arr.shape)"
   ]
  },
  {
   "cell_type": "code",
   "execution_count": 13,
   "id": "5819c491",
   "metadata": {},
   "outputs": [],
   "source": [
    "np.savez(\"data/train-set\", params = data.train_X, disp = disp_arr)"
   ]
  },
  {
   "cell_type": "code",
   "execution_count": 20,
   "id": "5f067359",
   "metadata": {},
   "outputs": [
    {
     "name": "stdout",
     "output_type": "stream",
     "text": [
      "0 completed!\n",
      "10000 completed!\n",
      "(13265, 193)\n"
     ]
    }
   ],
   "source": [
    "disp_arr = []\n",
    "for i, (t1, t2, j) in enumerate(data.val_X):\n",
    "    disp = np.loadtxt(os.path.join(data_loc_2, f'param_{t1:.2f}_{t2:.2f}_{j:.3f}', 'disp_00-11-10-00.dat'))\n",
    "    disp_arr.append(disp[:,1])\n",
    "    \n",
    "    if i % 10000 == 0:\n",
    "        print(f\"{i} completed!\")\n",
    "    \n",
    "disp_arr = np.array(disp_arr)\n",
    "print(disp_arr.shape)"
   ]
  },
  {
   "cell_type": "code",
   "execution_count": 21,
   "id": "1e12ac9f",
   "metadata": {},
   "outputs": [],
   "source": [
    "np.savez(\"data/val-set\", params = data.val_X, disp = disp_arr)"
   ]
  },
  {
   "cell_type": "code",
   "execution_count": 22,
   "id": "586b73b7",
   "metadata": {},
   "outputs": [
    {
     "name": "stdout",
     "output_type": "stream",
     "text": [
      "0 completed!\n",
      "10000 completed!\n",
      "(13266, 193)\n"
     ]
    }
   ],
   "source": [
    "disp_arr = []\n",
    "for i, (t1, t2, j) in enumerate(data.test_X):\n",
    "    disp = np.loadtxt(os.path.join(data_loc_2, f'param_{t1:.2f}_{t2:.2f}_{j:.3f}', 'disp_00-11-10-00.dat'))\n",
    "    disp_arr.append(disp[:,1])\n",
    "    \n",
    "    if i % 10000 == 0:\n",
    "        print(f\"{i} completed!\")\n",
    "    \n",
    "disp_arr = np.array(disp_arr)\n",
    "print(disp_arr.shape)"
   ]
  },
  {
   "cell_type": "code",
   "execution_count": 23,
   "id": "3722774d",
   "metadata": {},
   "outputs": [],
   "source": [
    "np.savez(\"data/test-set\", params = data.test_X, disp = disp_arr)"
   ]
  },
  {
   "cell_type": "code",
   "execution_count": 31,
   "id": "9eba0b55",
   "metadata": {},
   "outputs": [
    {
     "name": "stdout",
     "output_type": "stream",
     "text": [
      "(13265, 193)\n"
     ]
    }
   ],
   "source": [
    "train_set = np.load(\"data/train-set.npz\")\n",
    "val_set = np.load(\"data/val-set.npz\")\n",
    "test_set = np.load(\"data/test-set.npz\")\n",
    "\n",
    "print(val_set[\"disp\"].shape)"
   ]
  }
 ],
 "metadata": {
  "kernelspec": {
   "display_name": "Python 3 (ipykernel)",
   "language": "python",
   "name": "python3"
  },
  "language_info": {
   "codemirror_mode": {
    "name": "ipython",
    "version": 3
   },
   "file_extension": ".py",
   "mimetype": "text/x-python",
   "name": "python",
   "nbconvert_exporter": "python",
   "pygments_lexer": "ipython3",
   "version": "3.10.4"
  }
 },
 "nbformat": 4,
 "nbformat_minor": 5
}
