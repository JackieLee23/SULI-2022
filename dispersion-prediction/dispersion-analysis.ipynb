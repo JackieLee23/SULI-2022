{
 "cells": [
  {
   "cell_type": "code",
   "execution_count": 4,
   "id": "69847503",
   "metadata": {},
   "outputs": [],
   "source": [
    "import numpy as np\n",
    "import matplotlib.pyplot as plt\n",
    "import os\n",
    "from ipywidgets import interact, interactive, fixed, interact_manual\n",
    "root = \"/project/wyin/jlee/ml-project\"\n",
    "data_loc = os.path.join(root, \"data-collection/full-dataset/data\")"
   ]
  },
  {
   "cell_type": "code",
   "execution_count": 5,
   "id": "3be4f741",
   "metadata": {},
   "outputs": [
    {
     "name": "stdout",
     "output_type": "stream",
     "text": [
      "(193, 6)\n"
     ]
    },
    {
     "data": {
      "text/plain": [
       "<matplotlib.collections.PathCollection at 0x2b3a4aa0bbe0>"
      ]
     },
     "execution_count": 5,
     "metadata": {},
     "output_type": "execute_result"
    },
    {
     "data": {
      "image/png": "[encoded data removed]",
      "text/plain": [
       "<Figure size 1080x360 with 1 Axes>"
      ]
     },
     "metadata": {
      "needs_background": "light"
     },
     "output_type": "display_data"
    }
   ],
   "source": [
    "disp_path = os.path.join(data_loc, \"param_-0.16_0.30_0.200\", \"disp_00-11-10-00.dat\")\n",
    "test_disp = np.loadtxt(disp_path)\n",
    "\n",
    "print(test_disp.shape)\n",
    "plt.figure(figsize = (15, 5))\n",
    "plt.scatter(test_disp[:,0], test_disp[:,1])"
   ]
  },
  {
   "cell_type": "code",
   "execution_count": 7,
   "id": "bb9e9db9",
   "metadata": {},
   "outputs": [
    {
     "data": {
      "application/vnd.jupyter.widget-view+json": {
       "model_id": "84477649f6a64743b908a709cf863050",
       "version_major": 2,
       "version_minor": 0
      },
      "text/plain": [
       "interactive(children=(FloatSlider(value=0.0, description='t1', max=0.5, min=-0.5, step=0.02), FloatSlider(valu…"
      ]
     },
     "metadata": {},
     "output_type": "display_data"
    },
    {
     "data": {
      "text/plain": [
       "<function __main__.interact_disp(t1, t2, j)>"
      ]
     },
     "execution_count": 7,
     "metadata": {},
     "output_type": "execute_result"
    }
   ],
   "source": [
    "def interact_disp(t1, t2, j):\n",
    "    plt.figure(figsize=(15, 5))\n",
    "    file_path = os.path.join(data_loc, f'param_{t1:.2f}_{t2:.2f}_{j:.3f}')\n",
    "    \n",
    "    plt.ylim(-3, 3)\n",
    "    disp = np.loadtxt(os.path.join(file_path, 'disp_00-11-10-00.dat'))\n",
    "    plt.plot(disp[:,0], disp[:,1])\n",
    "    plt.ylabel(\"Energy\", size = 20)\n",
    "    plt.xlabel(\"k\", size = 20)\n",
    "\n",
    "interact(interact_disp, t1 = (-0.50, 0.50, 0.02), t2 = (-0.50, 0.50, 0.02), j = (0.2, 1.0, 0.016))"
   ]
  }
 ],
 "metadata": {
  "kernelspec": {
   "display_name": "Python 3 (ipykernel)",
   "language": "python",
   "name": "python3"
  },
  "language_info": {
   "codemirror_mode": {
    "name": "ipython",
    "version": 3
   },
   "file_extension": ".py",
   "mimetype": "text/x-python",
   "name": "python",
   "nbconvert_exporter": "python",
   "pygments_lexer": "ipython3",
   "version": "3.10.4"
  }
 },
 "nbformat": 4,
 "nbformat_minor": 5
}
