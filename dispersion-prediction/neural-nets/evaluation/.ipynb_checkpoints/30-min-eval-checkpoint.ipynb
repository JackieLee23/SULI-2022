{
 "cells": [
  {
   "cell_type": "code",
   "execution_count": 1,
   "id": "85079dfe",
   "metadata": {},
   "outputs": [],
   "source": [
    "import numpy as np\n",
    "import matplotlib.pyplot as plt\n",
    "import numpy as np\n",
    "import matplotlib.pyplot as plt\n",
    "import os\n",
    "import sys\n",
    "root = \"/project/wyin/jlee/ml-project\"\n",
    "util_loc = os.path.join(root, 'utils')\n",
    "sys.path.append(util_loc)\n",
    "data_loc = os.path.join(root, \"dispersion-prediction/data\")\n",
    "from utilities import ScaledData, see_results, get_model"
   ]
  },
  {
   "cell_type": "code",
   "execution_count": 3,
   "id": "d53666ae",
   "metadata": {},
   "outputs": [],
   "source": [
    "model_path = os.path.join(root,\n",
    "\"dispersion-prediction/neural-nets/hyperparameter-search/logs/arch-search-30-min/[3, 204, 408, 612, 816, 1020, 193],0.001,512,0.5\")\n",
    "model = get_model(model_path)"
   ]
  },
  {
   "cell_type": "code",
   "execution_count": null,
   "id": "20f88779",
   "metadata": {},
   "outputs": [],
   "source": [
    "data = ScaledData(data_loc)\n",
    "predicted = "
   ]
  },
  {
   "cell_type": "code",
   "execution_count": null,
   "id": "0791faf0",
   "metadata": {},
   "outputs": [],
   "source": []
  }
 ],
 "metadata": {
  "kernelspec": {
   "display_name": "Python 3 (ipykernel)",
   "language": "python",
   "name": "python3"
  },
  "language_info": {
   "codemirror_mode": {
    "name": "ipython",
    "version": 3
   },
   "file_extension": ".py",
   "mimetype": "text/x-python",
   "name": "python",
   "nbconvert_exporter": "python",
   "pygments_lexer": "ipython3",
   "version": "3.10.4"
  }
 },
 "nbformat": 4,
 "nbformat_minor": 5
}
