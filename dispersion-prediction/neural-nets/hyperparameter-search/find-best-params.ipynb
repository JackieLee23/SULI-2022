{
 "cells": [
  {
   "cell_type": "code",
   "execution_count": 6,
   "id": "23b1de53",
   "metadata": {},
   "outputs": [],
   "source": [
    "import numpy as np\n",
    "import matplotlib.pyplot as plt\n",
    "import os\n",
    "import sys\n",
    "root = \"/project/wyin/jlee/ml-project\"\n",
    "util_loc = os.path.join(root, 'utils')\n",
    "sys.path.append(util_loc)\n",
    "data_loc = os.path.join(root, \"dispersion-prediction/data\")\n",
    "from utilities import order_validation"
   ]
  },
  {
   "cell_type": "code",
   "execution_count": 7,
   "id": "a17601ce",
   "metadata": {},
   "outputs": [],
   "source": [
    "error_pairs = order_validation(os.path.join(root, \"dispersion-prediction/neural-nets/hyperparameter-search/val-ends/arch-search-30-min\"))"
   ]
  },
  {
   "cell_type": "code",
   "execution_count": 8,
   "id": "73a2451d",
   "metadata": {},
   "outputs": [
    {
     "name": "stdout",
     "output_type": "stream",
     "text": [
      "[3, 204, 408, 612, 816, 1020, 193],\n",
      "[3, 512, 512, 512, 512, 512, 512, 512, 193],\n",
      "[3, 512, 512, 512, 512, 193],\n",
      "[3, 85, 170, 255, 340, 425, 510, 193],\n",
      "[3, 64, 128, 192, 256, 320, 384, 448, 512, 193],\n",
      "[3, 512, 512, 512, 512, 512, 193],\n",
      "[3, 73, 146, 219, 292, 365, 438, 511, 193],\n",
      "[3, 128, 256, 384, 512, 193],\n",
      "[3, 1024, 1024, 1024, 1024, 193],\n",
      "[3, 512, 512, 512, 193],\n",
      "[3, 170, 340, 510, 680, 850, 1020, 193],\n",
      "[3, 341, 682, 1023, 193],\n"
     ]
    }
   ],
   "source": [
    "for error, arch in error_pairs[:12]:\n",
    "    begin = arch.index(\"[\")\n",
    "    end = arch.index(\"]\")\n",
    "    print(arch[begin:end + 1] + ',')"
   ]
  }
 ],
 "metadata": {
  "kernelspec": {
   "display_name": "Python 3 (ipykernel)",
   "language": "python",
   "name": "python3"
  },
  "language_info": {
   "codemirror_mode": {
    "name": "ipython",
    "version": 3
   },
   "file_extension": ".py",
   "mimetype": "text/x-python",
   "name": "python",
   "nbconvert_exporter": "python",
   "pygments_lexer": "ipython3",
   "version": "3.10.4"
  }
 },
 "nbformat": 4,
 "nbformat_minor": 5
}
